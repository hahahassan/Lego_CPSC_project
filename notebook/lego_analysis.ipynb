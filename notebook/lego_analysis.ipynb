{
 "cells": [
  {
   "cell_type": "code",
   "execution_count": 1,
   "metadata": {},
   "outputs": [],
   "source": [
    "import pandas as pd\n",
    "import numpy as np\n",
    "import matplotlib.pyplot as plt\n",
    "import seaborn as sns\n",
    "import glob\n",
    "import os\n",
    "%matplotlib inline"
   ]
  },
  {
   "cell_type": "markdown",
   "metadata": {},
   "source": [
    "# reading csv files"
   ]
  },
  {
   "cell_type": "code",
   "execution_count": 6,
   "metadata": {},
   "outputs": [
    {
     "name": "stdout",
     "output_type": "stream",
     "text": [
      "..\\data\\colors.csv\n",
      "..\\data\\inventories.csv\n",
      "..\\data\\inventory_parts.csv\n",
      "..\\data\\inventory_sets.csv\n",
      "..\\data\\parts.csv\n",
      "..\\data\\part_categories.csv\n",
      "..\\data\\sets.csv\n",
      "..\\data\\themes.csv\n"
     ]
    }
   ],
   "source": [
    "\n",
    "# Path to the data folder relative to the notebooks folder\n",
    "folder_path = os.path.join('..', 'data')\n",
    "\n",
    "# Construct the pattern to match all CSV files in the folder\n",
    "pattern = os.path.join(folder_path, '*.csv')\n",
    "\n",
    "# Use glob.glob to find all files matching the pattern\n",
    "csv_files = glob.glob(pattern)\n",
    "\n",
    "# Print the list of CSV file paths\n",
    "for csv_file in csv_files:\n",
    "    print(csv_file)\n",
    "    csv_file_name = csv_file.split('\\\\')\n",
    "\n"
   ]
  },
  {
   "cell_type": "code",
   "execution_count": 5,
   "metadata": {},
   "outputs": [
    {
     "name": "stdout",
     "output_type": "stream",
     "text": [
      " Volume in drive C is Windows\n",
      " Volume Serial Number is AE26-3A74\n",
      "\n",
      " Directory of c:\\Users\\wudan\\Langara_Xiaoliang\\CPSC 4810\\project\\Lego_CPSC_project\\notebook\n",
      "\n",
      "2024-03-09  12:36 PM    <DIR>          .\n",
      "2024-03-09  12:32 PM    <DIR>          ..\n",
      "2024-03-09  12:36 PM               234 lego_analysis.ipynb\n",
      "               1 File(s)            234 bytes\n",
      "               2 Dir(s)  35,747,381,248 bytes free\n"
     ]
    }
   ],
   "source": []
  },
  {
   "cell_type": "code",
   "execution_count": null,
   "metadata": {},
   "outputs": [],
   "source": []
  }
 ],
 "metadata": {
  "kernelspec": {
   "display_name": "Python 3",
   "language": "python",
   "name": "python3"
  },
  "language_info": {
   "codemirror_mode": {
    "name": "ipython",
    "version": 3
   },
   "file_extension": ".py",
   "mimetype": "text/x-python",
   "name": "python",
   "nbconvert_exporter": "python",
   "pygments_lexer": "ipython3",
   "version": "3.11.8"
  }
 },
 "nbformat": 4,
 "nbformat_minor": 2
}
