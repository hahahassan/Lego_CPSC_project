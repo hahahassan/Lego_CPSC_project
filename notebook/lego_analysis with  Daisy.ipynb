{
 "cells": [
  {
   "cell_type": "markdown",
   "metadata": {},
   "source": [
    "# import packages"
   ]
  },
  {
   "cell_type": "code",
   "execution_count": 5,
   "metadata": {
    "ExecuteTime": {
     "end_time": "2024-03-19T02:56:01.320660100Z",
     "start_time": "2024-03-19T02:56:01.163940100Z"
    }
   },
   "outputs": [],
   "source": [
    "import pandas as pd\n",
    "import numpy as np\n",
    "import matplotlib.pyplot as plt\n",
    "import seaborn as sns\n",
    "import glob\n",
    "import os\n",
    "%matplotlib inline"
   ]
  },
  {
   "cell_type": "markdown",
   "metadata": {},
   "source": [
    "# reading csv files"
   ]
  },
  {
   "cell_type": "code",
   "execution_count": 6,
   "metadata": {
    "ExecuteTime": {
     "end_time": "2024-03-19T02:56:01.352163900Z",
     "start_time": "2024-03-19T02:56:01.179835200Z"
    }
   },
   "outputs": [
    {
     "name": "stdout",
     "output_type": "stream",
     "text": [
      "..\\data\\colors.csv\n",
      "..\\data\\inventories.csv\n",
      "..\\data\\inventory_parts.csv\n",
      "..\\data\\inventory_sets.csv\n",
      "..\\data\\parts.csv\n",
      "..\\data\\part_categories.csv\n",
      "..\\data\\sets.csv\n",
      "..\\data\\themes.csv\n"
     ]
    }
   ],
   "source": [
    "\n",
    "# Path to the data folder relative to the notebooks folder\n",
    "folder_path = os.path.join('..','data')\n",
    "\n",
    "# Construct the pattern to match all CSV files in the folder\n",
    "pattern = os.path.join(folder_path, '*.csv')\n",
    "\n",
    "# Use glob.glob to find all files matching the pattern\n",
    "csv_files = glob.glob(pattern)\n",
    "\n",
    "# Print the list of CSV file paths\n",
    "for csv_file in csv_files:\n",
    "    print(csv_file)\n",
    "    # print(csv_file.split('\\\\')[-1].split('.')[0])\n",
    "    \n",
    "\n"
   ]
  },
  {
   "cell_type": "code",
   "execution_count": 7,
   "metadata": {
    "ExecuteTime": {
     "end_time": "2024-03-19T02:56:02.023160Z",
     "start_time": "2024-03-19T02:56:01.185638900Z"
    }
   },
   "outputs": [],
   "source": [
    "# Dictionary to hold your dataframes\n",
    "dataframes = {}\n",
    "\n",
    "for file_path in csv_files:\n",
    "    # Extract the file name without extension\n",
    "    file_name = os.path.splitext(os.path.basename(file_path))[0]\n",
    "    # Read the CSV file and assign it to a key in the dictionary\n",
    "    dataframes[file_name] = pd.read_csv(file_path)"
   ]
  },
  {
   "cell_type": "code",
   "execution_count": 8,
   "metadata": {
    "ExecuteTime": {
     "end_time": "2024-03-19T02:56:02.024138400Z",
     "start_time": "2024-03-19T02:56:01.399388500Z"
    }
   },
   "outputs": [
    {
     "name": "stdout",
     "output_type": "stream",
     "text": [
      "colors\n",
      "   id            name     rgb is_trans\n",
      "0  -1         Unknown  0033B2        f\n",
      "1   0           Black  05131D        f\n",
      "2   1            Blue  0055BF        f\n",
      "3   2           Green  237841        f\n",
      "4   3  Dark Turquoise  008F9B        f\n",
      "-----------------------\n",
      "inventories\n",
      "   id  version set_num\n",
      "0   1        1  7922-1\n",
      "1   3        1  3931-1\n",
      "2   4        1  6942-1\n",
      "3  15        1  5158-1\n",
      "4  16        1   903-1\n",
      "-----------------------\n",
      "inventory_parts\n",
      "   inventory_id     part_num  color_id  quantity is_spare\n",
      "0             1     48379c01        72         1        f\n",
      "1             1        48395         7         1        f\n",
      "2             1     mcsport6        25         1        f\n",
      "3             1       paddle         0         1        f\n",
      "4             3  11816pr0005        78         1        f\n",
      "-----------------------\n",
      "inventory_sets\n",
      "   inventory_id  set_num  quantity\n",
      "0            35  75911-1         1\n",
      "1            35  75912-1         1\n",
      "2            39  75048-1         1\n",
      "3            39  75053-1         1\n",
      "4            50   4515-1         1\n",
      "-----------------------\n",
      "parts\n",
      "  part_num                                               name  part_cat_id\n",
      "0   0687b1                        Set 0687 Activity Booklet 1           17\n",
      "1     0901  Baseplate 16 x 30 with Set 080 Yellow House Print            1\n",
      "2     0902  Baseplate 16 x 24 with Set 080 Small White Hou...            1\n",
      "3     0903     Baseplate 16 x 24 with Set 080 Red House Print            1\n",
      "4     0904  Baseplate 16 x 24 with Set 080 Large White Hou...            1\n",
      "-----------------------\n",
      "part_categories\n",
      "   id                     name\n",
      "0   1               Baseplates\n",
      "1   2           Bricks Printed\n",
      "2   3            Bricks Sloped\n",
      "3   4  Duplo, Quatro and Primo\n",
      "4   5           Bricks Special\n",
      "-----------------------\n",
      "sets\n",
      "  set_num                        name  year  theme_id  num_parts\n",
      "0    00-1             Weetabix Castle  1970       414        471\n",
      "1  0011-2           Town Mini-Figures  1978        84         12\n",
      "2  0011-3  Castle 2 for 1 Bonus Offer  1987       199          2\n",
      "3  0012-1          Space Mini-Figures  1979       143         12\n",
      "4  0013-1          Space Mini-Figures  1979       143         12\n",
      "-----------------------\n",
      "themes\n",
      "   id            name  parent_id\n",
      "0   1         Technic        NaN\n",
      "1   2  Arctic Technic        1.0\n",
      "2   3     Competition        1.0\n",
      "3   4  Expert Builder        1.0\n",
      "4   5           Model        1.0\n",
      "-----------------------\n"
     ]
    }
   ],
   "source": [
    "for key,value in dataframes.items():\n",
    "    print(key)\n",
    "    print(value.head())\n",
    "    print('-----------------------')"
   ]
  },
  {
   "cell_type": "code",
   "execution_count": 9,
   "metadata": {
    "ExecuteTime": {
     "end_time": "2024-03-19T02:56:02.037466100Z",
     "start_time": "2024-03-19T02:56:01.408808200Z"
    }
   },
   "outputs": [
    {
     "data": {
      "text/plain": "       id                          name     rgb is_trans\n0      -1                       Unknown  0033B2        f\n1       0                         Black  05131D        f\n2       1                          Blue  0055BF        f\n3       2                         Green  237841        f\n4       3                Dark Turquoise  008F9B        f\n..    ...                           ...     ...      ...\n130  1004  Trans Flame Yellowish Orange  FCB76D        t\n131  1005             Trans Fire Yellow  FBE890        t\n132  1006        Trans Light Royal Blue  B4D4F7        t\n133  1007                 Reddish Lilac  8E5597        f\n134  9999                    [No Color]  05131D        f\n\n[135 rows x 4 columns]",
      "text/html": "<div>\n<style scoped>\n    .dataframe tbody tr th:only-of-type {\n        vertical-align: middle;\n    }\n\n    .dataframe tbody tr th {\n        vertical-align: top;\n    }\n\n    .dataframe thead th {\n        text-align: right;\n    }\n</style>\n<table border=\"1\" class=\"dataframe\">\n  <thead>\n    <tr style=\"text-align: right;\">\n      <th></th>\n      <th>id</th>\n      <th>name</th>\n      <th>rgb</th>\n      <th>is_trans</th>\n    </tr>\n  </thead>\n  <tbody>\n    <tr>\n      <th>0</th>\n      <td>-1</td>\n      <td>Unknown</td>\n      <td>0033B2</td>\n      <td>f</td>\n    </tr>\n    <tr>\n      <th>1</th>\n      <td>0</td>\n      <td>Black</td>\n      <td>05131D</td>\n      <td>f</td>\n    </tr>\n    <tr>\n      <th>2</th>\n      <td>1</td>\n      <td>Blue</td>\n      <td>0055BF</td>\n      <td>f</td>\n    </tr>\n    <tr>\n      <th>3</th>\n      <td>2</td>\n      <td>Green</td>\n      <td>237841</td>\n      <td>f</td>\n    </tr>\n    <tr>\n      <th>4</th>\n      <td>3</td>\n      <td>Dark Turquoise</td>\n      <td>008F9B</td>\n      <td>f</td>\n    </tr>\n    <tr>\n      <th>...</th>\n      <td>...</td>\n      <td>...</td>\n      <td>...</td>\n      <td>...</td>\n    </tr>\n    <tr>\n      <th>130</th>\n      <td>1004</td>\n      <td>Trans Flame Yellowish Orange</td>\n      <td>FCB76D</td>\n      <td>t</td>\n    </tr>\n    <tr>\n      <th>131</th>\n      <td>1005</td>\n      <td>Trans Fire Yellow</td>\n      <td>FBE890</td>\n      <td>t</td>\n    </tr>\n    <tr>\n      <th>132</th>\n      <td>1006</td>\n      <td>Trans Light Royal Blue</td>\n      <td>B4D4F7</td>\n      <td>t</td>\n    </tr>\n    <tr>\n      <th>133</th>\n      <td>1007</td>\n      <td>Reddish Lilac</td>\n      <td>8E5597</td>\n      <td>f</td>\n    </tr>\n    <tr>\n      <th>134</th>\n      <td>9999</td>\n      <td>[No Color]</td>\n      <td>05131D</td>\n      <td>f</td>\n    </tr>\n  </tbody>\n</table>\n<p>135 rows × 4 columns</p>\n</div>"
     },
     "execution_count": 9,
     "metadata": {},
     "output_type": "execute_result"
    }
   ],
   "source": [
    "# Dictionary hold all those csv files,if want to call colors.csv , use dataframes['colors']\n",
    "dataframes['colors']"
   ]
  },
  {
   "cell_type": "markdown",
   "metadata": {},
   "source": [
    "# check csv files"
   ]
  },
  {
   "cell_type": "markdown",
   "metadata": {},
   "source": [
    "#### inventories table"
   ]
  },
  {
   "cell_type": "code",
   "execution_count": 10,
   "metadata": {
    "ExecuteTime": {
     "end_time": "2024-03-19T02:56:02.038466400Z",
     "start_time": "2024-03-19T02:56:01.420518100Z"
    }
   },
   "outputs": [
    {
     "name": "stdout",
     "output_type": "stream",
     "text": [
      "<class 'pandas.core.frame.DataFrame'>\n",
      "RangeIndex: 11681 entries, 0 to 11680\n",
      "Data columns (total 3 columns):\n",
      " #   Column   Non-Null Count  Dtype \n",
      "---  ------   --------------  ----- \n",
      " 0   id       11681 non-null  int64 \n",
      " 1   version  11681 non-null  int64 \n",
      " 2   set_num  11681 non-null  object\n",
      "dtypes: int64(2), object(1)\n",
      "memory usage: 273.9+ KB\n"
     ]
    }
   ],
   "source": [
    "dataframes['inventories'].info()"
   ]
  },
  {
   "cell_type": "code",
   "execution_count": 11,
   "metadata": {
    "ExecuteTime": {
     "end_time": "2024-03-19T02:56:02.038466400Z",
     "start_time": "2024-03-19T02:56:01.431532100Z"
    }
   },
   "outputs": [
    {
     "data": {
      "text/plain": "11681"
     },
     "execution_count": 11,
     "metadata": {},
     "output_type": "execute_result"
    }
   ],
   "source": [
    "dataframes['inventories']['id'].nunique() # id is unique"
   ]
  },
  {
   "cell_type": "code",
   "execution_count": 12,
   "metadata": {
    "ExecuteTime": {
     "end_time": "2024-03-19T02:56:02.038466400Z",
     "start_time": "2024-03-19T02:56:01.437064100Z"
    }
   },
   "outputs": [
    {
     "data": {
      "text/plain": "11670"
     },
     "execution_count": 12,
     "metadata": {},
     "output_type": "execute_result"
    }
   ],
   "source": [
    "dataframes['inventories']['set_num'].nunique() # set_num is not unique"
   ]
  },
  {
   "cell_type": "code",
   "execution_count": 13,
   "metadata": {
    "ExecuteTime": {
     "end_time": "2024-03-19T02:56:02.039465900Z",
     "start_time": "2024-03-19T02:56:01.444550700Z"
    }
   },
   "outputs": [
    {
     "data": {
      "text/plain": "Empty DataFrame\nColumns: [id, version, set_num]\nIndex: []",
      "text/html": "<div>\n<style scoped>\n    .dataframe tbody tr th:only-of-type {\n        vertical-align: middle;\n    }\n\n    .dataframe tbody tr th {\n        vertical-align: top;\n    }\n\n    .dataframe thead th {\n        text-align: right;\n    }\n</style>\n<table border=\"1\" class=\"dataframe\">\n  <thead>\n    <tr style=\"text-align: right;\">\n      <th></th>\n      <th>id</th>\n      <th>version</th>\n      <th>set_num</th>\n    </tr>\n  </thead>\n  <tbody>\n  </tbody>\n</table>\n</div>"
     },
     "execution_count": 13,
     "metadata": {},
     "output_type": "execute_result"
    }
   ],
   "source": [
    "# set_num + version is unique, so each set_num + version has an unique id in this inventories table\n",
    "dataframes['inventories'][dataframes['inventories'].duplicated(['set_num','version'], keep=False)] "
   ]
  },
  {
   "cell_type": "markdown",
   "metadata": {},
   "source": [
    "#### inventory_sets"
   ]
  },
  {
   "cell_type": "code",
   "execution_count": 14,
   "metadata": {
    "ExecuteTime": {
     "end_time": "2024-03-19T02:56:02.040546800Z",
     "start_time": "2024-03-19T02:56:01.455161700Z"
    }
   },
   "outputs": [
    {
     "name": "stdout",
     "output_type": "stream",
     "text": [
      "<class 'pandas.core.frame.DataFrame'>\n",
      "RangeIndex: 2846 entries, 0 to 2845\n",
      "Data columns (total 3 columns):\n",
      " #   Column        Non-Null Count  Dtype \n",
      "---  ------        --------------  ----- \n",
      " 0   inventory_id  2846 non-null   int64 \n",
      " 1   set_num       2846 non-null   object\n",
      " 2   quantity      2846 non-null   int64 \n",
      "dtypes: int64(2), object(1)\n",
      "memory usage: 66.8+ KB\n"
     ]
    }
   ],
   "source": [
    "dataframes['inventory_sets'].info()"
   ]
  },
  {
   "cell_type": "code",
   "execution_count": 15,
   "metadata": {
    "ExecuteTime": {
     "end_time": "2024-03-19T02:56:02.040546800Z",
     "start_time": "2024-03-19T02:56:01.461151100Z"
    }
   },
   "outputs": [
    {
     "data": {
      "text/plain": "589"
     },
     "execution_count": 15,
     "metadata": {},
     "output_type": "execute_result"
    }
   ],
   "source": [
    "dataframes['inventory_sets']['inventory_id'].nunique() # inventory_id is not unique"
   ]
  },
  {
   "cell_type": "code",
   "execution_count": 16,
   "metadata": {
    "ExecuteTime": {
     "end_time": "2024-03-19T02:56:02.040546800Z",
     "start_time": "2024-03-19T02:56:01.467914100Z"
    }
   },
   "outputs": [
    {
     "data": {
      "text/plain": "2514    30\n6174    24\n9926    24\n7881    24\n6702    24\n        ..\n9765     1\n6034     1\n4719     1\n4666     1\n1791     1\nName: inventory_id, Length: 589, dtype: int64"
     },
     "execution_count": 16,
     "metadata": {},
     "output_type": "execute_result"
    }
   ],
   "source": [
    "dataframes['inventory_sets']['inventory_id'].value_counts()"
   ]
  },
  {
   "cell_type": "code",
   "execution_count": 17,
   "metadata": {
    "ExecuteTime": {
     "end_time": "2024-03-19T02:56:02.042548500Z",
     "start_time": "2024-03-19T02:56:01.473616700Z"
    }
   },
   "outputs": [
    {
     "data": {
      "text/plain": "     inventory_id set_num  quantity\n411          2514  4443-1         1\n412          2514  4444-1         1\n413          2514  4445-1         1\n414          2514  4446-1         1\n415          2514  4447-1         1\n416          2514  4448-1         1\n417          2514  4449-1         1\n418          2514  4450-1         1\n419          2514  4451-1         1\n420          2514  4452-1         1\n421          2514  4453-1         1\n422          2514  4454-1         1\n423          2514  4455-1         1\n424          2514  4456-1         1\n425          2514  4457-1         1\n426          2514  4458-1         1\n427          2514  4459-1         1\n428          2514  4460-1         1\n429          2514  4461-1         1\n430          2514  4462-1         1\n431          2514  4463-1         1\n432          2514  4464-1         1\n433          2514  4465-1         1\n434          2514  4466-1         1\n435          2514  4467-1         1\n436          2514  4468-1         1\n437          2514  4469-1         1\n438          2514  4470-1         1\n439          2514  4471-1         1\n440          2514  4472-1         1",
      "text/html": "<div>\n<style scoped>\n    .dataframe tbody tr th:only-of-type {\n        vertical-align: middle;\n    }\n\n    .dataframe tbody tr th {\n        vertical-align: top;\n    }\n\n    .dataframe thead th {\n        text-align: right;\n    }\n</style>\n<table border=\"1\" class=\"dataframe\">\n  <thead>\n    <tr style=\"text-align: right;\">\n      <th></th>\n      <th>inventory_id</th>\n      <th>set_num</th>\n      <th>quantity</th>\n    </tr>\n  </thead>\n  <tbody>\n    <tr>\n      <th>411</th>\n      <td>2514</td>\n      <td>4443-1</td>\n      <td>1</td>\n    </tr>\n    <tr>\n      <th>412</th>\n      <td>2514</td>\n      <td>4444-1</td>\n      <td>1</td>\n    </tr>\n    <tr>\n      <th>413</th>\n      <td>2514</td>\n      <td>4445-1</td>\n      <td>1</td>\n    </tr>\n    <tr>\n      <th>414</th>\n      <td>2514</td>\n      <td>4446-1</td>\n      <td>1</td>\n    </tr>\n    <tr>\n      <th>415</th>\n      <td>2514</td>\n      <td>4447-1</td>\n      <td>1</td>\n    </tr>\n    <tr>\n      <th>416</th>\n      <td>2514</td>\n      <td>4448-1</td>\n      <td>1</td>\n    </tr>\n    <tr>\n      <th>417</th>\n      <td>2514</td>\n      <td>4449-1</td>\n      <td>1</td>\n    </tr>\n    <tr>\n      <th>418</th>\n      <td>2514</td>\n      <td>4450-1</td>\n      <td>1</td>\n    </tr>\n    <tr>\n      <th>419</th>\n      <td>2514</td>\n      <td>4451-1</td>\n      <td>1</td>\n    </tr>\n    <tr>\n      <th>420</th>\n      <td>2514</td>\n      <td>4452-1</td>\n      <td>1</td>\n    </tr>\n    <tr>\n      <th>421</th>\n      <td>2514</td>\n      <td>4453-1</td>\n      <td>1</td>\n    </tr>\n    <tr>\n      <th>422</th>\n      <td>2514</td>\n      <td>4454-1</td>\n      <td>1</td>\n    </tr>\n    <tr>\n      <th>423</th>\n      <td>2514</td>\n      <td>4455-1</td>\n      <td>1</td>\n    </tr>\n    <tr>\n      <th>424</th>\n      <td>2514</td>\n      <td>4456-1</td>\n      <td>1</td>\n    </tr>\n    <tr>\n      <th>425</th>\n      <td>2514</td>\n      <td>4457-1</td>\n      <td>1</td>\n    </tr>\n    <tr>\n      <th>426</th>\n      <td>2514</td>\n      <td>4458-1</td>\n      <td>1</td>\n    </tr>\n    <tr>\n      <th>427</th>\n      <td>2514</td>\n      <td>4459-1</td>\n      <td>1</td>\n    </tr>\n    <tr>\n      <th>428</th>\n      <td>2514</td>\n      <td>4460-1</td>\n      <td>1</td>\n    </tr>\n    <tr>\n      <th>429</th>\n      <td>2514</td>\n      <td>4461-1</td>\n      <td>1</td>\n    </tr>\n    <tr>\n      <th>430</th>\n      <td>2514</td>\n      <td>4462-1</td>\n      <td>1</td>\n    </tr>\n    <tr>\n      <th>431</th>\n      <td>2514</td>\n      <td>4463-1</td>\n      <td>1</td>\n    </tr>\n    <tr>\n      <th>432</th>\n      <td>2514</td>\n      <td>4464-1</td>\n      <td>1</td>\n    </tr>\n    <tr>\n      <th>433</th>\n      <td>2514</td>\n      <td>4465-1</td>\n      <td>1</td>\n    </tr>\n    <tr>\n      <th>434</th>\n      <td>2514</td>\n      <td>4466-1</td>\n      <td>1</td>\n    </tr>\n    <tr>\n      <th>435</th>\n      <td>2514</td>\n      <td>4467-1</td>\n      <td>1</td>\n    </tr>\n    <tr>\n      <th>436</th>\n      <td>2514</td>\n      <td>4468-1</td>\n      <td>1</td>\n    </tr>\n    <tr>\n      <th>437</th>\n      <td>2514</td>\n      <td>4469-1</td>\n      <td>1</td>\n    </tr>\n    <tr>\n      <th>438</th>\n      <td>2514</td>\n      <td>4470-1</td>\n      <td>1</td>\n    </tr>\n    <tr>\n      <th>439</th>\n      <td>2514</td>\n      <td>4471-1</td>\n      <td>1</td>\n    </tr>\n    <tr>\n      <th>440</th>\n      <td>2514</td>\n      <td>4472-1</td>\n      <td>1</td>\n    </tr>\n  </tbody>\n</table>\n</div>"
     },
     "execution_count": 17,
     "metadata": {},
     "output_type": "execute_result"
    }
   ],
   "source": [
    "df_id_2514 = dataframes['inventory_sets'][dataframes['inventory_sets']['inventory_id']==2514]\n",
    "df_id_2514"
   ]
  },
  {
   "cell_type": "code",
   "execution_count": 18,
   "metadata": {
    "ExecuteTime": {
     "end_time": "2024-03-19T02:56:02.045548100Z",
     "start_time": "2024-03-19T02:56:01.481389200Z"
    }
   },
   "outputs": [
    {
     "data": {
      "text/plain": "    inventory_id set_num  quantity                        name  year  \\\n0           2514  4443-1         1        Coca-Cola Defender 1  2002   \n1           2514  4444-1         1        Coca-Cola Defender 2  2002   \n2           2514  4445-1         1  Coca-Cola Middle Fielder 1  2002   \n3           2514  4446-1         1         Coca-Cola Forward 1  2002   \n4           2514  4447-1         1         Coca-Cola Forward 2  2002   \n5           2514  4448-1         1        Coca-Cola Defender 3  2002   \n6           2514  4449-1         1        Coca-Cola Defender 4  2002   \n7           2514  4450-1         1  Coca-Cola Middle Fielder 2  2002   \n8           2514  4451-1         1         Coca-Cola Forward 3  2002   \n9           2514  4452-1         1         Coca-Cola Forward 4  2002   \n10          2514  4453-1         1       Coca-Cola Goal Keeper  2002   \n11          2514  4454-1         1           Coca-Cola Referee  2002   \n12          2514  4455-1         1       Coca-Cola Hotdog Girl  2002   \n13          2514  4456-1         1            Coca-Cola Doctor  2002   \n14          2514  4457-1         1      Coca-Cola TV Cameraman  2002   \n15          2514  4458-1         1         Coca-Cola TV Camera  2002   \n16          2514  4459-1         1         Coca-Cola PK Kicker  2002   \n17          2514  4460-1         1              Coca-Cola Goal  2002   \n18          2514  4461-1         1             Coca-Cola Bench  2002   \n19          2514  4462-1         1    Coca-Cola Hotdog Trolley  2002   \n20          2514  4463-1         1             Coca-Cola Light  2002   \n21          2514  4464-1         1       Coca-Cola Bottle Case  2002   \n22          2514  4465-1         1   Coca-Cola Vending Machine  2002   \n23          2514  4466-1         1        Coca-Cola Sign Board  2002   \n24          2514  4467-1         1         Coca-Cola Stretcher  2002   \n25          2514  4468-1         1             Coca-Cola Stand  2002   \n26          2514  4469-1         1       Coca-Cola Drink Stand  2002   \n27          2514  4470-1         1              Coca-Cola Ball  2002   \n28          2514  4471-1         1          Coca-Cola Secret A  2002   \n29          2514  4472-1         1          Coca-Cola Secret B  2002   \n\n    theme_id  num_parts  \n0        462          4  \n1        462          4  \n2        462          4  \n3        462          4  \n4        462          4  \n5        462          4  \n6        462          4  \n7        462          4  \n8        462          4  \n9        462          4  \n10       462          4  \n11       462          6  \n12       462          6  \n13       462          5  \n14       462          4  \n15       462         11  \n16       462          4  \n17       462          7  \n18       462          7  \n19       462         18  \n20       462         16  \n21       462          7  \n22       462          6  \n23       462          3  \n24       462          3  \n25       462          9  \n26       462          8  \n27       462          2  \n28       462          4  \n29       462          4  ",
      "text/html": "<div>\n<style scoped>\n    .dataframe tbody tr th:only-of-type {\n        vertical-align: middle;\n    }\n\n    .dataframe tbody tr th {\n        vertical-align: top;\n    }\n\n    .dataframe thead th {\n        text-align: right;\n    }\n</style>\n<table border=\"1\" class=\"dataframe\">\n  <thead>\n    <tr style=\"text-align: right;\">\n      <th></th>\n      <th>inventory_id</th>\n      <th>set_num</th>\n      <th>quantity</th>\n      <th>name</th>\n      <th>year</th>\n      <th>theme_id</th>\n      <th>num_parts</th>\n    </tr>\n  </thead>\n  <tbody>\n    <tr>\n      <th>0</th>\n      <td>2514</td>\n      <td>4443-1</td>\n      <td>1</td>\n      <td>Coca-Cola Defender 1</td>\n      <td>2002</td>\n      <td>462</td>\n      <td>4</td>\n    </tr>\n    <tr>\n      <th>1</th>\n      <td>2514</td>\n      <td>4444-1</td>\n      <td>1</td>\n      <td>Coca-Cola Defender 2</td>\n      <td>2002</td>\n      <td>462</td>\n      <td>4</td>\n    </tr>\n    <tr>\n      <th>2</th>\n      <td>2514</td>\n      <td>4445-1</td>\n      <td>1</td>\n      <td>Coca-Cola Middle Fielder 1</td>\n      <td>2002</td>\n      <td>462</td>\n      <td>4</td>\n    </tr>\n    <tr>\n      <th>3</th>\n      <td>2514</td>\n      <td>4446-1</td>\n      <td>1</td>\n      <td>Coca-Cola Forward 1</td>\n      <td>2002</td>\n      <td>462</td>\n      <td>4</td>\n    </tr>\n    <tr>\n      <th>4</th>\n      <td>2514</td>\n      <td>4447-1</td>\n      <td>1</td>\n      <td>Coca-Cola Forward 2</td>\n      <td>2002</td>\n      <td>462</td>\n      <td>4</td>\n    </tr>\n    <tr>\n      <th>5</th>\n      <td>2514</td>\n      <td>4448-1</td>\n      <td>1</td>\n      <td>Coca-Cola Defender 3</td>\n      <td>2002</td>\n      <td>462</td>\n      <td>4</td>\n    </tr>\n    <tr>\n      <th>6</th>\n      <td>2514</td>\n      <td>4449-1</td>\n      <td>1</td>\n      <td>Coca-Cola Defender 4</td>\n      <td>2002</td>\n      <td>462</td>\n      <td>4</td>\n    </tr>\n    <tr>\n      <th>7</th>\n      <td>2514</td>\n      <td>4450-1</td>\n      <td>1</td>\n      <td>Coca-Cola Middle Fielder 2</td>\n      <td>2002</td>\n      <td>462</td>\n      <td>4</td>\n    </tr>\n    <tr>\n      <th>8</th>\n      <td>2514</td>\n      <td>4451-1</td>\n      <td>1</td>\n      <td>Coca-Cola Forward 3</td>\n      <td>2002</td>\n      <td>462</td>\n      <td>4</td>\n    </tr>\n    <tr>\n      <th>9</th>\n      <td>2514</td>\n      <td>4452-1</td>\n      <td>1</td>\n      <td>Coca-Cola Forward 4</td>\n      <td>2002</td>\n      <td>462</td>\n      <td>4</td>\n    </tr>\n    <tr>\n      <th>10</th>\n      <td>2514</td>\n      <td>4453-1</td>\n      <td>1</td>\n      <td>Coca-Cola Goal Keeper</td>\n      <td>2002</td>\n      <td>462</td>\n      <td>4</td>\n    </tr>\n    <tr>\n      <th>11</th>\n      <td>2514</td>\n      <td>4454-1</td>\n      <td>1</td>\n      <td>Coca-Cola Referee</td>\n      <td>2002</td>\n      <td>462</td>\n      <td>6</td>\n    </tr>\n    <tr>\n      <th>12</th>\n      <td>2514</td>\n      <td>4455-1</td>\n      <td>1</td>\n      <td>Coca-Cola Hotdog Girl</td>\n      <td>2002</td>\n      <td>462</td>\n      <td>6</td>\n    </tr>\n    <tr>\n      <th>13</th>\n      <td>2514</td>\n      <td>4456-1</td>\n      <td>1</td>\n      <td>Coca-Cola Doctor</td>\n      <td>2002</td>\n      <td>462</td>\n      <td>5</td>\n    </tr>\n    <tr>\n      <th>14</th>\n      <td>2514</td>\n      <td>4457-1</td>\n      <td>1</td>\n      <td>Coca-Cola TV Cameraman</td>\n      <td>2002</td>\n      <td>462</td>\n      <td>4</td>\n    </tr>\n    <tr>\n      <th>15</th>\n      <td>2514</td>\n      <td>4458-1</td>\n      <td>1</td>\n      <td>Coca-Cola TV Camera</td>\n      <td>2002</td>\n      <td>462</td>\n      <td>11</td>\n    </tr>\n    <tr>\n      <th>16</th>\n      <td>2514</td>\n      <td>4459-1</td>\n      <td>1</td>\n      <td>Coca-Cola PK Kicker</td>\n      <td>2002</td>\n      <td>462</td>\n      <td>4</td>\n    </tr>\n    <tr>\n      <th>17</th>\n      <td>2514</td>\n      <td>4460-1</td>\n      <td>1</td>\n      <td>Coca-Cola Goal</td>\n      <td>2002</td>\n      <td>462</td>\n      <td>7</td>\n    </tr>\n    <tr>\n      <th>18</th>\n      <td>2514</td>\n      <td>4461-1</td>\n      <td>1</td>\n      <td>Coca-Cola Bench</td>\n      <td>2002</td>\n      <td>462</td>\n      <td>7</td>\n    </tr>\n    <tr>\n      <th>19</th>\n      <td>2514</td>\n      <td>4462-1</td>\n      <td>1</td>\n      <td>Coca-Cola Hotdog Trolley</td>\n      <td>2002</td>\n      <td>462</td>\n      <td>18</td>\n    </tr>\n    <tr>\n      <th>20</th>\n      <td>2514</td>\n      <td>4463-1</td>\n      <td>1</td>\n      <td>Coca-Cola Light</td>\n      <td>2002</td>\n      <td>462</td>\n      <td>16</td>\n    </tr>\n    <tr>\n      <th>21</th>\n      <td>2514</td>\n      <td>4464-1</td>\n      <td>1</td>\n      <td>Coca-Cola Bottle Case</td>\n      <td>2002</td>\n      <td>462</td>\n      <td>7</td>\n    </tr>\n    <tr>\n      <th>22</th>\n      <td>2514</td>\n      <td>4465-1</td>\n      <td>1</td>\n      <td>Coca-Cola Vending Machine</td>\n      <td>2002</td>\n      <td>462</td>\n      <td>6</td>\n    </tr>\n    <tr>\n      <th>23</th>\n      <td>2514</td>\n      <td>4466-1</td>\n      <td>1</td>\n      <td>Coca-Cola Sign Board</td>\n      <td>2002</td>\n      <td>462</td>\n      <td>3</td>\n    </tr>\n    <tr>\n      <th>24</th>\n      <td>2514</td>\n      <td>4467-1</td>\n      <td>1</td>\n      <td>Coca-Cola Stretcher</td>\n      <td>2002</td>\n      <td>462</td>\n      <td>3</td>\n    </tr>\n    <tr>\n      <th>25</th>\n      <td>2514</td>\n      <td>4468-1</td>\n      <td>1</td>\n      <td>Coca-Cola Stand</td>\n      <td>2002</td>\n      <td>462</td>\n      <td>9</td>\n    </tr>\n    <tr>\n      <th>26</th>\n      <td>2514</td>\n      <td>4469-1</td>\n      <td>1</td>\n      <td>Coca-Cola Drink Stand</td>\n      <td>2002</td>\n      <td>462</td>\n      <td>8</td>\n    </tr>\n    <tr>\n      <th>27</th>\n      <td>2514</td>\n      <td>4470-1</td>\n      <td>1</td>\n      <td>Coca-Cola Ball</td>\n      <td>2002</td>\n      <td>462</td>\n      <td>2</td>\n    </tr>\n    <tr>\n      <th>28</th>\n      <td>2514</td>\n      <td>4471-1</td>\n      <td>1</td>\n      <td>Coca-Cola Secret A</td>\n      <td>2002</td>\n      <td>462</td>\n      <td>4</td>\n    </tr>\n    <tr>\n      <th>29</th>\n      <td>2514</td>\n      <td>4472-1</td>\n      <td>1</td>\n      <td>Coca-Cola Secret B</td>\n      <td>2002</td>\n      <td>462</td>\n      <td>4</td>\n    </tr>\n  </tbody>\n</table>\n</div>"
     },
     "execution_count": 18,
     "metadata": {},
     "output_type": "execute_result"
    }
   ],
   "source": [
    "# when a inventory_id has 30 set ?\n",
    "# merge sets name to this to check\n",
    "df_id_2514.merge(dataframes['sets'],on='set_num',how='inner')"
   ]
  },
  {
   "cell_type": "markdown",
   "metadata": {},
   "source": [
    "## !!!! from above table, the same inventory_id (2514) related to 30 different sets !"
   ]
  },
  {
   "cell_type": "code",
   "execution_count": 20,
   "metadata": {
    "ExecuteTime": {
     "end_time": "2024-03-19T02:56:02.047552100Z",
     "start_time": "2024-03-19T02:56:01.507164100Z"
    }
   },
   "outputs": [
    {
     "data": {
      "text/plain": "        id  version       set_num\n1746  2514        1  cokesoccer-1",
      "text/html": "<div>\n<style scoped>\n    .dataframe tbody tr th:only-of-type {\n        vertical-align: middle;\n    }\n\n    .dataframe tbody tr th {\n        vertical-align: top;\n    }\n\n    .dataframe thead th {\n        text-align: right;\n    }\n</style>\n<table border=\"1\" class=\"dataframe\">\n  <thead>\n    <tr style=\"text-align: right;\">\n      <th></th>\n      <th>id</th>\n      <th>version</th>\n      <th>set_num</th>\n    </tr>\n  </thead>\n  <tbody>\n    <tr>\n      <th>1746</th>\n      <td>2514</td>\n      <td>1</td>\n      <td>cokesoccer-1</td>\n    </tr>\n  </tbody>\n</table>\n</div>"
     },
     "execution_count": 20,
     "metadata": {},
     "output_type": "execute_result"
    }
   ],
   "source": [
    "# check 2514 in inventories table\n",
    "dataframes['inventories'][dataframes['inventories']['id'] == 2514]"
   ]
  },
  {
   "cell_type": "code",
   "execution_count": 21,
   "metadata": {
    "ExecuteTime": {
     "end_time": "2024-03-19T02:56:02.047552100Z",
     "start_time": "2024-03-19T02:56:01.515624900Z"
    }
   },
   "outputs": [
    {
     "data": {
      "text/plain": "            set_num                                               name  year  \\\n11090  cokesoccer-1  Japanese Coca-Cola Soccer collection sets 4443...  2002   \n\n       theme_id  num_parts  \n11090       462         30  ",
      "text/html": "<div>\n<style scoped>\n    .dataframe tbody tr th:only-of-type {\n        vertical-align: middle;\n    }\n\n    .dataframe tbody tr th {\n        vertical-align: top;\n    }\n\n    .dataframe thead th {\n        text-align: right;\n    }\n</style>\n<table border=\"1\" class=\"dataframe\">\n  <thead>\n    <tr style=\"text-align: right;\">\n      <th></th>\n      <th>set_num</th>\n      <th>name</th>\n      <th>year</th>\n      <th>theme_id</th>\n      <th>num_parts</th>\n    </tr>\n  </thead>\n  <tbody>\n    <tr>\n      <th>11090</th>\n      <td>cokesoccer-1</td>\n      <td>Japanese Coca-Cola Soccer collection sets 4443...</td>\n      <td>2002</td>\n      <td>462</td>\n      <td>30</td>\n    </tr>\n  </tbody>\n</table>\n</div>"
     },
     "execution_count": 21,
     "metadata": {},
     "output_type": "execute_result"
    }
   ],
   "source": [
    "# find set_num( cokesoccer-1) in sets\n",
    "dataframes['sets'][dataframes['sets']['set_num'] =='cokesoccer-1' ]"
   ]
  },
  {
   "cell_type": "code",
   "execution_count": 22,
   "metadata": {
    "ExecuteTime": {
     "end_time": "2024-03-19T02:56:02.048549900Z",
     "start_time": "2024-03-19T02:56:01.527059600Z"
    }
   },
   "outputs": [
    {
     "data": {
      "text/plain": "True"
     },
     "execution_count": 22,
     "metadata": {},
     "output_type": "execute_result"
    }
   ],
   "source": [
    "df_id_2514['set_num'].nunique() == len(df_id_2514)"
   ]
  },
  {
   "cell_type": "code",
   "execution_count": 23,
   "metadata": {
    "ExecuteTime": {
     "end_time": "2024-03-19T02:56:02.048549900Z",
     "start_time": "2024-03-19T02:56:01.536614Z"
    }
   },
   "outputs": [
    {
     "data": {
      "text/plain": "2306"
     },
     "execution_count": 23,
     "metadata": {},
     "output_type": "execute_result"
    }
   ],
   "source": [
    "dataframes['inventory_sets']['set_num'].nunique() # the number of set_num's unique value > than inventory_id unique value"
   ]
  },
  {
   "cell_type": "code",
   "execution_count": 24,
   "metadata": {
    "ExecuteTime": {
     "end_time": "2024-03-19T02:56:02.049549500Z",
     "start_time": "2024-03-19T02:56:01.539035100Z"
    }
   },
   "outputs": [
    {
     "data": {
      "text/plain": "Empty DataFrame\nColumns: [inventory_id, set_num, quantity]\nIndex: []",
      "text/html": "<div>\n<style scoped>\n    .dataframe tbody tr th:only-of-type {\n        vertical-align: middle;\n    }\n\n    .dataframe tbody tr th {\n        vertical-align: top;\n    }\n\n    .dataframe thead th {\n        text-align: right;\n    }\n</style>\n<table border=\"1\" class=\"dataframe\">\n  <thead>\n    <tr style=\"text-align: right;\">\n      <th></th>\n      <th>inventory_id</th>\n      <th>set_num</th>\n      <th>quantity</th>\n    </tr>\n  </thead>\n  <tbody>\n  </tbody>\n</table>\n</div>"
     },
     "execution_count": 24,
     "metadata": {},
     "output_type": "execute_result"
    }
   ],
   "source": [
    "dataframes['inventory_sets'][dataframes['inventory_sets'].duplicated(['set_num','inventory_id'], keep=False)]  # set_num + inventory_id is unique"
   ]
  },
  {
   "cell_type": "markdown",
   "metadata": {},
   "source": [
    "## themes"
   ]
  },
  {
   "cell_type": "code",
   "execution_count": 25,
   "metadata": {
    "ExecuteTime": {
     "end_time": "2024-03-19T02:56:02.050613100Z",
     "start_time": "2024-03-19T02:56:01.547077200Z"
    }
   },
   "outputs": [
    {
     "data": {
      "text/plain": "      id                   name  parent_id\n0      1                Technic        NaN\n1      2         Arctic Technic        1.0\n2      3            Competition        1.0\n3      4         Expert Builder        1.0\n4      5                  Model        1.0\n..   ...                    ...        ...\n609  610             Brickheadz        NaN\n610  611  Series 17 Minifigures      535.0\n611  612    Star Wars Episode 8      158.0\n612  613             Freemakers      158.0\n613  614                 Jungle       52.0\n\n[614 rows x 3 columns]",
      "text/html": "<div>\n<style scoped>\n    .dataframe tbody tr th:only-of-type {\n        vertical-align: middle;\n    }\n\n    .dataframe tbody tr th {\n        vertical-align: top;\n    }\n\n    .dataframe thead th {\n        text-align: right;\n    }\n</style>\n<table border=\"1\" class=\"dataframe\">\n  <thead>\n    <tr style=\"text-align: right;\">\n      <th></th>\n      <th>id</th>\n      <th>name</th>\n      <th>parent_id</th>\n    </tr>\n  </thead>\n  <tbody>\n    <tr>\n      <th>0</th>\n      <td>1</td>\n      <td>Technic</td>\n      <td>NaN</td>\n    </tr>\n    <tr>\n      <th>1</th>\n      <td>2</td>\n      <td>Arctic Technic</td>\n      <td>1.0</td>\n    </tr>\n    <tr>\n      <th>2</th>\n      <td>3</td>\n      <td>Competition</td>\n      <td>1.0</td>\n    </tr>\n    <tr>\n      <th>3</th>\n      <td>4</td>\n      <td>Expert Builder</td>\n      <td>1.0</td>\n    </tr>\n    <tr>\n      <th>4</th>\n      <td>5</td>\n      <td>Model</td>\n      <td>1.0</td>\n    </tr>\n    <tr>\n      <th>...</th>\n      <td>...</td>\n      <td>...</td>\n      <td>...</td>\n    </tr>\n    <tr>\n      <th>609</th>\n      <td>610</td>\n      <td>Brickheadz</td>\n      <td>NaN</td>\n    </tr>\n    <tr>\n      <th>610</th>\n      <td>611</td>\n      <td>Series 17 Minifigures</td>\n      <td>535.0</td>\n    </tr>\n    <tr>\n      <th>611</th>\n      <td>612</td>\n      <td>Star Wars Episode 8</td>\n      <td>158.0</td>\n    </tr>\n    <tr>\n      <th>612</th>\n      <td>613</td>\n      <td>Freemakers</td>\n      <td>158.0</td>\n    </tr>\n    <tr>\n      <th>613</th>\n      <td>614</td>\n      <td>Jungle</td>\n      <td>52.0</td>\n    </tr>\n  </tbody>\n</table>\n<p>614 rows × 3 columns</p>\n</div>"
     },
     "execution_count": 25,
     "metadata": {},
     "output_type": "execute_result"
    }
   ],
   "source": [
    "dataframes['themes']"
   ]
  },
  {
   "cell_type": "code",
   "execution_count": 26,
   "metadata": {
    "ExecuteTime": {
     "end_time": "2024-03-19T02:56:02.050613100Z",
     "start_time": "2024-03-19T02:56:01.556318800Z"
    }
   },
   "outputs": [
    {
     "data": {
      "text/plain": "Supplemental             18\nFire                     12\nAirport                  11\nTraffic                   9\nHarbor                    9\n                         ..\nStudios                   1\nSpongeBob SquarePants     1\nPrince of Persia          1\nBen 10                    1\nFreemakers                1\nName: name, Length: 402, dtype: int64"
     },
     "execution_count": 26,
     "metadata": {},
     "output_type": "execute_result"
    }
   ],
   "source": [
    "dataframes['themes']['name'].value_counts()"
   ]
  },
  {
   "cell_type": "code",
   "execution_count": 27,
   "metadata": {
    "ExecuteTime": {
     "end_time": "2024-03-19T02:56:02.051614800Z",
     "start_time": "2024-03-19T02:56:01.568289900Z"
    }
   },
   "outputs": [
    {
     "data": {
      "text/plain": "      id        name  parent_id\n241  242         12V      241.0\n233  234         12V      233.0\n278  279   4 Juniors        NaN\n507  508   4 Juniors      507.0\n234  235        4.5V      233.0\n..   ...         ...        ...\n422  423     Vehicle      411.0\n423  424     Western      411.0\n474  475     Western        NaN\n104  105  World City       50.0\n238  239  World City      236.0\n\n[291 rows x 3 columns]",
      "text/html": "<div>\n<style scoped>\n    .dataframe tbody tr th:only-of-type {\n        vertical-align: middle;\n    }\n\n    .dataframe tbody tr th {\n        vertical-align: top;\n    }\n\n    .dataframe thead th {\n        text-align: right;\n    }\n</style>\n<table border=\"1\" class=\"dataframe\">\n  <thead>\n    <tr style=\"text-align: right;\">\n      <th></th>\n      <th>id</th>\n      <th>name</th>\n      <th>parent_id</th>\n    </tr>\n  </thead>\n  <tbody>\n    <tr>\n      <th>241</th>\n      <td>242</td>\n      <td>12V</td>\n      <td>241.0</td>\n    </tr>\n    <tr>\n      <th>233</th>\n      <td>234</td>\n      <td>12V</td>\n      <td>233.0</td>\n    </tr>\n    <tr>\n      <th>278</th>\n      <td>279</td>\n      <td>4 Juniors</td>\n      <td>NaN</td>\n    </tr>\n    <tr>\n      <th>507</th>\n      <td>508</td>\n      <td>4 Juniors</td>\n      <td>507.0</td>\n    </tr>\n    <tr>\n      <th>234</th>\n      <td>235</td>\n      <td>4.5V</td>\n      <td>233.0</td>\n    </tr>\n    <tr>\n      <th>...</th>\n      <td>...</td>\n      <td>...</td>\n      <td>...</td>\n    </tr>\n    <tr>\n      <th>422</th>\n      <td>423</td>\n      <td>Vehicle</td>\n      <td>411.0</td>\n    </tr>\n    <tr>\n      <th>423</th>\n      <td>424</td>\n      <td>Western</td>\n      <td>411.0</td>\n    </tr>\n    <tr>\n      <th>474</th>\n      <td>475</td>\n      <td>Western</td>\n      <td>NaN</td>\n    </tr>\n    <tr>\n      <th>104</th>\n      <td>105</td>\n      <td>World City</td>\n      <td>50.0</td>\n    </tr>\n    <tr>\n      <th>238</th>\n      <td>239</td>\n      <td>World City</td>\n      <td>236.0</td>\n    </tr>\n  </tbody>\n</table>\n<p>291 rows × 3 columns</p>\n</div>"
     },
     "execution_count": 27,
     "metadata": {},
     "output_type": "execute_result"
    }
   ],
   "source": [
    "# show the rows with duplicates names\n",
    "dataframes['themes'][dataframes['themes'].duplicated(subset=['name'], keep=False)].sort_values(by='name')"
   ]
  },
  {
   "cell_type": "markdown",
   "metadata": {},
   "source": [
    "## sets"
   ]
  },
  {
   "cell_type": "code",
   "execution_count": 19,
   "outputs": [
    {
     "data": {
      "text/plain": "Empty DataFrame\nColumns: [inventory_id, part_num, color_id, quantity, is_spare]\nIndex: []",
      "text/html": "<div>\n<style scoped>\n    .dataframe tbody tr th:only-of-type {\n        vertical-align: middle;\n    }\n\n    .dataframe tbody tr th {\n        vertical-align: top;\n    }\n\n    .dataframe thead th {\n        text-align: right;\n    }\n</style>\n<table border=\"1\" class=\"dataframe\">\n  <thead>\n    <tr style=\"text-align: right;\">\n      <th></th>\n      <th>inventory_id</th>\n      <th>part_num</th>\n      <th>color_id</th>\n      <th>quantity</th>\n      <th>is_spare</th>\n    </tr>\n  </thead>\n  <tbody>\n  </tbody>\n</table>\n</div>"
     },
     "execution_count": 19,
     "metadata": {},
     "output_type": "execute_result"
    }
   ],
   "source": [
    "dataframes['inventory_parts'][dataframes['inventory_parts']['inventory_id'] ==2514]"
   ],
   "metadata": {
    "collapsed": false,
    "ExecuteTime": {
     "start_time": "2024-03-19T02:56:01.497483100Z"
    }
   }
  },
  {
   "cell_type": "code",
   "execution_count": 28,
   "metadata": {
    "ExecuteTime": {
     "end_time": "2024-03-19T02:56:02.052615500Z",
     "start_time": "2024-03-19T02:56:01.575144500Z"
    }
   },
   "outputs": [
    {
     "data": {
      "text/plain": "Basic Building Set                     55\nUniversal Building Set                 32\nHelicopter                             23\nBasic Set                              23\nFire Station                           14\n                                       ..\nEV3 Core Set                            1\nEV3 Expansion Set                       1\nSpace Challenge Set                     1\nFreight Loading Station                 1\nWild West Limited Edition Gift Pack     1\nName: name, Length: 10370, dtype: int64"
     },
     "execution_count": 28,
     "metadata": {},
     "output_type": "execute_result"
    }
   ],
   "source": [
    "dataframes['sets']['name'].value_counts()"
   ]
  },
  {
   "cell_type": "code",
   "execution_count": 29,
   "metadata": {
    "ExecuteTime": {
     "end_time": "2024-03-19T02:56:02.052615500Z",
     "start_time": "2024-03-19T02:56:01.583577600Z"
    }
   },
   "outputs": [
    {
     "name": "stdout",
     "output_type": "stream",
     "text": [
      "<class 'pandas.core.frame.DataFrame'>\n",
      "RangeIndex: 11673 entries, 0 to 11672\n",
      "Data columns (total 5 columns):\n",
      " #   Column     Non-Null Count  Dtype \n",
      "---  ------     --------------  ----- \n",
      " 0   set_num    11673 non-null  object\n",
      " 1   name       11673 non-null  object\n",
      " 2   year       11673 non-null  int64 \n",
      " 3   theme_id   11673 non-null  int64 \n",
      " 4   num_parts  11673 non-null  int64 \n",
      "dtypes: int64(3), object(2)\n",
      "memory usage: 456.1+ KB\n"
     ]
    }
   ],
   "source": [
    "dataframes['sets'].info()"
   ]
  },
  {
   "cell_type": "markdown",
   "metadata": {},
   "source": [
    "## inventory_parts"
   ]
  },
  {
   "cell_type": "code",
   "execution_count": 30,
   "metadata": {
    "ExecuteTime": {
     "end_time": "2024-03-19T02:56:02.053616100Z",
     "start_time": "2024-03-19T02:56:01.594137600Z"
    }
   },
   "outputs": [
    {
     "name": "stdout",
     "output_type": "stream",
     "text": [
      "<class 'pandas.core.frame.DataFrame'>\n",
      "RangeIndex: 580251 entries, 0 to 580250\n",
      "Data columns (total 5 columns):\n",
      " #   Column        Non-Null Count   Dtype \n",
      "---  ------        --------------   ----- \n",
      " 0   inventory_id  580251 non-null  int64 \n",
      " 1   part_num      580251 non-null  object\n",
      " 2   color_id      580251 non-null  int64 \n",
      " 3   quantity      580251 non-null  int64 \n",
      " 4   is_spare      580251 non-null  object\n",
      "dtypes: int64(3), object(2)\n",
      "memory usage: 22.1+ MB\n"
     ]
    }
   ],
   "source": [
    "# what is the inventory_id : part ? set ? is it unique?\n",
    "# inventory_id = set + version = we can call it uni_set_id\n",
    "dataframes['inventory_parts'].info()"
   ]
  },
  {
   "cell_type": "code",
   "execution_count": 31,
   "metadata": {
    "ExecuteTime": {
     "end_time": "2024-03-19T02:56:02.053616100Z",
     "start_time": "2024-03-19T02:56:01.699447500Z"
    }
   },
   "outputs": [
    {
     "data": {
      "text/plain": "10724"
     },
     "execution_count": 31,
     "metadata": {},
     "output_type": "execute_result"
    }
   ],
   "source": [
    "dataframes['inventory_parts']['inventory_id'].nunique()\n",
    "# inventory_id is not unique is table inventory parts"
   ]
  },
  {
   "cell_type": "code",
   "execution_count": 32,
   "metadata": {
    "ExecuteTime": {
     "end_time": "2024-03-19T02:56:02.053616100Z",
     "start_time": "2024-03-19T02:56:01.710221700Z"
    }
   },
   "outputs": [
    {
     "data": {
      "text/plain": "1305     769\n12397    700\n8461     687\n16139    593\n14208    592\n        ... \n14811      1\n9064       1\n9037       1\n9036       1\n1129       1\nName: inventory_id, Length: 10724, dtype: int64"
     },
     "execution_count": 32,
     "metadata": {},
     "output_type": "execute_result"
    }
   ],
   "source": [
    "dataframes['inventory_parts']['inventory_id'].value_counts()"
   ]
  },
  {
   "cell_type": "code",
   "execution_count": 33,
   "metadata": {
    "ExecuteTime": {
     "end_time": "2024-03-19T02:56:02.054615800Z",
     "start_time": "2024-03-19T02:56:01.726596700Z"
    }
   },
   "outputs": [
    {
     "data": {
      "text/plain": "       inventory_id part_num  color_id  quantity is_spare\n43090          1305    10170        84         1        f\n43091          1305    11062        15         2        f\n43092          1305    11090        14         8        f\n43093          1305    11090         0         4        f\n43094          1305    11153        71         2        f\n...             ...      ...       ...       ...      ...\n43854          1305    99207         0         5        f\n43855          1305    99780        15         1        f\n43856          1305    99780        71         1        f\n43857          1305    99780         0         1        f\n43858          1305    99930        28         1        f\n\n[769 rows x 5 columns]",
      "text/html": "<div>\n<style scoped>\n    .dataframe tbody tr th:only-of-type {\n        vertical-align: middle;\n    }\n\n    .dataframe tbody tr th {\n        vertical-align: top;\n    }\n\n    .dataframe thead th {\n        text-align: right;\n    }\n</style>\n<table border=\"1\" class=\"dataframe\">\n  <thead>\n    <tr style=\"text-align: right;\">\n      <th></th>\n      <th>inventory_id</th>\n      <th>part_num</th>\n      <th>color_id</th>\n      <th>quantity</th>\n      <th>is_spare</th>\n    </tr>\n  </thead>\n  <tbody>\n    <tr>\n      <th>43090</th>\n      <td>1305</td>\n      <td>10170</td>\n      <td>84</td>\n      <td>1</td>\n      <td>f</td>\n    </tr>\n    <tr>\n      <th>43091</th>\n      <td>1305</td>\n      <td>11062</td>\n      <td>15</td>\n      <td>2</td>\n      <td>f</td>\n    </tr>\n    <tr>\n      <th>43092</th>\n      <td>1305</td>\n      <td>11090</td>\n      <td>14</td>\n      <td>8</td>\n      <td>f</td>\n    </tr>\n    <tr>\n      <th>43093</th>\n      <td>1305</td>\n      <td>11090</td>\n      <td>0</td>\n      <td>4</td>\n      <td>f</td>\n    </tr>\n    <tr>\n      <th>43094</th>\n      <td>1305</td>\n      <td>11153</td>\n      <td>71</td>\n      <td>2</td>\n      <td>f</td>\n    </tr>\n    <tr>\n      <th>...</th>\n      <td>...</td>\n      <td>...</td>\n      <td>...</td>\n      <td>...</td>\n      <td>...</td>\n    </tr>\n    <tr>\n      <th>43854</th>\n      <td>1305</td>\n      <td>99207</td>\n      <td>0</td>\n      <td>5</td>\n      <td>f</td>\n    </tr>\n    <tr>\n      <th>43855</th>\n      <td>1305</td>\n      <td>99780</td>\n      <td>15</td>\n      <td>1</td>\n      <td>f</td>\n    </tr>\n    <tr>\n      <th>43856</th>\n      <td>1305</td>\n      <td>99780</td>\n      <td>71</td>\n      <td>1</td>\n      <td>f</td>\n    </tr>\n    <tr>\n      <th>43857</th>\n      <td>1305</td>\n      <td>99780</td>\n      <td>0</td>\n      <td>1</td>\n      <td>f</td>\n    </tr>\n    <tr>\n      <th>43858</th>\n      <td>1305</td>\n      <td>99930</td>\n      <td>28</td>\n      <td>1</td>\n      <td>f</td>\n    </tr>\n  </tbody>\n</table>\n<p>769 rows × 5 columns</p>\n</div>"
     },
     "execution_count": 33,
     "metadata": {},
     "output_type": "execute_result"
    }
   ],
   "source": [
    "# for inventory_id 1305\n",
    "dataframes['inventory_parts'][dataframes['inventory_parts']['inventory_id']==1305]"
   ]
  },
  {
   "cell_type": "code",
   "execution_count": 34,
   "metadata": {
    "ExecuteTime": {
     "end_time": "2024-03-19T02:56:02.055678600Z",
     "start_time": "2024-03-19T02:56:01.735904Z"
    }
   },
   "outputs": [
    {
     "data": {
      "text/plain": "       id  version  set_num\n905  1305        1  10255-1",
      "text/html": "<div>\n<style scoped>\n    .dataframe tbody tr th:only-of-type {\n        vertical-align: middle;\n    }\n\n    .dataframe tbody tr th {\n        vertical-align: top;\n    }\n\n    .dataframe thead th {\n        text-align: right;\n    }\n</style>\n<table border=\"1\" class=\"dataframe\">\n  <thead>\n    <tr style=\"text-align: right;\">\n      <th></th>\n      <th>id</th>\n      <th>version</th>\n      <th>set_num</th>\n    </tr>\n  </thead>\n  <tbody>\n    <tr>\n      <th>905</th>\n      <td>1305</td>\n      <td>1</td>\n      <td>10255-1</td>\n    </tr>\n  </tbody>\n</table>\n</div>"
     },
     "execution_count": 34,
     "metadata": {},
     "output_type": "execute_result"
    }
   ],
   "source": [
    "dataframes['inventories'][dataframes['inventories']['id']==1305]"
   ]
  },
  {
   "cell_type": "code",
   "execution_count": 35,
   "metadata": {
    "ExecuteTime": {
     "end_time": "2024-03-19T02:56:02.055678600Z",
     "start_time": "2024-03-19T02:56:01.741893100Z"
    }
   },
   "outputs": [
    {
     "data": {
      "text/plain": "     set_num             name  year  theme_id  num_parts\n236  10255-1  Assembly Square  2017       155       4009",
      "text/html": "<div>\n<style scoped>\n    .dataframe tbody tr th:only-of-type {\n        vertical-align: middle;\n    }\n\n    .dataframe tbody tr th {\n        vertical-align: top;\n    }\n\n    .dataframe thead th {\n        text-align: right;\n    }\n</style>\n<table border=\"1\" class=\"dataframe\">\n  <thead>\n    <tr style=\"text-align: right;\">\n      <th></th>\n      <th>set_num</th>\n      <th>name</th>\n      <th>year</th>\n      <th>theme_id</th>\n      <th>num_parts</th>\n    </tr>\n  </thead>\n  <tbody>\n    <tr>\n      <th>236</th>\n      <td>10255-1</td>\n      <td>Assembly Square</td>\n      <td>2017</td>\n      <td>155</td>\n      <td>4009</td>\n    </tr>\n  </tbody>\n</table>\n</div>"
     },
     "execution_count": 35,
     "metadata": {},
     "output_type": "execute_result"
    }
   ],
   "source": [
    "dataframes['sets'][dataframes['sets']['set_num']=='10255-1']"
   ]
  },
  {
   "cell_type": "code",
   "execution_count": 36,
   "metadata": {
    "ExecuteTime": {
     "end_time": "2024-03-19T02:56:02.056700Z",
     "start_time": "2024-03-19T02:56:01.751408200Z"
    }
   },
   "outputs": [
    {
     "data": {
      "text/plain": "Empty DataFrame\nColumns: [inventory_id, set_num, quantity]\nIndex: []",
      "text/html": "<div>\n<style scoped>\n    .dataframe tbody tr th:only-of-type {\n        vertical-align: middle;\n    }\n\n    .dataframe tbody tr th {\n        vertical-align: top;\n    }\n\n    .dataframe thead th {\n        text-align: right;\n    }\n</style>\n<table border=\"1\" class=\"dataframe\">\n  <thead>\n    <tr style=\"text-align: right;\">\n      <th></th>\n      <th>inventory_id</th>\n      <th>set_num</th>\n      <th>quantity</th>\n    </tr>\n  </thead>\n  <tbody>\n  </tbody>\n</table>\n</div>"
     },
     "execution_count": 36,
     "metadata": {},
     "output_type": "execute_result"
    }
   ],
   "source": [
    "dataframes['inventory_sets'][dataframes['inventory_sets']['set_num']=='10255-1']"
   ]
  },
  {
   "cell_type": "markdown",
   "metadata": {},
   "source": [
    "## part_categories"
   ]
  },
  {
   "cell_type": "code",
   "execution_count": 37,
   "metadata": {
    "ExecuteTime": {
     "end_time": "2024-03-19T02:56:02.057699500Z",
     "start_time": "2024-03-19T02:56:01.755965500Z"
    }
   },
   "outputs": [
    {
     "data": {
      "text/plain": "    id                                          name\n0    1                                    Baseplates\n1    2                                Bricks Printed\n2    3                                 Bricks Sloped\n3    4                       Duplo, Quatro and Primo\n4    5                                Bricks Special\n5    6                                 Bricks Wedged\n6    7                                    Containers\n7    8                                Technic Bricks\n8    9                                Plates Special\n9   10                                 Tiles Printed\n10  11                                        Bricks\n11  12                            Technic Connectors\n12  13                                      Minifigs\n13  14                                        Plates\n14  15                                 Tiles Special\n15  16                             Windows and Doors\n16  17                                      Non-LEGO\n17  18                   Hinges, Arms and Turntables\n18  19                                         Tiles\n19  20                        Bricks Round and Cones\n20  21                       Plates Round and Dishes\n21  22                                    Pneumatics\n22  23                                        Panels\n23  24                                         Other\n24  25       Technic Steering, Suspension and Engine\n25  26                               Technic Special\n26  27                           Minifig Accessories\n27  28                            Plants and Animals\n28  29                              Wheels and Tyres\n29  30                               Tubes and Hoses\n30  31                       String, Bands and Reels\n31  32                      Bars, Ladders and Fences\n32  33                                          Rock\n33  34                  Supports, Girders and Cranes\n34  35                  Transportation - Sea and Air\n35  36                         Transportation - Land\n36  37                                 Bricks Curved\n37  38              Flags, Signs, Plastics and Cloth\n38  39                           Magnets and Holders\n39  40                                Technic Panels\n40  41       Bionicle, Hero Factory and Constraction\n41  42                  Belville, Scala and Fabuland\n42  43                                          Znap\n43  44                                    Mechanical\n44  45      Power Functions, Mindstorms and Electric\n45  46                                 Technic Axles\n46  47                      Windscreens and Fuselage\n47  48                                       Clikits\n48  49                                 Plates Angled\n49  50                                      HO Scale\n50  51                                 Technic Beams\n51  52                                 Technic Gears\n52  53                                  Technic Pins\n53  54                                Technic Bushes\n54  55                         Technic Beams Special\n55  56                                         Tools\n56  57  Non-Buildable Figures (Duplo, Fabuland, etc)",
      "text/html": "<div>\n<style scoped>\n    .dataframe tbody tr th:only-of-type {\n        vertical-align: middle;\n    }\n\n    .dataframe tbody tr th {\n        vertical-align: top;\n    }\n\n    .dataframe thead th {\n        text-align: right;\n    }\n</style>\n<table border=\"1\" class=\"dataframe\">\n  <thead>\n    <tr style=\"text-align: right;\">\n      <th></th>\n      <th>id</th>\n      <th>name</th>\n    </tr>\n  </thead>\n  <tbody>\n    <tr>\n      <th>0</th>\n      <td>1</td>\n      <td>Baseplates</td>\n    </tr>\n    <tr>\n      <th>1</th>\n      <td>2</td>\n      <td>Bricks Printed</td>\n    </tr>\n    <tr>\n      <th>2</th>\n      <td>3</td>\n      <td>Bricks Sloped</td>\n    </tr>\n    <tr>\n      <th>3</th>\n      <td>4</td>\n      <td>Duplo, Quatro and Primo</td>\n    </tr>\n    <tr>\n      <th>4</th>\n      <td>5</td>\n      <td>Bricks Special</td>\n    </tr>\n    <tr>\n      <th>5</th>\n      <td>6</td>\n      <td>Bricks Wedged</td>\n    </tr>\n    <tr>\n      <th>6</th>\n      <td>7</td>\n      <td>Containers</td>\n    </tr>\n    <tr>\n      <th>7</th>\n      <td>8</td>\n      <td>Technic Bricks</td>\n    </tr>\n    <tr>\n      <th>8</th>\n      <td>9</td>\n      <td>Plates Special</td>\n    </tr>\n    <tr>\n      <th>9</th>\n      <td>10</td>\n      <td>Tiles Printed</td>\n    </tr>\n    <tr>\n      <th>10</th>\n      <td>11</td>\n      <td>Bricks</td>\n    </tr>\n    <tr>\n      <th>11</th>\n      <td>12</td>\n      <td>Technic Connectors</td>\n    </tr>\n    <tr>\n      <th>12</th>\n      <td>13</td>\n      <td>Minifigs</td>\n    </tr>\n    <tr>\n      <th>13</th>\n      <td>14</td>\n      <td>Plates</td>\n    </tr>\n    <tr>\n      <th>14</th>\n      <td>15</td>\n      <td>Tiles Special</td>\n    </tr>\n    <tr>\n      <th>15</th>\n      <td>16</td>\n      <td>Windows and Doors</td>\n    </tr>\n    <tr>\n      <th>16</th>\n      <td>17</td>\n      <td>Non-LEGO</td>\n    </tr>\n    <tr>\n      <th>17</th>\n      <td>18</td>\n      <td>Hinges, Arms and Turntables</td>\n    </tr>\n    <tr>\n      <th>18</th>\n      <td>19</td>\n      <td>Tiles</td>\n    </tr>\n    <tr>\n      <th>19</th>\n      <td>20</td>\n      <td>Bricks Round and Cones</td>\n    </tr>\n    <tr>\n      <th>20</th>\n      <td>21</td>\n      <td>Plates Round and Dishes</td>\n    </tr>\n    <tr>\n      <th>21</th>\n      <td>22</td>\n      <td>Pneumatics</td>\n    </tr>\n    <tr>\n      <th>22</th>\n      <td>23</td>\n      <td>Panels</td>\n    </tr>\n    <tr>\n      <th>23</th>\n      <td>24</td>\n      <td>Other</td>\n    </tr>\n    <tr>\n      <th>24</th>\n      <td>25</td>\n      <td>Technic Steering, Suspension and Engine</td>\n    </tr>\n    <tr>\n      <th>25</th>\n      <td>26</td>\n      <td>Technic Special</td>\n    </tr>\n    <tr>\n      <th>26</th>\n      <td>27</td>\n      <td>Minifig Accessories</td>\n    </tr>\n    <tr>\n      <th>27</th>\n      <td>28</td>\n      <td>Plants and Animals</td>\n    </tr>\n    <tr>\n      <th>28</th>\n      <td>29</td>\n      <td>Wheels and Tyres</td>\n    </tr>\n    <tr>\n      <th>29</th>\n      <td>30</td>\n      <td>Tubes and Hoses</td>\n    </tr>\n    <tr>\n      <th>30</th>\n      <td>31</td>\n      <td>String, Bands and Reels</td>\n    </tr>\n    <tr>\n      <th>31</th>\n      <td>32</td>\n      <td>Bars, Ladders and Fences</td>\n    </tr>\n    <tr>\n      <th>32</th>\n      <td>33</td>\n      <td>Rock</td>\n    </tr>\n    <tr>\n      <th>33</th>\n      <td>34</td>\n      <td>Supports, Girders and Cranes</td>\n    </tr>\n    <tr>\n      <th>34</th>\n      <td>35</td>\n      <td>Transportation - Sea and Air</td>\n    </tr>\n    <tr>\n      <th>35</th>\n      <td>36</td>\n      <td>Transportation - Land</td>\n    </tr>\n    <tr>\n      <th>36</th>\n      <td>37</td>\n      <td>Bricks Curved</td>\n    </tr>\n    <tr>\n      <th>37</th>\n      <td>38</td>\n      <td>Flags, Signs, Plastics and Cloth</td>\n    </tr>\n    <tr>\n      <th>38</th>\n      <td>39</td>\n      <td>Magnets and Holders</td>\n    </tr>\n    <tr>\n      <th>39</th>\n      <td>40</td>\n      <td>Technic Panels</td>\n    </tr>\n    <tr>\n      <th>40</th>\n      <td>41</td>\n      <td>Bionicle, Hero Factory and Constraction</td>\n    </tr>\n    <tr>\n      <th>41</th>\n      <td>42</td>\n      <td>Belville, Scala and Fabuland</td>\n    </tr>\n    <tr>\n      <th>42</th>\n      <td>43</td>\n      <td>Znap</td>\n    </tr>\n    <tr>\n      <th>43</th>\n      <td>44</td>\n      <td>Mechanical</td>\n    </tr>\n    <tr>\n      <th>44</th>\n      <td>45</td>\n      <td>Power Functions, Mindstorms and Electric</td>\n    </tr>\n    <tr>\n      <th>45</th>\n      <td>46</td>\n      <td>Technic Axles</td>\n    </tr>\n    <tr>\n      <th>46</th>\n      <td>47</td>\n      <td>Windscreens and Fuselage</td>\n    </tr>\n    <tr>\n      <th>47</th>\n      <td>48</td>\n      <td>Clikits</td>\n    </tr>\n    <tr>\n      <th>48</th>\n      <td>49</td>\n      <td>Plates Angled</td>\n    </tr>\n    <tr>\n      <th>49</th>\n      <td>50</td>\n      <td>HO Scale</td>\n    </tr>\n    <tr>\n      <th>50</th>\n      <td>51</td>\n      <td>Technic Beams</td>\n    </tr>\n    <tr>\n      <th>51</th>\n      <td>52</td>\n      <td>Technic Gears</td>\n    </tr>\n    <tr>\n      <th>52</th>\n      <td>53</td>\n      <td>Technic Pins</td>\n    </tr>\n    <tr>\n      <th>53</th>\n      <td>54</td>\n      <td>Technic Bushes</td>\n    </tr>\n    <tr>\n      <th>54</th>\n      <td>55</td>\n      <td>Technic Beams Special</td>\n    </tr>\n    <tr>\n      <th>55</th>\n      <td>56</td>\n      <td>Tools</td>\n    </tr>\n    <tr>\n      <th>56</th>\n      <td>57</td>\n      <td>Non-Buildable Figures (Duplo, Fabuland, etc)</td>\n    </tr>\n  </tbody>\n</table>\n</div>"
     },
     "execution_count": 37,
     "metadata": {},
     "output_type": "execute_result"
    }
   ],
   "source": [
    "dataframes['part_categories']"
   ]
  },
  {
   "cell_type": "markdown",
   "metadata": {},
   "source": [
    "## parts"
   ]
  },
  {
   "cell_type": "code",
   "execution_count": 38,
   "metadata": {
    "ExecuteTime": {
     "end_time": "2024-03-19T02:56:02.058700Z",
     "start_time": "2024-03-19T02:56:01.764307Z"
    }
   },
   "outputs": [
    {
     "name": "stdout",
     "output_type": "stream",
     "text": [
      "<class 'pandas.core.frame.DataFrame'>\n",
      "RangeIndex: 25993 entries, 0 to 25992\n",
      "Data columns (total 3 columns):\n",
      " #   Column       Non-Null Count  Dtype \n",
      "---  ------       --------------  ----- \n",
      " 0   part_num     25993 non-null  object\n",
      " 1   name         25993 non-null  object\n",
      " 2   part_cat_id  25993 non-null  int64 \n",
      "dtypes: int64(1), object(2)\n",
      "memory usage: 609.3+ KB\n"
     ]
    }
   ],
   "source": [
    "dataframes['parts'].info()"
   ]
  },
  {
   "cell_type": "code",
   "execution_count": 39,
   "metadata": {
    "ExecuteTime": {
     "end_time": "2024-03-19T02:56:02.058700Z",
     "start_time": "2024-03-19T02:56:01.776753800Z"
    }
   },
   "outputs": [
    {
     "data": {
      "text/plain": "25993"
     },
     "execution_count": 39,
     "metadata": {},
     "output_type": "execute_result"
    }
   ],
   "source": [
    "dataframes['parts']['part_num'].nunique()"
   ]
  },
  {
   "cell_type": "markdown",
   "metadata": {},
   "source": [
    "## inventories"
   ]
  },
  {
   "cell_type": "code",
   "execution_count": 40,
   "metadata": {
    "ExecuteTime": {
     "end_time": "2024-03-19T02:56:02.058700Z",
     "start_time": "2024-03-19T02:56:01.784830500Z"
    }
   },
   "outputs": [
    {
     "name": "stdout",
     "output_type": "stream",
     "text": [
      "<class 'pandas.core.frame.DataFrame'>\n",
      "RangeIndex: 11681 entries, 0 to 11680\n",
      "Data columns (total 3 columns):\n",
      " #   Column   Non-Null Count  Dtype \n",
      "---  ------   --------------  ----- \n",
      " 0   id       11681 non-null  int64 \n",
      " 1   version  11681 non-null  int64 \n",
      " 2   set_num  11681 non-null  object\n",
      "dtypes: int64(2), object(1)\n",
      "memory usage: 273.9+ KB\n"
     ]
    }
   ],
   "source": [
    "dataframes['inventories'].info()"
   ]
  },
  {
   "cell_type": "code",
   "execution_count": 41,
   "metadata": {
    "ExecuteTime": {
     "end_time": "2024-03-19T02:56:02.059700300Z",
     "start_time": "2024-03-19T02:56:01.793465200Z"
    }
   },
   "outputs": [
    {
     "data": {
      "text/plain": "   id  version set_num\n0   1        1  7922-1\n1   3        1  3931-1\n2   4        1  6942-1\n3  15        1  5158-1\n4  16        1   903-1",
      "text/html": "<div>\n<style scoped>\n    .dataframe tbody tr th:only-of-type {\n        vertical-align: middle;\n    }\n\n    .dataframe tbody tr th {\n        vertical-align: top;\n    }\n\n    .dataframe thead th {\n        text-align: right;\n    }\n</style>\n<table border=\"1\" class=\"dataframe\">\n  <thead>\n    <tr style=\"text-align: right;\">\n      <th></th>\n      <th>id</th>\n      <th>version</th>\n      <th>set_num</th>\n    </tr>\n  </thead>\n  <tbody>\n    <tr>\n      <th>0</th>\n      <td>1</td>\n      <td>1</td>\n      <td>7922-1</td>\n    </tr>\n    <tr>\n      <th>1</th>\n      <td>3</td>\n      <td>1</td>\n      <td>3931-1</td>\n    </tr>\n    <tr>\n      <th>2</th>\n      <td>4</td>\n      <td>1</td>\n      <td>6942-1</td>\n    </tr>\n    <tr>\n      <th>3</th>\n      <td>15</td>\n      <td>1</td>\n      <td>5158-1</td>\n    </tr>\n    <tr>\n      <th>4</th>\n      <td>16</td>\n      <td>1</td>\n      <td>903-1</td>\n    </tr>\n  </tbody>\n</table>\n</div>"
     },
     "execution_count": 41,
     "metadata": {},
     "output_type": "execute_result"
    }
   ],
   "source": [
    "dataframes['inventories'].head()"
   ]
  },
  {
   "cell_type": "code",
   "execution_count": 42,
   "metadata": {
    "ExecuteTime": {
     "end_time": "2024-03-19T02:56:02.059700300Z",
     "start_time": "2024-03-19T02:56:01.800204100Z"
    }
   },
   "outputs": [
    {
     "data": {
      "text/plain": "'\\nPinky: Average number of lego pieces per box\\nNandar: Overall top 5 most popular theme\\nHassan:  Could you predict which theme a set is from just by the bricks it contains?\\nDaisy: top5 MOST COMMOM\\xa0and\\xa0rare\\xa0parts\\n'"
     },
     "execution_count": 42,
     "metadata": {},
     "output_type": "execute_result"
    }
   ],
   "source": [
    "# group discussion:\n",
    "'''\n",
    "Pinky: Average number of lego pieces per box\n",
    "Nandar: Overall top 5 most popular theme\n",
    "Hassan:  Could you predict which theme a set is from just by the bricks it contains?\n",
    "Daisy: top5 MOST COMMOM and rare parts\n",
    "'''"
   ]
  },
  {
   "cell_type": "markdown",
   "metadata": {},
   "source": [
    "# Could you predict which theme a set is from just by the bricks it contains?"
   ]
  },
  {
   "cell_type": "code",
   "execution_count": 43,
   "metadata": {
    "ExecuteTime": {
     "end_time": "2024-03-19T02:56:02.059700300Z",
     "start_time": "2024-03-19T02:56:01.806821900Z"
    }
   },
   "outputs": [
    {
     "data": {
      "text/plain": "'\\nstep 1: merge table: to get theme ~ part_Name relationship table\\n        parts + \\n        inventory_parts(uni_set_id ~ part_num) +\\n        inventories (uni_set_id ~ set_num) +\\n        sets (set_num ~ theme_id) +\\n        themes (theme_id ~ name)\\nstep 2: through merged table above, we can calculate that for a certain part,\\n        what is the change of this part is from a themes\\n        change = number of this part in a certain theme / total parts number of this theme \\n'"
     },
     "execution_count": 43,
     "metadata": {},
     "output_type": "execute_result"
    }
   ],
   "source": [
    "# Hassan:  Could you predict which theme a set is from just by the bricks it contains?\n",
    "'''\n",
    "step 1: merge table: to get theme ~ part_Name relationship table\n",
    "        parts + \n",
    "        inventory_parts(uni_set_id ~ part_num) +\n",
    "        inventories (uni_set_id ~ set_num) +\n",
    "        sets (set_num ~ theme_id) +\n",
    "        themes (theme_id ~ name)\n",
    "step 2: through merged table above, we can calculate that for a certain part,\n",
    "        what is the change of this part is from a themes\n",
    "        change = number of this part in a certain theme / total parts number of this theme \n",
    "'''"
   ]
  },
  {
   "cell_type": "markdown",
   "metadata": {},
   "source": [
    "## Merge tables for Hassan's Question\n"
   ]
  },
  {
   "cell_type": "code",
   "execution_count": 44,
   "metadata": {
    "ExecuteTime": {
     "end_time": "2024-03-19T02:56:02.060700200Z",
     "start_time": "2024-03-19T02:56:01.810882900Z"
    }
   },
   "outputs": [],
   "source": [
    "df_h = dataframes['inventory_parts'].merge(dataframes['inventories'],\n",
    "                                           left_on =['inventory_id'],\n",
    "                                           right_on=['id'],\n",
    "                                           how='left')"
   ]
  },
  {
   "cell_type": "code",
   "execution_count": 45,
   "metadata": {
    "ExecuteTime": {
     "end_time": "2024-03-19T02:56:02.090974600Z",
     "start_time": "2024-03-19T02:56:01.889620200Z"
    }
   },
   "outputs": [
    {
     "name": "stdout",
     "output_type": "stream",
     "text": [
      "<class 'pandas.core.frame.DataFrame'>\n",
      "Int64Index: 580251 entries, 0 to 580250\n",
      "Data columns (total 8 columns):\n",
      " #   Column        Non-Null Count   Dtype \n",
      "---  ------        --------------   ----- \n",
      " 0   inventory_id  580251 non-null  int64 \n",
      " 1   part_num      580251 non-null  object\n",
      " 2   color_id      580251 non-null  int64 \n",
      " 3   quantity      580251 non-null  int64 \n",
      " 4   is_spare      580251 non-null  object\n",
      " 5   id            580251 non-null  int64 \n",
      " 6   version       580251 non-null  int64 \n",
      " 7   set_num       580251 non-null  object\n",
      "dtypes: int64(5), object(3)\n",
      "memory usage: 39.8+ MB\n"
     ]
    }
   ],
   "source": [
    "df_h.info()"
   ]
  },
  {
   "cell_type": "code",
   "execution_count": 46,
   "metadata": {
    "ExecuteTime": {
     "end_time": "2024-03-19T02:56:02.663351700Z",
     "start_time": "2024-03-19T02:56:02.039465900Z"
    }
   },
   "outputs": [
    {
     "name": "stdout",
     "output_type": "stream",
     "text": [
      "<class 'pandas.core.frame.DataFrame'>\n",
      "RangeIndex: 580251 entries, 0 to 580250\n",
      "Data columns (total 5 columns):\n",
      " #   Column        Non-Null Count   Dtype \n",
      "---  ------        --------------   ----- \n",
      " 0   inventory_id  580251 non-null  int64 \n",
      " 1   part_num      580251 non-null  object\n",
      " 2   color_id      580251 non-null  int64 \n",
      " 3   quantity      580251 non-null  int64 \n",
      " 4   is_spare      580251 non-null  object\n",
      "dtypes: int64(3), object(2)\n",
      "memory usage: 22.1+ MB\n"
     ]
    }
   ],
   "source": [
    "dataframes['inventory_parts'].info()"
   ]
  },
  {
   "cell_type": "code",
   "execution_count": 47,
   "metadata": {
    "ExecuteTime": {
     "end_time": "2024-03-19T02:56:02.867840900Z",
     "start_time": "2024-03-19T02:56:02.139335600Z"
    }
   },
   "outputs": [],
   "source": [
    "df_h = df_h.merge(dataframes['sets'],\n",
    "                  on ='set_num',\n",
    "                  how = 'left',\n",
    "                  )"
   ]
  },
  {
   "cell_type": "code",
   "execution_count": 48,
   "metadata": {
    "ExecuteTime": {
     "end_time": "2024-03-19T02:56:03.206740800Z",
     "start_time": "2024-03-19T02:56:02.252073900Z"
    }
   },
   "outputs": [
    {
     "name": "stdout",
     "output_type": "stream",
     "text": [
      "<class 'pandas.core.frame.DataFrame'>\n",
      "Int64Index: 580251 entries, 0 to 580250\n",
      "Data columns (total 12 columns):\n",
      " #   Column        Non-Null Count   Dtype \n",
      "---  ------        --------------   ----- \n",
      " 0   inventory_id  580251 non-null  int64 \n",
      " 1   part_num      580251 non-null  object\n",
      " 2   color_id      580251 non-null  int64 \n",
      " 3   quantity      580251 non-null  int64 \n",
      " 4   is_spare      580251 non-null  object\n",
      " 5   id            580251 non-null  int64 \n",
      " 6   version       580251 non-null  int64 \n",
      " 7   set_num       580251 non-null  object\n",
      " 8   name          580251 non-null  object\n",
      " 9   year          580251 non-null  int64 \n",
      " 10  theme_id      580251 non-null  int64 \n",
      " 11  num_parts     580251 non-null  int64 \n",
      "dtypes: int64(8), object(4)\n",
      "memory usage: 57.6+ MB\n"
     ]
    }
   ],
   "source": [
    "df_h.info()"
   ]
  },
  {
   "cell_type": "code",
   "execution_count": 49,
   "metadata": {
    "ExecuteTime": {
     "end_time": "2024-03-19T02:56:03.207798500Z",
     "start_time": "2024-03-19T02:56:02.445338700Z"
    }
   },
   "outputs": [],
   "source": [
    "# merge theme\n",
    "df_h = df_h.merge(dataframes['themes'],\n",
    "                  left_on = 'theme_id',\n",
    "                  right_on ='id',\n",
    "                  how = 'left',\n",
    "                  suffixes = ('','_themes')\n",
    "                  )"
   ]
  },
  {
   "cell_type": "code",
   "execution_count": 50,
   "metadata": {
    "ExecuteTime": {
     "end_time": "2024-03-19T02:56:03.428570600Z",
     "start_time": "2024-03-19T02:56:02.553862800Z"
    }
   },
   "outputs": [
    {
     "name": "stdout",
     "output_type": "stream",
     "text": [
      "<class 'pandas.core.frame.DataFrame'>\n",
      "Int64Index: 580251 entries, 0 to 580250\n",
      "Data columns (total 15 columns):\n",
      " #   Column        Non-Null Count   Dtype  \n",
      "---  ------        --------------   -----  \n",
      " 0   inventory_id  580251 non-null  int64  \n",
      " 1   part_num      580251 non-null  object \n",
      " 2   color_id      580251 non-null  int64  \n",
      " 3   quantity      580251 non-null  int64  \n",
      " 4   is_spare      580251 non-null  object \n",
      " 5   id            580251 non-null  int64  \n",
      " 6   version       580251 non-null  int64  \n",
      " 7   set_num       580251 non-null  object \n",
      " 8   name          580251 non-null  object \n",
      " 9   year          580251 non-null  int64  \n",
      " 10  theme_id      580251 non-null  int64  \n",
      " 11  num_parts     580251 non-null  int64  \n",
      " 12  id_themes     580251 non-null  int64  \n",
      " 13  name_themes   580251 non-null  object \n",
      " 14  parent_id     372558 non-null  float64\n",
      "dtypes: float64(1), int64(9), object(5)\n",
      "memory usage: 70.8+ MB\n"
     ]
    }
   ],
   "source": [
    "df_h.info()"
   ]
  },
  {
   "cell_type": "code",
   "execution_count": 51,
   "metadata": {
    "ExecuteTime": {
     "end_time": "2024-03-19T02:56:03.569794100Z",
     "start_time": "2024-03-19T02:56:02.800645700Z"
    }
   },
   "outputs": [],
   "source": [
    "# merge parts\n",
    "df_h = df_h.merge(dataframes['parts'],\n",
    "                  left_on = 'part_num',\n",
    "                  right_on ='part_num',\n",
    "                  how = 'left',\n",
    "                  suffixes = ('','_parts')\n",
    "                  )"
   ]
  },
  {
   "cell_type": "code",
   "execution_count": 52,
   "metadata": {
    "ExecuteTime": {
     "end_time": "2024-03-19T02:56:03.782653600Z",
     "start_time": "2024-03-19T02:56:02.970193700Z"
    }
   },
   "outputs": [
    {
     "name": "stdout",
     "output_type": "stream",
     "text": [
      "<class 'pandas.core.frame.DataFrame'>\n",
      "Int64Index: 580251 entries, 0 to 580250\n",
      "Data columns (total 17 columns):\n",
      " #   Column        Non-Null Count   Dtype  \n",
      "---  ------        --------------   -----  \n",
      " 0   inventory_id  580251 non-null  int64  \n",
      " 1   part_num      580251 non-null  object \n",
      " 2   color_id      580251 non-null  int64  \n",
      " 3   quantity      580251 non-null  int64  \n",
      " 4   is_spare      580251 non-null  object \n",
      " 5   id            580251 non-null  int64  \n",
      " 6   version       580251 non-null  int64  \n",
      " 7   set_num       580251 non-null  object \n",
      " 8   name          580251 non-null  object \n",
      " 9   year          580251 non-null  int64  \n",
      " 10  theme_id      580251 non-null  int64  \n",
      " 11  num_parts     580251 non-null  int64  \n",
      " 12  id_themes     580251 non-null  int64  \n",
      " 13  name_themes   580251 non-null  object \n",
      " 14  parent_id     372558 non-null  float64\n",
      " 15  name_parts    580069 non-null  object \n",
      " 16  part_cat_id   580069 non-null  float64\n",
      "dtypes: float64(2), int64(9), object(6)\n",
      "memory usage: 79.7+ MB\n"
     ]
    }
   ],
   "source": [
    "df_h.info()"
   ]
  },
  {
   "cell_type": "code",
   "execution_count": 53,
   "metadata": {
    "ExecuteTime": {
     "end_time": "2024-03-19T02:56:03.836392600Z",
     "start_time": "2024-03-19T02:56:03.268819900Z"
    }
   },
   "outputs": [],
   "source": [
    "# merge part_categories\n",
    "df_h = df_h.merge(dataframes['part_categories'],\n",
    "                  left_on = 'part_cat_id',\n",
    "                  right_on ='id',\n",
    "                  how = 'left',\n",
    "                  suffixes = ('','_part_cat')\n",
    "                  )"
   ]
  },
  {
   "cell_type": "code",
   "execution_count": 54,
   "metadata": {
    "ExecuteTime": {
     "end_time": "2024-03-19T02:56:03.869857800Z",
     "start_time": "2024-03-19T02:56:03.437405900Z"
    }
   },
   "outputs": [
    {
     "name": "stdout",
     "output_type": "stream",
     "text": [
      "<class 'pandas.core.frame.DataFrame'>\n",
      "Int64Index: 580251 entries, 0 to 580250\n",
      "Data columns (total 19 columns):\n",
      " #   Column         Non-Null Count   Dtype  \n",
      "---  ------         --------------   -----  \n",
      " 0   inventory_id   580251 non-null  int64  \n",
      " 1   part_num       580251 non-null  object \n",
      " 2   color_id       580251 non-null  int64  \n",
      " 3   quantity       580251 non-null  int64  \n",
      " 4   is_spare       580251 non-null  object \n",
      " 5   id             580251 non-null  int64  \n",
      " 6   version        580251 non-null  int64  \n",
      " 7   set_num        580251 non-null  object \n",
      " 8   name           580251 non-null  object \n",
      " 9   year           580251 non-null  int64  \n",
      " 10  theme_id       580251 non-null  int64  \n",
      " 11  num_parts      580251 non-null  int64  \n",
      " 12  id_themes      580251 non-null  int64  \n",
      " 13  name_themes    580251 non-null  object \n",
      " 14  parent_id      372558 non-null  float64\n",
      " 15  name_parts     580069 non-null  object \n",
      " 16  part_cat_id    580069 non-null  float64\n",
      " 17  id_part_cat    580069 non-null  float64\n",
      " 18  name_part_cat  580069 non-null  object \n",
      "dtypes: float64(3), int64(9), object(7)\n",
      "memory usage: 88.5+ MB\n"
     ]
    }
   ],
   "source": [
    "df_h.info()"
   ]
  },
  {
   "cell_type": "markdown",
   "metadata": {},
   "source": [
    "## cleaning data"
   ]
  },
  {
   "cell_type": "code",
   "execution_count": 55,
   "metadata": {
    "ExecuteTime": {
     "end_time": "2024-03-19T02:56:04.561645Z",
     "start_time": "2024-03-19T02:56:03.781654300Z"
    }
   },
   "outputs": [],
   "source": [
    "# remove all rows with name_part_cat is null or Non-LEGO\n",
    "df_h.fillna('null',inplace=True)\n",
    "df_h = df_h[~df_h['name_part_cat'].isin(['null','Non-LEGO'])]"
   ]
  },
  {
   "cell_type": "code",
   "execution_count": 56,
   "metadata": {
    "ExecuteTime": {
     "end_time": "2024-03-19T02:56:05.094837700Z",
     "start_time": "2024-03-19T02:56:04.563645700Z"
    }
   },
   "outputs": [
    {
     "name": "stdout",
     "output_type": "stream",
     "text": [
      "<class 'pandas.core.frame.DataFrame'>\n",
      "Int64Index: 577906 entries, 0 to 580250\n",
      "Data columns (total 19 columns):\n",
      " #   Column         Non-Null Count   Dtype \n",
      "---  ------         --------------   ----- \n",
      " 0   inventory_id   577906 non-null  int64 \n",
      " 1   part_num       577906 non-null  object\n",
      " 2   color_id       577906 non-null  int64 \n",
      " 3   quantity       577906 non-null  int64 \n",
      " 4   is_spare       577906 non-null  object\n",
      " 5   id             577906 non-null  int64 \n",
      " 6   version        577906 non-null  int64 \n",
      " 7   set_num        577906 non-null  object\n",
      " 8   name           577906 non-null  object\n",
      " 9   year           577906 non-null  int64 \n",
      " 10  theme_id       577906 non-null  int64 \n",
      " 11  num_parts      577906 non-null  int64 \n",
      " 12  id_themes      577906 non-null  int64 \n",
      " 13  name_themes    577906 non-null  object\n",
      " 14  parent_id      577906 non-null  object\n",
      " 15  name_parts     577906 non-null  object\n",
      " 16  part_cat_id    577906 non-null  object\n",
      " 17  id_part_cat    577906 non-null  object\n",
      " 18  name_part_cat  577906 non-null  object\n",
      "dtypes: int64(9), object(10)\n",
      "memory usage: 88.2+ MB\n"
     ]
    }
   ],
   "source": [
    "df_h.info()"
   ]
  },
  {
   "cell_type": "code",
   "execution_count": 57,
   "metadata": {
    "ExecuteTime": {
     "end_time": "2024-03-19T02:56:05.163324Z",
     "start_time": "2024-03-19T02:56:05.096837700Z"
    }
   },
   "outputs": [
    {
     "data": {
      "text/plain": "               name_themes  quantity\n0                Basic Set    100970\n1  Star Wars Episode 4/5/6     88797\n2                  Technic     54115\n3             Construction     53117\n4                  Creator     49025",
      "text/html": "<div>\n<style scoped>\n    .dataframe tbody tr th:only-of-type {\n        vertical-align: middle;\n    }\n\n    .dataframe tbody tr th {\n        vertical-align: top;\n    }\n\n    .dataframe thead th {\n        text-align: right;\n    }\n</style>\n<table border=\"1\" class=\"dataframe\">\n  <thead>\n    <tr style=\"text-align: right;\">\n      <th></th>\n      <th>name_themes</th>\n      <th>quantity</th>\n    </tr>\n  </thead>\n  <tbody>\n    <tr>\n      <th>0</th>\n      <td>Basic Set</td>\n      <td>100970</td>\n    </tr>\n    <tr>\n      <th>1</th>\n      <td>Star Wars Episode 4/5/6</td>\n      <td>88797</td>\n    </tr>\n    <tr>\n      <th>2</th>\n      <td>Technic</td>\n      <td>54115</td>\n    </tr>\n    <tr>\n      <th>3</th>\n      <td>Construction</td>\n      <td>53117</td>\n    </tr>\n    <tr>\n      <th>4</th>\n      <td>Creator</td>\n      <td>49025</td>\n    </tr>\n  </tbody>\n</table>\n</div>"
     },
     "execution_count": 57,
     "metadata": {},
     "output_type": "execute_result"
    }
   ],
   "source": [
    "# how much parts does on theme have ?\n",
    "df_theme_parts_num = df_h.groupby(['name_themes'])[['quantity']].sum().sort_values(by='quantity',ascending=False).reset_index()\n",
    "df_theme_parts_num.head(5)"
   ]
  },
  {
   "cell_type": "markdown",
   "metadata": {},
   "source": [
    "## create function to calculate the probability of a certain part from a theme"
   ]
  },
  {
   "cell_type": "code",
   "execution_count": 58,
   "metadata": {
    "ExecuteTime": {
     "end_time": "2024-03-19T02:56:05.163324Z",
     "start_time": "2024-03-19T02:56:05.136203400Z"
    }
   },
   "outputs": [],
   "source": [
    "# for a certain part, what is the change of inside each theme\n",
    "# chance = number of this part in each theme / theme total part num\n",
    "def chance_in_theme(part_name=None, part_num=None):\n",
    "    # Filter based on provided parameters\n",
    "    if part_name is not None and part_num is not None:\n",
    "        df_part = df_h[(df_h['name_parts'] == part_name) & (df_h['part_num'] == part_num)]\n",
    "    elif part_name is not None:\n",
    "        df_part = df_h[df_h['name_parts'] == part_name]\n",
    "    elif part_num is not None:\n",
    "        df_part = df_h[df_h['part_num'] == part_num]\n",
    "    else:\n",
    "        return \"Please provide at least one of the parameters: part_name or part_num\"\n",
    "\n",
    "    # Group by 'name_themes', sum 'quantity', and calculate 'chance'\n",
    "    df_part_num = df_part.groupby(['name_themes'])[['quantity']].sum().sort_values(by='quantity', ascending=False)\n",
    "    df_part_num['chance'] = df_part_num['quantity'] / df_part_num['quantity'].sum() * 100\n",
    "\n",
    "    return df_part_num['chance'].sort_values(ascending=False)\n"
   ]
  },
  {
   "cell_type": "code",
   "execution_count": 59,
   "metadata": {
    "ExecuteTime": {
     "end_time": "2024-03-19T02:56:05.181483500Z",
     "start_time": "2024-03-19T02:56:05.142447100Z"
    }
   },
   "outputs": [
    {
     "data": {
      "text/plain": "name_themes\nGas Station    50.0\nTraffic        50.0\nName: chance, dtype: float64"
     },
     "execution_count": 59,
     "metadata": {},
     "output_type": "execute_result"
    }
   ],
   "source": [
    "chance_in_theme(part_num='4j001')"
   ]
  },
  {
   "cell_type": "markdown",
   "metadata": {},
   "source": [
    "## function for creating a pie chart of probability of themes"
   ]
  },
  {
   "cell_type": "code",
   "execution_count": 60,
   "metadata": {
    "ExecuteTime": {
     "end_time": "2024-03-19T02:56:05.216841400Z",
     "start_time": "2024-03-19T02:56:05.174811300Z"
    }
   },
   "outputs": [],
   "source": [
    "def plot_change2(part_name=None,part_num= None):\n",
    "    '''\n",
    "    show the probability of this part's theme\n",
    "    input: part_name or part_num\n",
    "    output: piechart of probability of which theme does this part from\n",
    "    '''\n",
    "\n",
    "    series = chance_in_theme(part_name=part_name,part_num=part_num)\n",
    "    part_name = part_name or ''\n",
    "    part_num = part_num or ''\n",
    "\n",
    "    plt.plot()\n",
    "    plt.pie(series,labels=series.index,autopct='%1.1f%%', startangle=140)\n",
    "    plt.legend(loc ='upper left',title = series.name,fontsize='small', bbox_to_anchor=(1, 1))\n",
    "    plt.title('Probability of a part \"%s\" from Themes' % (part_name + part_num))\n",
    "    plt.show()"
   ]
  },
  {
   "cell_type": "code",
   "execution_count": 61,
   "metadata": {
    "ExecuteTime": {
     "end_time": "2024-03-19T02:56:05.347956600Z",
     "start_time": "2024-03-19T02:56:05.179484300Z"
    }
   },
   "outputs": [
    {
     "data": {
      "text/plain": "<Figure size 640x480 with 1 Axes>",
      "image/png": "[encoded data removed]"
     },
     "metadata": {},
     "output_type": "display_data"
    }
   ],
   "source": [
    "plot_change2(part_num='4j001')"
   ]
  },
  {
   "cell_type": "code",
   "execution_count": 62,
   "metadata": {
    "ExecuteTime": {
     "end_time": "2024-03-19T02:56:05.502718600Z",
     "start_time": "2024-03-19T02:56:05.378503Z"
    }
   },
   "outputs": [
    {
     "data": {
      "text/plain": "<Figure size 640x480 with 1 Axes>",
      "image/png": "[encoded data removed]"
     },
     "metadata": {},
     "output_type": "display_data"
    }
   ],
   "source": [
    "plot_change2(part_name = 'Minifig - 4 Juniors') "
   ]
  },
  {
   "cell_type": "code",
   "execution_count": 63,
   "metadata": {
    "ExecuteTime": {
     "end_time": "2024-03-19T02:56:05.506824200Z",
     "start_time": "2024-03-19T02:56:05.503718600Z"
    }
   },
   "outputs": [
    {
     "name": "stdout",
     "output_type": "stream",
     "text": [
      "Help on function plot_change2 in module __main__:\n",
      "\n",
      "plot_change2(part_name=None, part_num=None)\n",
      "    show the probability of this part's theme\n",
      "    input: part_name or part_num\n",
      "    output: piechart of probability of which theme does this part from\n"
     ]
    }
   ],
   "source": [
    "help(plot_change2)"
   ]
  },
  {
   "cell_type": "code",
   "execution_count": 64,
   "metadata": {
    "ExecuteTime": {
     "end_time": "2024-03-19T02:56:05.516384900Z",
     "start_time": "2024-03-19T02:56:05.507824100Z"
    }
   },
   "outputs": [],
   "source": [
    "### Daisy part : TOP 5 Most Commom parts"
   ]
  },
  {
   "cell_type": "code",
   "execution_count": 67,
   "outputs": [
    {
     "data": {
      "text/plain": "        inventory_id     part_num  color_id  quantity is_spare\n0                  1     48379c01        72         1        f\n1                  1        48395         7         1        f\n2                  1     mcsport6        25         1        f\n3                  1       paddle         0         1        f\n4                  3  11816pr0005        78         1        f\n...              ...          ...       ...       ...      ...\n580246         18708        99206         0         3        f\n580247         18708        99207        71         4        f\n580248         18708        99780        15         4        f\n580249         18708        99780         0         9        f\n580250         18708        99780        72         5        f\n\n[580251 rows x 5 columns]",
      "text/html": "<div>\n<style scoped>\n    .dataframe tbody tr th:only-of-type {\n        vertical-align: middle;\n    }\n\n    .dataframe tbody tr th {\n        vertical-align: top;\n    }\n\n    .dataframe thead th {\n        text-align: right;\n    }\n</style>\n<table border=\"1\" class=\"dataframe\">\n  <thead>\n    <tr style=\"text-align: right;\">\n      <th></th>\n      <th>inventory_id</th>\n      <th>part_num</th>\n      <th>color_id</th>\n      <th>quantity</th>\n      <th>is_spare</th>\n    </tr>\n  </thead>\n  <tbody>\n    <tr>\n      <th>0</th>\n      <td>1</td>\n      <td>48379c01</td>\n      <td>72</td>\n      <td>1</td>\n      <td>f</td>\n    </tr>\n    <tr>\n      <th>1</th>\n      <td>1</td>\n      <td>48395</td>\n      <td>7</td>\n      <td>1</td>\n      <td>f</td>\n    </tr>\n    <tr>\n      <th>2</th>\n      <td>1</td>\n      <td>mcsport6</td>\n      <td>25</td>\n      <td>1</td>\n      <td>f</td>\n    </tr>\n    <tr>\n      <th>3</th>\n      <td>1</td>\n      <td>paddle</td>\n      <td>0</td>\n      <td>1</td>\n      <td>f</td>\n    </tr>\n    <tr>\n      <th>4</th>\n      <td>3</td>\n      <td>11816pr0005</td>\n      <td>78</td>\n      <td>1</td>\n      <td>f</td>\n    </tr>\n    <tr>\n      <th>...</th>\n      <td>...</td>\n      <td>...</td>\n      <td>...</td>\n      <td>...</td>\n      <td>...</td>\n    </tr>\n    <tr>\n      <th>580246</th>\n      <td>18708</td>\n      <td>99206</td>\n      <td>0</td>\n      <td>3</td>\n      <td>f</td>\n    </tr>\n    <tr>\n      <th>580247</th>\n      <td>18708</td>\n      <td>99207</td>\n      <td>71</td>\n      <td>4</td>\n      <td>f</td>\n    </tr>\n    <tr>\n      <th>580248</th>\n      <td>18708</td>\n      <td>99780</td>\n      <td>15</td>\n      <td>4</td>\n      <td>f</td>\n    </tr>\n    <tr>\n      <th>580249</th>\n      <td>18708</td>\n      <td>99780</td>\n      <td>0</td>\n      <td>9</td>\n      <td>f</td>\n    </tr>\n    <tr>\n      <th>580250</th>\n      <td>18708</td>\n      <td>99780</td>\n      <td>72</td>\n      <td>5</td>\n      <td>f</td>\n    </tr>\n  </tbody>\n</table>\n<p>580251 rows × 5 columns</p>\n</div>"
     },
     "execution_count": 67,
     "metadata": {},
     "output_type": "execute_result"
    }
   ],
   "source": [
    "inventory_parts = dataframes['inventory_parts']\n",
    "inventory_parts"
   ],
   "metadata": {
    "collapsed": false,
    "ExecuteTime": {
     "end_time": "2024-03-19T02:59:04.486985800Z",
     "start_time": "2024-03-19T02:59:04.471003Z"
    }
   }
  },
  {
   "cell_type": "code",
   "execution_count": 71,
   "outputs": [
    {
     "data": {
      "text/plain": "      part_num                                               name  part_cat_id\n0       0687b1                        Set 0687 Activity Booklet 1           17\n1         0901  Baseplate 16 x 30 with Set 080 Yellow House Print            1\n2         0902  Baseplate 16 x 24 with Set 080 Small White Hou...            1\n3         0903     Baseplate 16 x 24 with Set 080 Red House Print            1\n4         0904  Baseplate 16 x 24 with Set 080 Large White Hou...            1\n...        ...                                                ...          ...\n25988   zbb013              Znap Connector 3 x 3 - 4 way B (Beam)           43\n25989   zbb014                     Znap Connector 1 x 3 - 2 way A           43\n25990   zbb015                                Znap Beam 3, 1 Hole           43\n25991   zbb018            Znap Connector 3 x 3 - 4 way C (Closed)           43\n25992   zbb022                  Wheel 68mm Znap Propeller (9 x 2)           29\n\n[25993 rows x 3 columns]",
      "text/html": "<div>\n<style scoped>\n    .dataframe tbody tr th:only-of-type {\n        vertical-align: middle;\n    }\n\n    .dataframe tbody tr th {\n        vertical-align: top;\n    }\n\n    .dataframe thead th {\n        text-align: right;\n    }\n</style>\n<table border=\"1\" class=\"dataframe\">\n  <thead>\n    <tr style=\"text-align: right;\">\n      <th></th>\n      <th>part_num</th>\n      <th>name</th>\n      <th>part_cat_id</th>\n    </tr>\n  </thead>\n  <tbody>\n    <tr>\n      <th>0</th>\n      <td>0687b1</td>\n      <td>Set 0687 Activity Booklet 1</td>\n      <td>17</td>\n    </tr>\n    <tr>\n      <th>1</th>\n      <td>0901</td>\n      <td>Baseplate 16 x 30 with Set 080 Yellow House Print</td>\n      <td>1</td>\n    </tr>\n    <tr>\n      <th>2</th>\n      <td>0902</td>\n      <td>Baseplate 16 x 24 with Set 080 Small White Hou...</td>\n      <td>1</td>\n    </tr>\n    <tr>\n      <th>3</th>\n      <td>0903</td>\n      <td>Baseplate 16 x 24 with Set 080 Red House Print</td>\n      <td>1</td>\n    </tr>\n    <tr>\n      <th>4</th>\n      <td>0904</td>\n      <td>Baseplate 16 x 24 with Set 080 Large White Hou...</td>\n      <td>1</td>\n    </tr>\n    <tr>\n      <th>...</th>\n      <td>...</td>\n      <td>...</td>\n      <td>...</td>\n    </tr>\n    <tr>\n      <th>25988</th>\n      <td>zbb013</td>\n      <td>Znap Connector 3 x 3 - 4 way B (Beam)</td>\n      <td>43</td>\n    </tr>\n    <tr>\n      <th>25989</th>\n      <td>zbb014</td>\n      <td>Znap Connector 1 x 3 - 2 way A</td>\n      <td>43</td>\n    </tr>\n    <tr>\n      <th>25990</th>\n      <td>zbb015</td>\n      <td>Znap Beam 3, 1 Hole</td>\n      <td>43</td>\n    </tr>\n    <tr>\n      <th>25991</th>\n      <td>zbb018</td>\n      <td>Znap Connector 3 x 3 - 4 way C (Closed)</td>\n      <td>43</td>\n    </tr>\n    <tr>\n      <th>25992</th>\n      <td>zbb022</td>\n      <td>Wheel 68mm Znap Propeller (9 x 2)</td>\n      <td>29</td>\n    </tr>\n  </tbody>\n</table>\n<p>25993 rows × 3 columns</p>\n</div>"
     },
     "execution_count": 71,
     "metadata": {},
     "output_type": "execute_result"
    }
   ],
   "source": [
    "dataframes['parts']\n"
   ],
   "metadata": {
    "collapsed": false,
    "ExecuteTime": {
     "end_time": "2024-03-19T03:05:16.182913200Z",
     "start_time": "2024-03-19T03:05:16.135644200Z"
    }
   }
  },
  {
   "cell_type": "code",
   "execution_count": 70,
   "outputs": [
    {
     "data": {
      "text/plain": "  part_num  quantity\n0     3004     69250\n1     3023     58777\n2     6141     53535\n3     3003     48543\n4     3005     46973",
      "text/html": "<div>\n<style scoped>\n    .dataframe tbody tr th:only-of-type {\n        vertical-align: middle;\n    }\n\n    .dataframe tbody tr th {\n        vertical-align: top;\n    }\n\n    .dataframe thead th {\n        text-align: right;\n    }\n</style>\n<table border=\"1\" class=\"dataframe\">\n  <thead>\n    <tr style=\"text-align: right;\">\n      <th></th>\n      <th>part_num</th>\n      <th>quantity</th>\n    </tr>\n  </thead>\n  <tbody>\n    <tr>\n      <th>0</th>\n      <td>3004</td>\n      <td>69250</td>\n    </tr>\n    <tr>\n      <th>1</th>\n      <td>3023</td>\n      <td>58777</td>\n    </tr>\n    <tr>\n      <th>2</th>\n      <td>6141</td>\n      <td>53535</td>\n    </tr>\n    <tr>\n      <th>3</th>\n      <td>3003</td>\n      <td>48543</td>\n    </tr>\n    <tr>\n      <th>4</th>\n      <td>3005</td>\n      <td>46973</td>\n    </tr>\n  </tbody>\n</table>\n</div>"
     },
     "execution_count": 70,
     "metadata": {},
     "output_type": "execute_result"
    }
   ],
   "source": [
    "# Aggregatin to fing the top 5 most commom parts based on quantity\n",
    "top5_commom= inventory_parts.groupby(\"part_num\") [\"quantity\"].sum().sort_values(ascending=False).head(5)\n",
    "top5_commom_df =top5_commom.reset_index()\n",
    "top5_commom_df"
   ],
   "metadata": {
    "collapsed": false,
    "ExecuteTime": {
     "end_time": "2024-03-19T03:00:44.594292800Z",
     "start_time": "2024-03-19T03:00:44.535242200Z"
    }
   }
  },
  {
   "cell_type": "code",
   "execution_count": 74,
   "outputs": [
    {
     "data": {
      "text/plain": "                                name  quantity\n0                        Brick 1 x 2     69250\n1                        Plate 1 x 2     58777\n2  Plate Round 1 x 1 with Solid Stud     53535\n3                        Brick 2 x 2     48543\n4                        Brick 1 x 1     46973",
      "text/html": "<div>\n<style scoped>\n    .dataframe tbody tr th:only-of-type {\n        vertical-align: middle;\n    }\n\n    .dataframe tbody tr th {\n        vertical-align: top;\n    }\n\n    .dataframe thead th {\n        text-align: right;\n    }\n</style>\n<table border=\"1\" class=\"dataframe\">\n  <thead>\n    <tr style=\"text-align: right;\">\n      <th></th>\n      <th>name</th>\n      <th>quantity</th>\n    </tr>\n  </thead>\n  <tbody>\n    <tr>\n      <th>0</th>\n      <td>Brick 1 x 2</td>\n      <td>69250</td>\n    </tr>\n    <tr>\n      <th>1</th>\n      <td>Plate 1 x 2</td>\n      <td>58777</td>\n    </tr>\n    <tr>\n      <th>2</th>\n      <td>Plate Round 1 x 1 with Solid Stud</td>\n      <td>53535</td>\n    </tr>\n    <tr>\n      <th>3</th>\n      <td>Brick 2 x 2</td>\n      <td>48543</td>\n    </tr>\n    <tr>\n      <th>4</th>\n      <td>Brick 1 x 1</td>\n      <td>46973</td>\n    </tr>\n  </tbody>\n</table>\n</div>"
     },
     "execution_count": 74,
     "metadata": {},
     "output_type": "execute_result"
    }
   ],
   "source": [
    "# Getting the names of the parts\n",
    "top5_commom_names = pd.merge(top5_commom_df, dataframes['parts'], on='part_num', how='left')\n",
    "top5_commom_names[['name', 'quantity']]"
   ],
   "metadata": {
    "collapsed": false,
    "ExecuteTime": {
     "end_time": "2024-03-19T03:07:03.244585400Z",
     "start_time": "2024-03-19T03:07:03.213302200Z"
    }
   }
  },
  {
   "cell_type": "code",
   "execution_count": 77,
   "outputs": [
    {
     "data": {
      "text/plain": "                                                name  quantity\n0                        Set 0687 Activity Booklet 1         1\n1   Sticker Sheet for Set 60119-1  (24502 / 6133095)         1\n2  Electric Sound Brick 2 x 4 x 2 Light Bluish Gr...         1\n3  Sticker Sheet for Set 60128 - 24523/6133160 or...         1\n4         Sticker Sheet for Set 60129 - 24528/133165         1",
      "text/html": "<div>\n<style scoped>\n    .dataframe tbody tr th:only-of-type {\n        vertical-align: middle;\n    }\n\n    .dataframe tbody tr th {\n        vertical-align: top;\n    }\n\n    .dataframe thead th {\n        text-align: right;\n    }\n</style>\n<table border=\"1\" class=\"dataframe\">\n  <thead>\n    <tr style=\"text-align: right;\">\n      <th></th>\n      <th>name</th>\n      <th>quantity</th>\n    </tr>\n  </thead>\n  <tbody>\n    <tr>\n      <th>0</th>\n      <td>Set 0687 Activity Booklet 1</td>\n      <td>1</td>\n    </tr>\n    <tr>\n      <th>1</th>\n      <td>Sticker Sheet for Set 60119-1  (24502 / 6133095)</td>\n      <td>1</td>\n    </tr>\n    <tr>\n      <th>2</th>\n      <td>Electric Sound Brick 2 x 4 x 2 Light Bluish Gr...</td>\n      <td>1</td>\n    </tr>\n    <tr>\n      <th>3</th>\n      <td>Sticker Sheet for Set 60128 - 24523/6133160 or...</td>\n      <td>1</td>\n    </tr>\n    <tr>\n      <th>4</th>\n      <td>Sticker Sheet for Set 60129 - 24528/133165</td>\n      <td>1</td>\n    </tr>\n  </tbody>\n</table>\n</div>"
     },
     "execution_count": 77,
     "metadata": {},
     "output_type": "execute_result"
    }
   ],
   "source": [
    "#Aggregating to find the 5 rarest parts based on quantity, only considering parts that have a quantity greater than zero\n",
    "top5_rarest = inventory_parts[inventory_parts['quantity'] > 0].groupby('part_num')['quantity'].sum().sort_values().head(5)\n",
    "top5_rarest_df = top5_rarest.reset_index()\n",
    "\n",
    "#Getting the names of the parts\n",
    "top5_rarest_names = pd.merge(top5_rarest_df, dataframes['parts'], on='part_num', how='left')\n",
    "top5_rarest_names[['name', 'quantity']]"
   ],
   "metadata": {
    "collapsed": false,
    "ExecuteTime": {
     "end_time": "2024-03-19T03:12:17.362383900Z",
     "start_time": "2024-03-19T03:12:17.271527600Z"
    }
   }
  }
 ],
 "metadata": {
  "kernelspec": {
   "display_name": "Python 3",
   "language": "python",
   "name": "python3"
  },
  "language_info": {
   "codemirror_mode": {
    "name": "ipython",
    "version": 3
   },
   "file_extension": ".py",
   "mimetype": "text/x-python",
   "name": "python",
   "nbconvert_exporter": "python",
   "pygments_lexer": "ipython3",
   "version": "3.11.8"
  }
 },
 "nbformat": 4,
 "nbformat_minor": 2
}
