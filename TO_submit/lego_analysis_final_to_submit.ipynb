{
 "cells": [
  {
   "cell_type": "markdown",
   "metadata": {
    "slideshow": {
     "slide_type": "slide"
    }
   },
   "source": [
    "# Import Packages"
   ]
  },
  {
   "cell_type": "code",
   "execution_count": 4,
   "metadata": {
    "slideshow": {
     "slide_type": "fragment"
    }
   },
   "outputs": [],
   "source": [
    "import pandas as pd\n",
    "import numpy as np\n",
    "import matplotlib.pyplot as plt\n",
    "import seaborn as sns\n",
    "import glob\n",
    "import os\n",
    "%matplotlib inline"
   ]
  },
  {
   "cell_type": "markdown",
   "metadata": {
    "slideshow": {
     "slide_type": "slide"
    }
   },
   "source": [
    "# reading csv files"
   ]
  },
  {
   "cell_type": "code",
   "execution_count": 5,
   "metadata": {
    "slideshow": {
     "slide_type": "fragment"
    }
   },
   "outputs": [
    {
     "name": "stdout",
     "output_type": "stream",
     "text": [
      "..\\data\\colors.csv\n",
      "..\\data\\inventories.csv\n",
      "..\\data\\inventory_parts.csv\n",
      "..\\data\\inventory_sets.csv\n",
      "..\\data\\parts.csv\n",
      "..\\data\\part_categories.csv\n",
      "..\\data\\sets.csv\n",
      "..\\data\\themes.csv\n"
     ]
    }
   ],
   "source": [
    "\n",
    "# Path to the data folder relative to the notebooks folder\n",
    "folder_path = os.path.join('..','data')\n",
    "\n",
    "# Construct the pattern to match all CSV files in the folder\n",
    "pattern = os.path.join(folder_path, '*.csv')\n",
    "\n",
    "# Use glob.glob to find all files matching the pattern\n",
    "csv_files = glob.glob(pattern)\n",
    "\n",
    "# Print the list of CSV file paths\n",
    "for csv_file in csv_files:\n",
    "    print(csv_file)\n",
    "    # print(csv_file.split('\\\\')[-1].split('.')[0])\n",
    "    \n",
    "\n"
   ]
  },
  {
   "cell_type": "code",
   "execution_count": 6,
   "metadata": {
    "slideshow": {
     "slide_type": "slide"
    }
   },
   "outputs": [
    {
     "name": "stdout",
     "output_type": "stream",
     "text": [
      "colors\n",
      "   id            name     rgb is_trans\n",
      "0  -1         Unknown  0033B2        f\n",
      "1   0           Black  05131D        f\n",
      "2   1            Blue  0055BF        f\n",
      "3   2           Green  237841        f\n",
      "4   3  Dark Turquoise  008F9B        f\n",
      "-----------------------\n",
      "inventories\n",
      "   id  version set_num\n",
      "0   1        1  7922-1\n",
      "1   3        1  3931-1\n",
      "2   4        1  6942-1\n",
      "3  15        1  5158-1\n",
      "4  16        1   903-1\n",
      "-----------------------\n",
      "inventory_parts\n",
      "   inventory_id     part_num  color_id  quantity is_spare\n",
      "0             1     48379c01        72         1        f\n",
      "1             1        48395         7         1        f\n",
      "2             1     mcsport6        25         1        f\n",
      "3             1       paddle         0         1        f\n",
      "4             3  11816pr0005        78         1        f\n",
      "-----------------------\n",
      "inventory_sets\n",
      "   inventory_id  set_num  quantity\n",
      "0            35  75911-1         1\n",
      "1            35  75912-1         1\n",
      "2            39  75048-1         1\n",
      "3            39  75053-1         1\n",
      "4            50   4515-1         1\n",
      "-----------------------\n",
      "parts\n",
      "  part_num                                               name  part_cat_id\n",
      "0   0687b1                        Set 0687 Activity Booklet 1           17\n",
      "1     0901  Baseplate 16 x 30 with Set 080 Yellow House Print            1\n",
      "2     0902  Baseplate 16 x 24 with Set 080 Small White Hou...            1\n",
      "3     0903     Baseplate 16 x 24 with Set 080 Red House Print            1\n",
      "4     0904  Baseplate 16 x 24 with Set 080 Large White Hou...            1\n",
      "-----------------------\n",
      "part_categories\n",
      "   id                     name\n",
      "0   1               Baseplates\n",
      "1   2           Bricks Printed\n",
      "2   3            Bricks Sloped\n",
      "3   4  Duplo, Quatro and Primo\n",
      "4   5           Bricks Special\n",
      "-----------------------\n",
      "sets\n",
      "  set_num                        name  year  theme_id  num_parts\n",
      "0    00-1             Weetabix Castle  1970       414        471\n",
      "1  0011-2           Town Mini-Figures  1978        84         12\n",
      "2  0011-3  Castle 2 for 1 Bonus Offer  1987       199          2\n",
      "3  0012-1          Space Mini-Figures  1979       143         12\n",
      "4  0013-1          Space Mini-Figures  1979       143         12\n",
      "-----------------------\n",
      "themes\n",
      "   id            name  parent_id\n",
      "0   1         Technic        NaN\n",
      "1   2  Arctic Technic        1.0\n",
      "2   3     Competition        1.0\n",
      "3   4  Expert Builder        1.0\n",
      "4   5           Model        1.0\n",
      "-----------------------\n"
     ]
    },
    {
     "data": {
      "text/html": [
       "<div>\n",
       "<style scoped>\n",
       "    .dataframe tbody tr th:only-of-type {\n",
       "        vertical-align: middle;\n",
       "    }\n",
       "\n",
       "    .dataframe tbody tr th {\n",
       "        vertical-align: top;\n",
       "    }\n",
       "\n",
       "    .dataframe thead th {\n",
       "        text-align: right;\n",
       "    }\n",
       "</style>\n",
       "<table border=\"1\" class=\"dataframe\">\n",
       "  <thead>\n",
       "    <tr style=\"text-align: right;\">\n",
       "      <th></th>\n",
       "      <th>id</th>\n",
       "      <th>name</th>\n",
       "      <th>rgb</th>\n",
       "      <th>is_trans</th>\n",
       "    </tr>\n",
       "  </thead>\n",
       "  <tbody>\n",
       "    <tr>\n",
       "      <th>0</th>\n",
       "      <td>-1</td>\n",
       "      <td>Unknown</td>\n",
       "      <td>0033B2</td>\n",
       "      <td>f</td>\n",
       "    </tr>\n",
       "    <tr>\n",
       "      <th>1</th>\n",
       "      <td>0</td>\n",
       "      <td>Black</td>\n",
       "      <td>05131D</td>\n",
       "      <td>f</td>\n",
       "    </tr>\n",
       "    <tr>\n",
       "      <th>2</th>\n",
       "      <td>1</td>\n",
       "      <td>Blue</td>\n",
       "      <td>0055BF</td>\n",
       "      <td>f</td>\n",
       "    </tr>\n",
       "    <tr>\n",
       "      <th>3</th>\n",
       "      <td>2</td>\n",
       "      <td>Green</td>\n",
       "      <td>237841</td>\n",
       "      <td>f</td>\n",
       "    </tr>\n",
       "    <tr>\n",
       "      <th>4</th>\n",
       "      <td>3</td>\n",
       "      <td>Dark Turquoise</td>\n",
       "      <td>008F9B</td>\n",
       "      <td>f</td>\n",
       "    </tr>\n",
       "    <tr>\n",
       "      <th>...</th>\n",
       "      <td>...</td>\n",
       "      <td>...</td>\n",
       "      <td>...</td>\n",
       "      <td>...</td>\n",
       "    </tr>\n",
       "    <tr>\n",
       "      <th>130</th>\n",
       "      <td>1004</td>\n",
       "      <td>Trans Flame Yellowish Orange</td>\n",
       "      <td>FCB76D</td>\n",
       "      <td>t</td>\n",
       "    </tr>\n",
       "    <tr>\n",
       "      <th>131</th>\n",
       "      <td>1005</td>\n",
       "      <td>Trans Fire Yellow</td>\n",
       "      <td>FBE890</td>\n",
       "      <td>t</td>\n",
       "    </tr>\n",
       "    <tr>\n",
       "      <th>132</th>\n",
       "      <td>1006</td>\n",
       "      <td>Trans Light Royal Blue</td>\n",
       "      <td>B4D4F7</td>\n",
       "      <td>t</td>\n",
       "    </tr>\n",
       "    <tr>\n",
       "      <th>133</th>\n",
       "      <td>1007</td>\n",
       "      <td>Reddish Lilac</td>\n",
       "      <td>8E5597</td>\n",
       "      <td>f</td>\n",
       "    </tr>\n",
       "    <tr>\n",
       "      <th>134</th>\n",
       "      <td>9999</td>\n",
       "      <td>[No Color]</td>\n",
       "      <td>05131D</td>\n",
       "      <td>f</td>\n",
       "    </tr>\n",
       "  </tbody>\n",
       "</table>\n",
       "<p>135 rows × 4 columns</p>\n",
       "</div>"
      ],
      "text/plain": [
       "       id                          name     rgb is_trans\n",
       "0      -1                       Unknown  0033B2        f\n",
       "1       0                         Black  05131D        f\n",
       "2       1                          Blue  0055BF        f\n",
       "3       2                         Green  237841        f\n",
       "4       3                Dark Turquoise  008F9B        f\n",
       "..    ...                           ...     ...      ...\n",
       "130  1004  Trans Flame Yellowish Orange  FCB76D        t\n",
       "131  1005             Trans Fire Yellow  FBE890        t\n",
       "132  1006        Trans Light Royal Blue  B4D4F7        t\n",
       "133  1007                 Reddish Lilac  8E5597        f\n",
       "134  9999                    [No Color]  05131D        f\n",
       "\n",
       "[135 rows x 4 columns]"
      ]
     },
     "execution_count": 6,
     "metadata": {},
     "output_type": "execute_result"
    }
   ],
   "source": [
    "# Dictionary to hold your dataframes\n",
    "dataframes = {}\n",
    "\n",
    "for file_path in csv_files:\n",
    "    # Extract the file name without extension\n",
    "    file_name = os.path.splitext(os.path.basename(file_path))[0]\n",
    "    # Read the CSV file and assign it to a key in the dictionary\n",
    "    dataframes[file_name] = pd.read_csv(file_path)\n",
    "\n",
    "for key,value in dataframes.items():\n",
    "    print(key)\n",
    "    print(value.head())\n",
    "    print('-----------------------')\n",
    "\n",
    "# Dictionary hold all those csv files,if want to call colors.csv , use dataframes['colors']\n",
    "dataframes['colors']"
   ]
  },
  {
   "cell_type": "markdown",
   "metadata": {
    "slideshow": {
     "slide_type": "skip"
    }
   },
   "source": [
    "# check csv files"
   ]
  },
  {
   "cell_type": "markdown",
   "metadata": {
    "slideshow": {
     "slide_type": "skip"
    }
   },
   "source": [
    "#### inventories table"
   ]
  },
  {
   "cell_type": "code",
   "execution_count": 7,
   "metadata": {
    "slideshow": {
     "slide_type": "skip"
    }
   },
   "outputs": [
    {
     "name": "stdout",
     "output_type": "stream",
     "text": [
      "<class 'pandas.core.frame.DataFrame'>\n",
      "RangeIndex: 11681 entries, 0 to 11680\n",
      "Data columns (total 3 columns):\n",
      " #   Column   Non-Null Count  Dtype \n",
      "---  ------   --------------  ----- \n",
      " 0   id       11681 non-null  int64 \n",
      " 1   version  11681 non-null  int64 \n",
      " 2   set_num  11681 non-null  object\n",
      "dtypes: int64(2), object(1)\n",
      "memory usage: 273.9+ KB\n"
     ]
    }
   ],
   "source": [
    "dataframes['inventories'].info()"
   ]
  },
  {
   "cell_type": "code",
   "execution_count": 8,
   "metadata": {
    "slideshow": {
     "slide_type": "skip"
    }
   },
   "outputs": [
    {
     "data": {
      "text/plain": [
       "11681"
      ]
     },
     "execution_count": 8,
     "metadata": {},
     "output_type": "execute_result"
    }
   ],
   "source": [
    "dataframes['inventories']['id'].nunique() # id is unique"
   ]
  },
  {
   "cell_type": "code",
   "execution_count": 9,
   "metadata": {
    "slideshow": {
     "slide_type": "skip"
    }
   },
   "outputs": [
    {
     "data": {
      "text/plain": [
       "11670"
      ]
     },
     "execution_count": 9,
     "metadata": {},
     "output_type": "execute_result"
    }
   ],
   "source": [
    "dataframes['inventories']['set_num'].nunique() # set_num is not unique"
   ]
  },
  {
   "cell_type": "code",
   "execution_count": 10,
   "metadata": {
    "slideshow": {
     "slide_type": "skip"
    }
   },
   "outputs": [
    {
     "data": {
      "text/html": [
       "<div>\n",
       "<style scoped>\n",
       "    .dataframe tbody tr th:only-of-type {\n",
       "        vertical-align: middle;\n",
       "    }\n",
       "\n",
       "    .dataframe tbody tr th {\n",
       "        vertical-align: top;\n",
       "    }\n",
       "\n",
       "    .dataframe thead th {\n",
       "        text-align: right;\n",
       "    }\n",
       "</style>\n",
       "<table border=\"1\" class=\"dataframe\">\n",
       "  <thead>\n",
       "    <tr style=\"text-align: right;\">\n",
       "      <th></th>\n",
       "      <th>id</th>\n",
       "      <th>version</th>\n",
       "      <th>set_num</th>\n",
       "    </tr>\n",
       "  </thead>\n",
       "  <tbody>\n",
       "  </tbody>\n",
       "</table>\n",
       "</div>"
      ],
      "text/plain": [
       "Empty DataFrame\n",
       "Columns: [id, version, set_num]\n",
       "Index: []"
      ]
     },
     "execution_count": 10,
     "metadata": {},
     "output_type": "execute_result"
    }
   ],
   "source": [
    "# set_num + version is unique, so each set_num + version has an unique id in this inventories table\n",
    "dataframes['inventories'][dataframes['inventories'].duplicated(['set_num','version'], keep=False)] "
   ]
  },
  {
   "cell_type": "markdown",
   "metadata": {
    "slideshow": {
     "slide_type": "skip"
    }
   },
   "source": [
    "#### inventory_sets"
   ]
  },
  {
   "cell_type": "code",
   "execution_count": 11,
   "metadata": {
    "slideshow": {
     "slide_type": "skip"
    }
   },
   "outputs": [
    {
     "name": "stdout",
     "output_type": "stream",
     "text": [
      "<class 'pandas.core.frame.DataFrame'>\n",
      "RangeIndex: 2846 entries, 0 to 2845\n",
      "Data columns (total 3 columns):\n",
      " #   Column        Non-Null Count  Dtype \n",
      "---  ------        --------------  ----- \n",
      " 0   inventory_id  2846 non-null   int64 \n",
      " 1   set_num       2846 non-null   object\n",
      " 2   quantity      2846 non-null   int64 \n",
      "dtypes: int64(2), object(1)\n",
      "memory usage: 66.8+ KB\n"
     ]
    }
   ],
   "source": [
    "dataframes['inventory_sets'].info()"
   ]
  },
  {
   "cell_type": "code",
   "execution_count": 12,
   "metadata": {
    "slideshow": {
     "slide_type": "skip"
    }
   },
   "outputs": [
    {
     "data": {
      "text/plain": [
       "589"
      ]
     },
     "execution_count": 12,
     "metadata": {},
     "output_type": "execute_result"
    }
   ],
   "source": [
    "dataframes['inventory_sets']['inventory_id'].nunique() # inventory_id is not unique"
   ]
  },
  {
   "cell_type": "code",
   "execution_count": 13,
   "metadata": {
    "slideshow": {
     "slide_type": "skip"
    }
   },
   "outputs": [
    {
     "data": {
      "text/plain": [
       "2514    30\n",
       "6174    24\n",
       "9926    24\n",
       "7881    24\n",
       "6702    24\n",
       "        ..\n",
       "9765     1\n",
       "6034     1\n",
       "4719     1\n",
       "4666     1\n",
       "1791     1\n",
       "Name: inventory_id, Length: 589, dtype: int64"
      ]
     },
     "execution_count": 13,
     "metadata": {},
     "output_type": "execute_result"
    }
   ],
   "source": [
    "dataframes['inventory_sets']['inventory_id'].value_counts()"
   ]
  },
  {
   "cell_type": "code",
   "execution_count": 17,
   "metadata": {
    "slideshow": {
     "slide_type": "skip"
    }
   },
   "outputs": [
    {
     "data": {
      "text/html": [
       "<div>\n",
       "<style scoped>\n",
       "    .dataframe tbody tr th:only-of-type {\n",
       "        vertical-align: middle;\n",
       "    }\n",
       "\n",
       "    .dataframe tbody tr th {\n",
       "        vertical-align: top;\n",
       "    }\n",
       "\n",
       "    .dataframe thead th {\n",
       "        text-align: right;\n",
       "    }\n",
       "</style>\n",
       "<table border=\"1\" class=\"dataframe\">\n",
       "  <thead>\n",
       "    <tr style=\"text-align: right;\">\n",
       "      <th></th>\n",
       "      <th>id</th>\n",
       "      <th>version</th>\n",
       "      <th>set_num</th>\n",
       "    </tr>\n",
       "  </thead>\n",
       "  <tbody>\n",
       "    <tr>\n",
       "      <th>1746</th>\n",
       "      <td>2514</td>\n",
       "      <td>1</td>\n",
       "      <td>cokesoccer-1</td>\n",
       "    </tr>\n",
       "  </tbody>\n",
       "</table>\n",
       "</div>"
      ],
      "text/plain": [
       "        id  version       set_num\n",
       "1746  2514        1  cokesoccer-1"
      ]
     },
     "execution_count": 17,
     "metadata": {},
     "output_type": "execute_result"
    }
   ],
   "source": [
    "# check 2514 in inventories table\n",
    "dataframes['inventories'][dataframes['inventories']['id'] == 2514]"
   ]
  },
  {
   "cell_type": "code",
   "execution_count": 18,
   "metadata": {
    "slideshow": {
     "slide_type": "notes"
    }
   },
   "outputs": [
    {
     "data": {
      "text/html": [
       "<div>\n",
       "<style scoped>\n",
       "    .dataframe tbody tr th:only-of-type {\n",
       "        vertical-align: middle;\n",
       "    }\n",
       "\n",
       "    .dataframe tbody tr th {\n",
       "        vertical-align: top;\n",
       "    }\n",
       "\n",
       "    .dataframe thead th {\n",
       "        text-align: right;\n",
       "    }\n",
       "</style>\n",
       "<table border=\"1\" class=\"dataframe\">\n",
       "  <thead>\n",
       "    <tr style=\"text-align: right;\">\n",
       "      <th></th>\n",
       "      <th>set_num</th>\n",
       "      <th>name</th>\n",
       "      <th>year</th>\n",
       "      <th>theme_id</th>\n",
       "      <th>num_parts</th>\n",
       "    </tr>\n",
       "  </thead>\n",
       "  <tbody>\n",
       "    <tr>\n",
       "      <th>11090</th>\n",
       "      <td>cokesoccer-1</td>\n",
       "      <td>Japanese Coca-Cola Soccer collection sets 4443...</td>\n",
       "      <td>2002</td>\n",
       "      <td>462</td>\n",
       "      <td>30</td>\n",
       "    </tr>\n",
       "  </tbody>\n",
       "</table>\n",
       "</div>"
      ],
      "text/plain": [
       "            set_num                                               name  year  \\\n",
       "11090  cokesoccer-1  Japanese Coca-Cola Soccer collection sets 4443...  2002   \n",
       "\n",
       "       theme_id  num_parts  \n",
       "11090       462         30  "
      ]
     },
     "execution_count": 18,
     "metadata": {},
     "output_type": "execute_result"
    }
   ],
   "source": [
    "# find set_num( cokesoccer-1) in sets\n",
    "dataframes['sets'][dataframes['sets']['set_num'] =='cokesoccer-1' ]"
   ]
  },
  {
   "cell_type": "code",
   "execution_count": 19,
   "metadata": {
    "slideshow": {
     "slide_type": "skip"
    }
   },
   "outputs": [
    {
     "data": {
      "text/plain": [
       "True"
      ]
     },
     "execution_count": 19,
     "metadata": {},
     "output_type": "execute_result"
    }
   ],
   "source": [
    "df_id_2514['set_num'].nunique() == len(df_id_2514)"
   ]
  },
  {
   "cell_type": "code",
   "execution_count": 20,
   "metadata": {
    "slideshow": {
     "slide_type": "skip"
    }
   },
   "outputs": [
    {
     "data": {
      "text/plain": [
       "2306"
      ]
     },
     "execution_count": 20,
     "metadata": {},
     "output_type": "execute_result"
    }
   ],
   "source": [
    "dataframes['inventory_sets']['set_num'].nunique() # the number of set_num's unique value > than inventory_id unique value"
   ]
  },
  {
   "cell_type": "code",
   "execution_count": 21,
   "metadata": {
    "slideshow": {
     "slide_type": "skip"
    }
   },
   "outputs": [
    {
     "data": {
      "text/html": [
       "<div>\n",
       "<style scoped>\n",
       "    .dataframe tbody tr th:only-of-type {\n",
       "        vertical-align: middle;\n",
       "    }\n",
       "\n",
       "    .dataframe tbody tr th {\n",
       "        vertical-align: top;\n",
       "    }\n",
       "\n",
       "    .dataframe thead th {\n",
       "        text-align: right;\n",
       "    }\n",
       "</style>\n",
       "<table border=\"1\" class=\"dataframe\">\n",
       "  <thead>\n",
       "    <tr style=\"text-align: right;\">\n",
       "      <th></th>\n",
       "      <th>inventory_id</th>\n",
       "      <th>set_num</th>\n",
       "      <th>quantity</th>\n",
       "    </tr>\n",
       "  </thead>\n",
       "  <tbody>\n",
       "  </tbody>\n",
       "</table>\n",
       "</div>"
      ],
      "text/plain": [
       "Empty DataFrame\n",
       "Columns: [inventory_id, set_num, quantity]\n",
       "Index: []"
      ]
     },
     "execution_count": 21,
     "metadata": {},
     "output_type": "execute_result"
    }
   ],
   "source": [
    "dataframes['inventory_sets'][dataframes['inventory_sets'].duplicated(['set_num','inventory_id'], keep=False)]  # set_num + inventory_id is unique"
   ]
  },
  {
   "cell_type": "markdown",
   "metadata": {
    "slideshow": {
     "slide_type": "skip"
    }
   },
   "source": [
    "## themes"
   ]
  },
  {
   "cell_type": "code",
   "execution_count": 22,
   "metadata": {
    "slideshow": {
     "slide_type": "skip"
    }
   },
   "outputs": [
    {
     "data": {
      "text/html": [
       "<div>\n",
       "<style scoped>\n",
       "    .dataframe tbody tr th:only-of-type {\n",
       "        vertical-align: middle;\n",
       "    }\n",
       "\n",
       "    .dataframe tbody tr th {\n",
       "        vertical-align: top;\n",
       "    }\n",
       "\n",
       "    .dataframe thead th {\n",
       "        text-align: right;\n",
       "    }\n",
       "</style>\n",
       "<table border=\"1\" class=\"dataframe\">\n",
       "  <thead>\n",
       "    <tr style=\"text-align: right;\">\n",
       "      <th></th>\n",
       "      <th>id</th>\n",
       "      <th>name</th>\n",
       "      <th>parent_id</th>\n",
       "    </tr>\n",
       "  </thead>\n",
       "  <tbody>\n",
       "    <tr>\n",
       "      <th>0</th>\n",
       "      <td>1</td>\n",
       "      <td>Technic</td>\n",
       "      <td>NaN</td>\n",
       "    </tr>\n",
       "    <tr>\n",
       "      <th>1</th>\n",
       "      <td>2</td>\n",
       "      <td>Arctic Technic</td>\n",
       "      <td>1.0</td>\n",
       "    </tr>\n",
       "    <tr>\n",
       "      <th>2</th>\n",
       "      <td>3</td>\n",
       "      <td>Competition</td>\n",
       "      <td>1.0</td>\n",
       "    </tr>\n",
       "    <tr>\n",
       "      <th>3</th>\n",
       "      <td>4</td>\n",
       "      <td>Expert Builder</td>\n",
       "      <td>1.0</td>\n",
       "    </tr>\n",
       "    <tr>\n",
       "      <th>4</th>\n",
       "      <td>5</td>\n",
       "      <td>Model</td>\n",
       "      <td>1.0</td>\n",
       "    </tr>\n",
       "    <tr>\n",
       "      <th>...</th>\n",
       "      <td>...</td>\n",
       "      <td>...</td>\n",
       "      <td>...</td>\n",
       "    </tr>\n",
       "    <tr>\n",
       "      <th>609</th>\n",
       "      <td>610</td>\n",
       "      <td>Brickheadz</td>\n",
       "      <td>NaN</td>\n",
       "    </tr>\n",
       "    <tr>\n",
       "      <th>610</th>\n",
       "      <td>611</td>\n",
       "      <td>Series 17 Minifigures</td>\n",
       "      <td>535.0</td>\n",
       "    </tr>\n",
       "    <tr>\n",
       "      <th>611</th>\n",
       "      <td>612</td>\n",
       "      <td>Star Wars Episode 8</td>\n",
       "      <td>158.0</td>\n",
       "    </tr>\n",
       "    <tr>\n",
       "      <th>612</th>\n",
       "      <td>613</td>\n",
       "      <td>Freemakers</td>\n",
       "      <td>158.0</td>\n",
       "    </tr>\n",
       "    <tr>\n",
       "      <th>613</th>\n",
       "      <td>614</td>\n",
       "      <td>Jungle</td>\n",
       "      <td>52.0</td>\n",
       "    </tr>\n",
       "  </tbody>\n",
       "</table>\n",
       "<p>614 rows × 3 columns</p>\n",
       "</div>"
      ],
      "text/plain": [
       "      id                   name  parent_id\n",
       "0      1                Technic        NaN\n",
       "1      2         Arctic Technic        1.0\n",
       "2      3            Competition        1.0\n",
       "3      4         Expert Builder        1.0\n",
       "4      5                  Model        1.0\n",
       "..   ...                    ...        ...\n",
       "609  610             Brickheadz        NaN\n",
       "610  611  Series 17 Minifigures      535.0\n",
       "611  612    Star Wars Episode 8      158.0\n",
       "612  613             Freemakers      158.0\n",
       "613  614                 Jungle       52.0\n",
       "\n",
       "[614 rows x 3 columns]"
      ]
     },
     "execution_count": 22,
     "metadata": {},
     "output_type": "execute_result"
    }
   ],
   "source": [
    "dataframes['themes']"
   ]
  },
  {
   "cell_type": "code",
   "execution_count": 23,
   "metadata": {
    "slideshow": {
     "slide_type": "skip"
    }
   },
   "outputs": [
    {
     "data": {
      "text/plain": [
       "Supplemental             18\n",
       "Fire                     12\n",
       "Airport                  11\n",
       "Traffic                   9\n",
       "Harbor                    9\n",
       "                         ..\n",
       "Studios                   1\n",
       "SpongeBob SquarePants     1\n",
       "Prince of Persia          1\n",
       "Ben 10                    1\n",
       "Freemakers                1\n",
       "Name: name, Length: 402, dtype: int64"
      ]
     },
     "execution_count": 23,
     "metadata": {},
     "output_type": "execute_result"
    }
   ],
   "source": [
    "dataframes['themes']['name'].value_counts()"
   ]
  },
  {
   "cell_type": "code",
   "execution_count": 24,
   "metadata": {
    "slideshow": {
     "slide_type": "skip"
    }
   },
   "outputs": [
    {
     "data": {
      "text/html": [
       "<div>\n",
       "<style scoped>\n",
       "    .dataframe tbody tr th:only-of-type {\n",
       "        vertical-align: middle;\n",
       "    }\n",
       "\n",
       "    .dataframe tbody tr th {\n",
       "        vertical-align: top;\n",
       "    }\n",
       "\n",
       "    .dataframe thead th {\n",
       "        text-align: right;\n",
       "    }\n",
       "</style>\n",
       "<table border=\"1\" class=\"dataframe\">\n",
       "  <thead>\n",
       "    <tr style=\"text-align: right;\">\n",
       "      <th></th>\n",
       "      <th>id</th>\n",
       "      <th>name</th>\n",
       "      <th>parent_id</th>\n",
       "    </tr>\n",
       "  </thead>\n",
       "  <tbody>\n",
       "    <tr>\n",
       "      <th>241</th>\n",
       "      <td>242</td>\n",
       "      <td>12V</td>\n",
       "      <td>241.0</td>\n",
       "    </tr>\n",
       "    <tr>\n",
       "      <th>233</th>\n",
       "      <td>234</td>\n",
       "      <td>12V</td>\n",
       "      <td>233.0</td>\n",
       "    </tr>\n",
       "    <tr>\n",
       "      <th>278</th>\n",
       "      <td>279</td>\n",
       "      <td>4 Juniors</td>\n",
       "      <td>NaN</td>\n",
       "    </tr>\n",
       "    <tr>\n",
       "      <th>507</th>\n",
       "      <td>508</td>\n",
       "      <td>4 Juniors</td>\n",
       "      <td>507.0</td>\n",
       "    </tr>\n",
       "    <tr>\n",
       "      <th>234</th>\n",
       "      <td>235</td>\n",
       "      <td>4.5V</td>\n",
       "      <td>233.0</td>\n",
       "    </tr>\n",
       "    <tr>\n",
       "      <th>...</th>\n",
       "      <td>...</td>\n",
       "      <td>...</td>\n",
       "      <td>...</td>\n",
       "    </tr>\n",
       "    <tr>\n",
       "      <th>422</th>\n",
       "      <td>423</td>\n",
       "      <td>Vehicle</td>\n",
       "      <td>411.0</td>\n",
       "    </tr>\n",
       "    <tr>\n",
       "      <th>423</th>\n",
       "      <td>424</td>\n",
       "      <td>Western</td>\n",
       "      <td>411.0</td>\n",
       "    </tr>\n",
       "    <tr>\n",
       "      <th>474</th>\n",
       "      <td>475</td>\n",
       "      <td>Western</td>\n",
       "      <td>NaN</td>\n",
       "    </tr>\n",
       "    <tr>\n",
       "      <th>104</th>\n",
       "      <td>105</td>\n",
       "      <td>World City</td>\n",
       "      <td>50.0</td>\n",
       "    </tr>\n",
       "    <tr>\n",
       "      <th>238</th>\n",
       "      <td>239</td>\n",
       "      <td>World City</td>\n",
       "      <td>236.0</td>\n",
       "    </tr>\n",
       "  </tbody>\n",
       "</table>\n",
       "<p>291 rows × 3 columns</p>\n",
       "</div>"
      ],
      "text/plain": [
       "      id        name  parent_id\n",
       "241  242         12V      241.0\n",
       "233  234         12V      233.0\n",
       "278  279   4 Juniors        NaN\n",
       "507  508   4 Juniors      507.0\n",
       "234  235        4.5V      233.0\n",
       "..   ...         ...        ...\n",
       "422  423     Vehicle      411.0\n",
       "423  424     Western      411.0\n",
       "474  475     Western        NaN\n",
       "104  105  World City       50.0\n",
       "238  239  World City      236.0\n",
       "\n",
       "[291 rows x 3 columns]"
      ]
     },
     "execution_count": 24,
     "metadata": {},
     "output_type": "execute_result"
    }
   ],
   "source": [
    "# show the rows with duplicates names\n",
    "dataframes['themes'][dataframes['themes'].duplicated(subset=['name'], keep=False)].sort_values(by='name')"
   ]
  },
  {
   "cell_type": "markdown",
   "metadata": {
    "slideshow": {
     "slide_type": "skip"
    }
   },
   "source": [
    "## sets"
   ]
  },
  {
   "cell_type": "code",
   "execution_count": 25,
   "metadata": {
    "slideshow": {
     "slide_type": "skip"
    }
   },
   "outputs": [
    {
     "data": {
      "text/plain": [
       "Basic Building Set                     55\n",
       "Universal Building Set                 32\n",
       "Helicopter                             23\n",
       "Basic Set                              23\n",
       "Fire Station                           14\n",
       "                                       ..\n",
       "EV3 Core Set                            1\n",
       "EV3 Expansion Set                       1\n",
       "Space Challenge Set                     1\n",
       "Freight Loading Station                 1\n",
       "Wild West Limited Edition Gift Pack     1\n",
       "Name: name, Length: 10370, dtype: int64"
      ]
     },
     "execution_count": 25,
     "metadata": {},
     "output_type": "execute_result"
    }
   ],
   "source": [
    "dataframes['sets']['name'].value_counts()"
   ]
  },
  {
   "cell_type": "code",
   "execution_count": 26,
   "metadata": {
    "slideshow": {
     "slide_type": "skip"
    }
   },
   "outputs": [
    {
     "name": "stdout",
     "output_type": "stream",
     "text": [
      "<class 'pandas.core.frame.DataFrame'>\n",
      "RangeIndex: 11673 entries, 0 to 11672\n",
      "Data columns (total 5 columns):\n",
      " #   Column     Non-Null Count  Dtype \n",
      "---  ------     --------------  ----- \n",
      " 0   set_num    11673 non-null  object\n",
      " 1   name       11673 non-null  object\n",
      " 2   year       11673 non-null  int64 \n",
      " 3   theme_id   11673 non-null  int64 \n",
      " 4   num_parts  11673 non-null  int64 \n",
      "dtypes: int64(3), object(2)\n",
      "memory usage: 456.1+ KB\n"
     ]
    }
   ],
   "source": [
    "dataframes['sets'].info()"
   ]
  },
  {
   "cell_type": "markdown",
   "metadata": {
    "slideshow": {
     "slide_type": "skip"
    }
   },
   "source": [
    "## inventory_parts"
   ]
  },
  {
   "cell_type": "code",
   "execution_count": 27,
   "metadata": {
    "slideshow": {
     "slide_type": "skip"
    }
   },
   "outputs": [
    {
     "name": "stdout",
     "output_type": "stream",
     "text": [
      "<class 'pandas.core.frame.DataFrame'>\n",
      "RangeIndex: 580251 entries, 0 to 580250\n",
      "Data columns (total 5 columns):\n",
      " #   Column        Non-Null Count   Dtype \n",
      "---  ------        --------------   ----- \n",
      " 0   inventory_id  580251 non-null  int64 \n",
      " 1   part_num      580251 non-null  object\n",
      " 2   color_id      580251 non-null  int64 \n",
      " 3   quantity      580251 non-null  int64 \n",
      " 4   is_spare      580251 non-null  object\n",
      "dtypes: int64(3), object(2)\n",
      "memory usage: 22.1+ MB\n"
     ]
    }
   ],
   "source": [
    "# what is the inventory_id : part ? set ? is it unique?\n",
    "# inventory_id = set + version = we can call it uni_set_id\n",
    "dataframes['inventory_parts'].info()"
   ]
  },
  {
   "cell_type": "code",
   "execution_count": 28,
   "metadata": {
    "slideshow": {
     "slide_type": "skip"
    }
   },
   "outputs": [
    {
     "data": {
      "text/plain": [
       "10724"
      ]
     },
     "execution_count": 28,
     "metadata": {},
     "output_type": "execute_result"
    }
   ],
   "source": [
    "dataframes['inventory_parts']['inventory_id'].nunique()\n",
    "# inventory_id is not unique is table inventory parts"
   ]
  },
  {
   "cell_type": "code",
   "execution_count": 29,
   "metadata": {
    "slideshow": {
     "slide_type": "skip"
    }
   },
   "outputs": [
    {
     "data": {
      "text/plain": [
       "1305     769\n",
       "12397    700\n",
       "8461     687\n",
       "16139    593\n",
       "14208    592\n",
       "        ... \n",
       "14811      1\n",
       "9064       1\n",
       "9037       1\n",
       "9036       1\n",
       "1129       1\n",
       "Name: inventory_id, Length: 10724, dtype: int64"
      ]
     },
     "execution_count": 29,
     "metadata": {},
     "output_type": "execute_result"
    }
   ],
   "source": [
    "dataframes['inventory_parts']['inventory_id'].value_counts()"
   ]
  },
  {
   "cell_type": "code",
   "execution_count": 30,
   "metadata": {
    "slideshow": {
     "slide_type": "skip"
    }
   },
   "outputs": [
    {
     "data": {
      "text/html": [
       "<div>\n",
       "<style scoped>\n",
       "    .dataframe tbody tr th:only-of-type {\n",
       "        vertical-align: middle;\n",
       "    }\n",
       "\n",
       "    .dataframe tbody tr th {\n",
       "        vertical-align: top;\n",
       "    }\n",
       "\n",
       "    .dataframe thead th {\n",
       "        text-align: right;\n",
       "    }\n",
       "</style>\n",
       "<table border=\"1\" class=\"dataframe\">\n",
       "  <thead>\n",
       "    <tr style=\"text-align: right;\">\n",
       "      <th></th>\n",
       "      <th>inventory_id</th>\n",
       "      <th>part_num</th>\n",
       "      <th>color_id</th>\n",
       "      <th>quantity</th>\n",
       "      <th>is_spare</th>\n",
       "    </tr>\n",
       "  </thead>\n",
       "  <tbody>\n",
       "    <tr>\n",
       "      <th>43090</th>\n",
       "      <td>1305</td>\n",
       "      <td>10170</td>\n",
       "      <td>84</td>\n",
       "      <td>1</td>\n",
       "      <td>f</td>\n",
       "    </tr>\n",
       "    <tr>\n",
       "      <th>43091</th>\n",
       "      <td>1305</td>\n",
       "      <td>11062</td>\n",
       "      <td>15</td>\n",
       "      <td>2</td>\n",
       "      <td>f</td>\n",
       "    </tr>\n",
       "    <tr>\n",
       "      <th>43092</th>\n",
       "      <td>1305</td>\n",
       "      <td>11090</td>\n",
       "      <td>14</td>\n",
       "      <td>8</td>\n",
       "      <td>f</td>\n",
       "    </tr>\n",
       "    <tr>\n",
       "      <th>43093</th>\n",
       "      <td>1305</td>\n",
       "      <td>11090</td>\n",
       "      <td>0</td>\n",
       "      <td>4</td>\n",
       "      <td>f</td>\n",
       "    </tr>\n",
       "    <tr>\n",
       "      <th>43094</th>\n",
       "      <td>1305</td>\n",
       "      <td>11153</td>\n",
       "      <td>71</td>\n",
       "      <td>2</td>\n",
       "      <td>f</td>\n",
       "    </tr>\n",
       "    <tr>\n",
       "      <th>...</th>\n",
       "      <td>...</td>\n",
       "      <td>...</td>\n",
       "      <td>...</td>\n",
       "      <td>...</td>\n",
       "      <td>...</td>\n",
       "    </tr>\n",
       "    <tr>\n",
       "      <th>43854</th>\n",
       "      <td>1305</td>\n",
       "      <td>99207</td>\n",
       "      <td>0</td>\n",
       "      <td>5</td>\n",
       "      <td>f</td>\n",
       "    </tr>\n",
       "    <tr>\n",
       "      <th>43855</th>\n",
       "      <td>1305</td>\n",
       "      <td>99780</td>\n",
       "      <td>15</td>\n",
       "      <td>1</td>\n",
       "      <td>f</td>\n",
       "    </tr>\n",
       "    <tr>\n",
       "      <th>43856</th>\n",
       "      <td>1305</td>\n",
       "      <td>99780</td>\n",
       "      <td>71</td>\n",
       "      <td>1</td>\n",
       "      <td>f</td>\n",
       "    </tr>\n",
       "    <tr>\n",
       "      <th>43857</th>\n",
       "      <td>1305</td>\n",
       "      <td>99780</td>\n",
       "      <td>0</td>\n",
       "      <td>1</td>\n",
       "      <td>f</td>\n",
       "    </tr>\n",
       "    <tr>\n",
       "      <th>43858</th>\n",
       "      <td>1305</td>\n",
       "      <td>99930</td>\n",
       "      <td>28</td>\n",
       "      <td>1</td>\n",
       "      <td>f</td>\n",
       "    </tr>\n",
       "  </tbody>\n",
       "</table>\n",
       "<p>769 rows × 5 columns</p>\n",
       "</div>"
      ],
      "text/plain": [
       "       inventory_id part_num  color_id  quantity is_spare\n",
       "43090          1305    10170        84         1        f\n",
       "43091          1305    11062        15         2        f\n",
       "43092          1305    11090        14         8        f\n",
       "43093          1305    11090         0         4        f\n",
       "43094          1305    11153        71         2        f\n",
       "...             ...      ...       ...       ...      ...\n",
       "43854          1305    99207         0         5        f\n",
       "43855          1305    99780        15         1        f\n",
       "43856          1305    99780        71         1        f\n",
       "43857          1305    99780         0         1        f\n",
       "43858          1305    99930        28         1        f\n",
       "\n",
       "[769 rows x 5 columns]"
      ]
     },
     "execution_count": 30,
     "metadata": {},
     "output_type": "execute_result"
    }
   ],
   "source": [
    "# for inventory_id 1305\n",
    "dataframes['inventory_parts'][dataframes['inventory_parts']['inventory_id']==1305]"
   ]
  },
  {
   "cell_type": "code",
   "execution_count": 31,
   "metadata": {
    "slideshow": {
     "slide_type": "skip"
    }
   },
   "outputs": [
    {
     "data": {
      "text/html": [
       "<div>\n",
       "<style scoped>\n",
       "    .dataframe tbody tr th:only-of-type {\n",
       "        vertical-align: middle;\n",
       "    }\n",
       "\n",
       "    .dataframe tbody tr th {\n",
       "        vertical-align: top;\n",
       "    }\n",
       "\n",
       "    .dataframe thead th {\n",
       "        text-align: right;\n",
       "    }\n",
       "</style>\n",
       "<table border=\"1\" class=\"dataframe\">\n",
       "  <thead>\n",
       "    <tr style=\"text-align: right;\">\n",
       "      <th></th>\n",
       "      <th>id</th>\n",
       "      <th>version</th>\n",
       "      <th>set_num</th>\n",
       "    </tr>\n",
       "  </thead>\n",
       "  <tbody>\n",
       "    <tr>\n",
       "      <th>905</th>\n",
       "      <td>1305</td>\n",
       "      <td>1</td>\n",
       "      <td>10255-1</td>\n",
       "    </tr>\n",
       "  </tbody>\n",
       "</table>\n",
       "</div>"
      ],
      "text/plain": [
       "       id  version  set_num\n",
       "905  1305        1  10255-1"
      ]
     },
     "execution_count": 31,
     "metadata": {},
     "output_type": "execute_result"
    }
   ],
   "source": [
    "dataframes['inventories'][dataframes['inventories']['id']==1305]"
   ]
  },
  {
   "cell_type": "code",
   "execution_count": 32,
   "metadata": {
    "slideshow": {
     "slide_type": "skip"
    }
   },
   "outputs": [
    {
     "data": {
      "text/html": [
       "<div>\n",
       "<style scoped>\n",
       "    .dataframe tbody tr th:only-of-type {\n",
       "        vertical-align: middle;\n",
       "    }\n",
       "\n",
       "    .dataframe tbody tr th {\n",
       "        vertical-align: top;\n",
       "    }\n",
       "\n",
       "    .dataframe thead th {\n",
       "        text-align: right;\n",
       "    }\n",
       "</style>\n",
       "<table border=\"1\" class=\"dataframe\">\n",
       "  <thead>\n",
       "    <tr style=\"text-align: right;\">\n",
       "      <th></th>\n",
       "      <th>set_num</th>\n",
       "      <th>name</th>\n",
       "      <th>year</th>\n",
       "      <th>theme_id</th>\n",
       "      <th>num_parts</th>\n",
       "    </tr>\n",
       "  </thead>\n",
       "  <tbody>\n",
       "    <tr>\n",
       "      <th>236</th>\n",
       "      <td>10255-1</td>\n",
       "      <td>Assembly Square</td>\n",
       "      <td>2017</td>\n",
       "      <td>155</td>\n",
       "      <td>4009</td>\n",
       "    </tr>\n",
       "  </tbody>\n",
       "</table>\n",
       "</div>"
      ],
      "text/plain": [
       "     set_num             name  year  theme_id  num_parts\n",
       "236  10255-1  Assembly Square  2017       155       4009"
      ]
     },
     "execution_count": 32,
     "metadata": {},
     "output_type": "execute_result"
    }
   ],
   "source": [
    "dataframes['sets'][dataframes['sets']['set_num']=='10255-1']"
   ]
  },
  {
   "cell_type": "markdown",
   "metadata": {
    "slideshow": {
     "slide_type": "skip"
    }
   },
   "source": [
    "## part_categories"
   ]
  },
  {
   "cell_type": "code",
   "execution_count": 34,
   "metadata": {
    "slideshow": {
     "slide_type": "skip"
    }
   },
   "outputs": [
    {
     "data": {
      "text/html": [
       "<div>\n",
       "<style scoped>\n",
       "    .dataframe tbody tr th:only-of-type {\n",
       "        vertical-align: middle;\n",
       "    }\n",
       "\n",
       "    .dataframe tbody tr th {\n",
       "        vertical-align: top;\n",
       "    }\n",
       "\n",
       "    .dataframe thead th {\n",
       "        text-align: right;\n",
       "    }\n",
       "</style>\n",
       "<table border=\"1\" class=\"dataframe\">\n",
       "  <thead>\n",
       "    <tr style=\"text-align: right;\">\n",
       "      <th></th>\n",
       "      <th>id</th>\n",
       "      <th>name</th>\n",
       "    </tr>\n",
       "  </thead>\n",
       "  <tbody>\n",
       "    <tr>\n",
       "      <th>0</th>\n",
       "      <td>1</td>\n",
       "      <td>Baseplates</td>\n",
       "    </tr>\n",
       "    <tr>\n",
       "      <th>1</th>\n",
       "      <td>2</td>\n",
       "      <td>Bricks Printed</td>\n",
       "    </tr>\n",
       "    <tr>\n",
       "      <th>2</th>\n",
       "      <td>3</td>\n",
       "      <td>Bricks Sloped</td>\n",
       "    </tr>\n",
       "    <tr>\n",
       "      <th>3</th>\n",
       "      <td>4</td>\n",
       "      <td>Duplo, Quatro and Primo</td>\n",
       "    </tr>\n",
       "    <tr>\n",
       "      <th>4</th>\n",
       "      <td>5</td>\n",
       "      <td>Bricks Special</td>\n",
       "    </tr>\n",
       "    <tr>\n",
       "      <th>5</th>\n",
       "      <td>6</td>\n",
       "      <td>Bricks Wedged</td>\n",
       "    </tr>\n",
       "    <tr>\n",
       "      <th>6</th>\n",
       "      <td>7</td>\n",
       "      <td>Containers</td>\n",
       "    </tr>\n",
       "    <tr>\n",
       "      <th>7</th>\n",
       "      <td>8</td>\n",
       "      <td>Technic Bricks</td>\n",
       "    </tr>\n",
       "    <tr>\n",
       "      <th>8</th>\n",
       "      <td>9</td>\n",
       "      <td>Plates Special</td>\n",
       "    </tr>\n",
       "    <tr>\n",
       "      <th>9</th>\n",
       "      <td>10</td>\n",
       "      <td>Tiles Printed</td>\n",
       "    </tr>\n",
       "    <tr>\n",
       "      <th>10</th>\n",
       "      <td>11</td>\n",
       "      <td>Bricks</td>\n",
       "    </tr>\n",
       "    <tr>\n",
       "      <th>11</th>\n",
       "      <td>12</td>\n",
       "      <td>Technic Connectors</td>\n",
       "    </tr>\n",
       "    <tr>\n",
       "      <th>12</th>\n",
       "      <td>13</td>\n",
       "      <td>Minifigs</td>\n",
       "    </tr>\n",
       "    <tr>\n",
       "      <th>13</th>\n",
       "      <td>14</td>\n",
       "      <td>Plates</td>\n",
       "    </tr>\n",
       "    <tr>\n",
       "      <th>14</th>\n",
       "      <td>15</td>\n",
       "      <td>Tiles Special</td>\n",
       "    </tr>\n",
       "    <tr>\n",
       "      <th>15</th>\n",
       "      <td>16</td>\n",
       "      <td>Windows and Doors</td>\n",
       "    </tr>\n",
       "    <tr>\n",
       "      <th>16</th>\n",
       "      <td>17</td>\n",
       "      <td>Non-LEGO</td>\n",
       "    </tr>\n",
       "    <tr>\n",
       "      <th>17</th>\n",
       "      <td>18</td>\n",
       "      <td>Hinges, Arms and Turntables</td>\n",
       "    </tr>\n",
       "    <tr>\n",
       "      <th>18</th>\n",
       "      <td>19</td>\n",
       "      <td>Tiles</td>\n",
       "    </tr>\n",
       "    <tr>\n",
       "      <th>19</th>\n",
       "      <td>20</td>\n",
       "      <td>Bricks Round and Cones</td>\n",
       "    </tr>\n",
       "    <tr>\n",
       "      <th>20</th>\n",
       "      <td>21</td>\n",
       "      <td>Plates Round and Dishes</td>\n",
       "    </tr>\n",
       "    <tr>\n",
       "      <th>21</th>\n",
       "      <td>22</td>\n",
       "      <td>Pneumatics</td>\n",
       "    </tr>\n",
       "    <tr>\n",
       "      <th>22</th>\n",
       "      <td>23</td>\n",
       "      <td>Panels</td>\n",
       "    </tr>\n",
       "    <tr>\n",
       "      <th>23</th>\n",
       "      <td>24</td>\n",
       "      <td>Other</td>\n",
       "    </tr>\n",
       "    <tr>\n",
       "      <th>24</th>\n",
       "      <td>25</td>\n",
       "      <td>Technic Steering, Suspension and Engine</td>\n",
       "    </tr>\n",
       "    <tr>\n",
       "      <th>25</th>\n",
       "      <td>26</td>\n",
       "      <td>Technic Special</td>\n",
       "    </tr>\n",
       "    <tr>\n",
       "      <th>26</th>\n",
       "      <td>27</td>\n",
       "      <td>Minifig Accessories</td>\n",
       "    </tr>\n",
       "    <tr>\n",
       "      <th>27</th>\n",
       "      <td>28</td>\n",
       "      <td>Plants and Animals</td>\n",
       "    </tr>\n",
       "    <tr>\n",
       "      <th>28</th>\n",
       "      <td>29</td>\n",
       "      <td>Wheels and Tyres</td>\n",
       "    </tr>\n",
       "    <tr>\n",
       "      <th>29</th>\n",
       "      <td>30</td>\n",
       "      <td>Tubes and Hoses</td>\n",
       "    </tr>\n",
       "    <tr>\n",
       "      <th>30</th>\n",
       "      <td>31</td>\n",
       "      <td>String, Bands and Reels</td>\n",
       "    </tr>\n",
       "    <tr>\n",
       "      <th>31</th>\n",
       "      <td>32</td>\n",
       "      <td>Bars, Ladders and Fences</td>\n",
       "    </tr>\n",
       "    <tr>\n",
       "      <th>32</th>\n",
       "      <td>33</td>\n",
       "      <td>Rock</td>\n",
       "    </tr>\n",
       "    <tr>\n",
       "      <th>33</th>\n",
       "      <td>34</td>\n",
       "      <td>Supports, Girders and Cranes</td>\n",
       "    </tr>\n",
       "    <tr>\n",
       "      <th>34</th>\n",
       "      <td>35</td>\n",
       "      <td>Transportation - Sea and Air</td>\n",
       "    </tr>\n",
       "    <tr>\n",
       "      <th>35</th>\n",
       "      <td>36</td>\n",
       "      <td>Transportation - Land</td>\n",
       "    </tr>\n",
       "    <tr>\n",
       "      <th>36</th>\n",
       "      <td>37</td>\n",
       "      <td>Bricks Curved</td>\n",
       "    </tr>\n",
       "    <tr>\n",
       "      <th>37</th>\n",
       "      <td>38</td>\n",
       "      <td>Flags, Signs, Plastics and Cloth</td>\n",
       "    </tr>\n",
       "    <tr>\n",
       "      <th>38</th>\n",
       "      <td>39</td>\n",
       "      <td>Magnets and Holders</td>\n",
       "    </tr>\n",
       "    <tr>\n",
       "      <th>39</th>\n",
       "      <td>40</td>\n",
       "      <td>Technic Panels</td>\n",
       "    </tr>\n",
       "    <tr>\n",
       "      <th>40</th>\n",
       "      <td>41</td>\n",
       "      <td>Bionicle, Hero Factory and Constraction</td>\n",
       "    </tr>\n",
       "    <tr>\n",
       "      <th>41</th>\n",
       "      <td>42</td>\n",
       "      <td>Belville, Scala and Fabuland</td>\n",
       "    </tr>\n",
       "    <tr>\n",
       "      <th>42</th>\n",
       "      <td>43</td>\n",
       "      <td>Znap</td>\n",
       "    </tr>\n",
       "    <tr>\n",
       "      <th>43</th>\n",
       "      <td>44</td>\n",
       "      <td>Mechanical</td>\n",
       "    </tr>\n",
       "    <tr>\n",
       "      <th>44</th>\n",
       "      <td>45</td>\n",
       "      <td>Power Functions, Mindstorms and Electric</td>\n",
       "    </tr>\n",
       "    <tr>\n",
       "      <th>45</th>\n",
       "      <td>46</td>\n",
       "      <td>Technic Axles</td>\n",
       "    </tr>\n",
       "    <tr>\n",
       "      <th>46</th>\n",
       "      <td>47</td>\n",
       "      <td>Windscreens and Fuselage</td>\n",
       "    </tr>\n",
       "    <tr>\n",
       "      <th>47</th>\n",
       "      <td>48</td>\n",
       "      <td>Clikits</td>\n",
       "    </tr>\n",
       "    <tr>\n",
       "      <th>48</th>\n",
       "      <td>49</td>\n",
       "      <td>Plates Angled</td>\n",
       "    </tr>\n",
       "    <tr>\n",
       "      <th>49</th>\n",
       "      <td>50</td>\n",
       "      <td>HO Scale</td>\n",
       "    </tr>\n",
       "    <tr>\n",
       "      <th>50</th>\n",
       "      <td>51</td>\n",
       "      <td>Technic Beams</td>\n",
       "    </tr>\n",
       "    <tr>\n",
       "      <th>51</th>\n",
       "      <td>52</td>\n",
       "      <td>Technic Gears</td>\n",
       "    </tr>\n",
       "    <tr>\n",
       "      <th>52</th>\n",
       "      <td>53</td>\n",
       "      <td>Technic Pins</td>\n",
       "    </tr>\n",
       "    <tr>\n",
       "      <th>53</th>\n",
       "      <td>54</td>\n",
       "      <td>Technic Bushes</td>\n",
       "    </tr>\n",
       "    <tr>\n",
       "      <th>54</th>\n",
       "      <td>55</td>\n",
       "      <td>Technic Beams Special</td>\n",
       "    </tr>\n",
       "    <tr>\n",
       "      <th>55</th>\n",
       "      <td>56</td>\n",
       "      <td>Tools</td>\n",
       "    </tr>\n",
       "    <tr>\n",
       "      <th>56</th>\n",
       "      <td>57</td>\n",
       "      <td>Non-Buildable Figures (Duplo, Fabuland, etc)</td>\n",
       "    </tr>\n",
       "  </tbody>\n",
       "</table>\n",
       "</div>"
      ],
      "text/plain": [
       "    id                                          name\n",
       "0    1                                    Baseplates\n",
       "1    2                                Bricks Printed\n",
       "2    3                                 Bricks Sloped\n",
       "3    4                       Duplo, Quatro and Primo\n",
       "4    5                                Bricks Special\n",
       "5    6                                 Bricks Wedged\n",
       "6    7                                    Containers\n",
       "7    8                                Technic Bricks\n",
       "8    9                                Plates Special\n",
       "9   10                                 Tiles Printed\n",
       "10  11                                        Bricks\n",
       "11  12                            Technic Connectors\n",
       "12  13                                      Minifigs\n",
       "13  14                                        Plates\n",
       "14  15                                 Tiles Special\n",
       "15  16                             Windows and Doors\n",
       "16  17                                      Non-LEGO\n",
       "17  18                   Hinges, Arms and Turntables\n",
       "18  19                                         Tiles\n",
       "19  20                        Bricks Round and Cones\n",
       "20  21                       Plates Round and Dishes\n",
       "21  22                                    Pneumatics\n",
       "22  23                                        Panels\n",
       "23  24                                         Other\n",
       "24  25       Technic Steering, Suspension and Engine\n",
       "25  26                               Technic Special\n",
       "26  27                           Minifig Accessories\n",
       "27  28                            Plants and Animals\n",
       "28  29                              Wheels and Tyres\n",
       "29  30                               Tubes and Hoses\n",
       "30  31                       String, Bands and Reels\n",
       "31  32                      Bars, Ladders and Fences\n",
       "32  33                                          Rock\n",
       "33  34                  Supports, Girders and Cranes\n",
       "34  35                  Transportation - Sea and Air\n",
       "35  36                         Transportation - Land\n",
       "36  37                                 Bricks Curved\n",
       "37  38              Flags, Signs, Plastics and Cloth\n",
       "38  39                           Magnets and Holders\n",
       "39  40                                Technic Panels\n",
       "40  41       Bionicle, Hero Factory and Constraction\n",
       "41  42                  Belville, Scala and Fabuland\n",
       "42  43                                          Znap\n",
       "43  44                                    Mechanical\n",
       "44  45      Power Functions, Mindstorms and Electric\n",
       "45  46                                 Technic Axles\n",
       "46  47                      Windscreens and Fuselage\n",
       "47  48                                       Clikits\n",
       "48  49                                 Plates Angled\n",
       "49  50                                      HO Scale\n",
       "50  51                                 Technic Beams\n",
       "51  52                                 Technic Gears\n",
       "52  53                                  Technic Pins\n",
       "53  54                                Technic Bushes\n",
       "54  55                         Technic Beams Special\n",
       "55  56                                         Tools\n",
       "56  57  Non-Buildable Figures (Duplo, Fabuland, etc)"
      ]
     },
     "execution_count": 34,
     "metadata": {},
     "output_type": "execute_result"
    }
   ],
   "source": [
    "dataframes['part_categories']"
   ]
  },
  {
   "cell_type": "markdown",
   "metadata": {
    "slideshow": {
     "slide_type": "skip"
    }
   },
   "source": [
    "## parts"
   ]
  },
  {
   "cell_type": "code",
   "execution_count": 35,
   "metadata": {
    "slideshow": {
     "slide_type": "skip"
    }
   },
   "outputs": [
    {
     "name": "stdout",
     "output_type": "stream",
     "text": [
      "<class 'pandas.core.frame.DataFrame'>\n",
      "RangeIndex: 25993 entries, 0 to 25992\n",
      "Data columns (total 3 columns):\n",
      " #   Column       Non-Null Count  Dtype \n",
      "---  ------       --------------  ----- \n",
      " 0   part_num     25993 non-null  object\n",
      " 1   name         25993 non-null  object\n",
      " 2   part_cat_id  25993 non-null  int64 \n",
      "dtypes: int64(1), object(2)\n",
      "memory usage: 609.3+ KB\n"
     ]
    }
   ],
   "source": [
    "dataframes['parts'].info()"
   ]
  },
  {
   "cell_type": "code",
   "execution_count": 36,
   "metadata": {
    "slideshow": {
     "slide_type": "skip"
    }
   },
   "outputs": [
    {
     "data": {
      "text/plain": [
       "25993"
      ]
     },
     "execution_count": 36,
     "metadata": {},
     "output_type": "execute_result"
    }
   ],
   "source": [
    "dataframes['parts']['part_num'].nunique()"
   ]
  },
  {
   "cell_type": "markdown",
   "metadata": {
    "slideshow": {
     "slide_type": "skip"
    }
   },
   "source": [
    "## inventories"
   ]
  },
  {
   "cell_type": "code",
   "execution_count": 37,
   "metadata": {
    "slideshow": {
     "slide_type": "skip"
    }
   },
   "outputs": [
    {
     "name": "stdout",
     "output_type": "stream",
     "text": [
      "<class 'pandas.core.frame.DataFrame'>\n",
      "RangeIndex: 11681 entries, 0 to 11680\n",
      "Data columns (total 3 columns):\n",
      " #   Column   Non-Null Count  Dtype \n",
      "---  ------   --------------  ----- \n",
      " 0   id       11681 non-null  int64 \n",
      " 1   version  11681 non-null  int64 \n",
      " 2   set_num  11681 non-null  object\n",
      "dtypes: int64(2), object(1)\n",
      "memory usage: 273.9+ KB\n"
     ]
    }
   ],
   "source": [
    "dataframes['inventories'].info()"
   ]
  },
  {
   "cell_type": "code",
   "execution_count": 38,
   "metadata": {
    "slideshow": {
     "slide_type": "skip"
    }
   },
   "outputs": [
    {
     "data": {
      "text/html": [
       "<div>\n",
       "<style scoped>\n",
       "    .dataframe tbody tr th:only-of-type {\n",
       "        vertical-align: middle;\n",
       "    }\n",
       "\n",
       "    .dataframe tbody tr th {\n",
       "        vertical-align: top;\n",
       "    }\n",
       "\n",
       "    .dataframe thead th {\n",
       "        text-align: right;\n",
       "    }\n",
       "</style>\n",
       "<table border=\"1\" class=\"dataframe\">\n",
       "  <thead>\n",
       "    <tr style=\"text-align: right;\">\n",
       "      <th></th>\n",
       "      <th>id</th>\n",
       "      <th>version</th>\n",
       "      <th>set_num</th>\n",
       "    </tr>\n",
       "  </thead>\n",
       "  <tbody>\n",
       "    <tr>\n",
       "      <th>0</th>\n",
       "      <td>1</td>\n",
       "      <td>1</td>\n",
       "      <td>7922-1</td>\n",
       "    </tr>\n",
       "    <tr>\n",
       "      <th>1</th>\n",
       "      <td>3</td>\n",
       "      <td>1</td>\n",
       "      <td>3931-1</td>\n",
       "    </tr>\n",
       "    <tr>\n",
       "      <th>2</th>\n",
       "      <td>4</td>\n",
       "      <td>1</td>\n",
       "      <td>6942-1</td>\n",
       "    </tr>\n",
       "    <tr>\n",
       "      <th>3</th>\n",
       "      <td>15</td>\n",
       "      <td>1</td>\n",
       "      <td>5158-1</td>\n",
       "    </tr>\n",
       "    <tr>\n",
       "      <th>4</th>\n",
       "      <td>16</td>\n",
       "      <td>1</td>\n",
       "      <td>903-1</td>\n",
       "    </tr>\n",
       "  </tbody>\n",
       "</table>\n",
       "</div>"
      ],
      "text/plain": [
       "   id  version set_num\n",
       "0   1        1  7922-1\n",
       "1   3        1  3931-1\n",
       "2   4        1  6942-1\n",
       "3  15        1  5158-1\n",
       "4  16        1   903-1"
      ]
     },
     "execution_count": 38,
     "metadata": {},
     "output_type": "execute_result"
    }
   ],
   "source": [
    "dataframes['inventories'].head()"
   ]
  },
  {
   "cell_type": "markdown",
   "metadata": {
    "slideshow": {
     "slide_type": "slide"
    }
   },
   "source": [
    "# Group Questions\n",
    "\n",
    "## Hassan:  Could you predict which theme a set is from just by the bricks it contains?\n",
    "## Daisy: Top 5 most common and rarest parts\n",
    "## Nandar: Overall top 5 most popular themes\n",
    "## Pinky: Average number of lego pieces per box"
   ]
  },
  {
   "cell_type": "code",
   "execution_count": 39,
   "metadata": {
    "slideshow": {
     "slide_type": "skip"
    }
   },
   "outputs": [
    {
     "data": {
      "text/plain": [
       "'\\nHassan:  Could you predict which theme a set is from just by the bricks it contains?\\nDaisy: Top 5 most common and rarest parts\\nNandar: Overall top 5 most popular theme\\nPinky: Average number of lego pieces per box\\n'"
      ]
     },
     "execution_count": 39,
     "metadata": {},
     "output_type": "execute_result"
    }
   ],
   "source": [
    "\n",
    "'''\n",
    "Hassan:  Could you predict which theme a set is from just by the bricks it contains?\n",
    "Daisy: Top 5 most common and rarest parts\n",
    "Nandar: Overall top 5 most popular theme\n",
    "Pinky: Average number of lego pieces per box\n",
    "'''"
   ]
  },
  {
   "cell_type": "markdown",
   "metadata": {
    "slideshow": {
     "slide_type": "slide"
    }
   },
   "source": [
    "Hassan:\n",
    "Could you predict which theme a set is from just by the bricks it contains?"
   ]
  },
  {
   "cell_type": "code",
   "execution_count": 40,
   "metadata": {
    "slideshow": {
     "slide_type": "skip"
    }
   },
   "outputs": [
    {
     "data": {
      "text/plain": [
       "'\\nstep 1: merge table: to get theme ~ part_Name relationship table\\n        parts + \\n        inventory_parts(uni_set_id ~ part_num) +\\n        inventories (uni_set_id ~ set_num) +\\n        sets (set_num ~ theme_id) +\\n        themes (theme_id ~ name)\\nstep 2: through merged table above, we can calculate that for a certain part,\\n        what is the change of this part is from a themes\\n        change = number of this part in a certain theme / total parts number of this theme \\n'"
      ]
     },
     "execution_count": 40,
     "metadata": {},
     "output_type": "execute_result"
    }
   ],
   "source": [
    "# Hassan:  Could you predict which theme a set is from just by the bricks it contains?\n",
    "'''\n",
    "step 1: merge table: to get theme ~ part_Name relationship table\n",
    "        parts + \n",
    "        inventory_parts(uni_set_id ~ part_num) +\n",
    "        inventories (uni_set_id ~ set_num) +\n",
    "        sets (set_num ~ theme_id) +\n",
    "        themes (theme_id ~ name)\n",
    "step 2: through merged table above, we can calculate that for a certain part,\n",
    "        what is the change of this part is from a themes\n",
    "        change = number of this part in a certain theme / total parts number of this theme \n",
    "'''"
   ]
  },
  {
   "cell_type": "markdown",
   "metadata": {
    "slideshow": {
     "slide_type": "slide"
    }
   },
   "source": [
    "## Merge tables for Hassan's Question\n"
   ]
  },
  {
   "cell_type": "code",
   "execution_count": 41,
   "metadata": {
    "slideshow": {
     "slide_type": "fragment"
    }
   },
   "outputs": [],
   "source": [
    "df_h = dataframes['inventory_parts'].merge(dataframes['inventories'],\n",
    "                                           left_on =['inventory_id'],\n",
    "                                           right_on=['id'],\n",
    "                                           how='left')"
   ]
  },
  {
   "cell_type": "code",
   "execution_count": 42,
   "metadata": {
    "slideshow": {
     "slide_type": "fragment"
    }
   },
   "outputs": [
    {
     "name": "stdout",
     "output_type": "stream",
     "text": [
      "<class 'pandas.core.frame.DataFrame'>\n",
      "Int64Index: 580251 entries, 0 to 580250\n",
      "Data columns (total 8 columns):\n",
      " #   Column        Non-Null Count   Dtype \n",
      "---  ------        --------------   ----- \n",
      " 0   inventory_id  580251 non-null  int64 \n",
      " 1   part_num      580251 non-null  object\n",
      " 2   color_id      580251 non-null  int64 \n",
      " 3   quantity      580251 non-null  int64 \n",
      " 4   is_spare      580251 non-null  object\n",
      " 5   id            580251 non-null  int64 \n",
      " 6   version       580251 non-null  int64 \n",
      " 7   set_num       580251 non-null  object\n",
      "dtypes: int64(5), object(3)\n",
      "memory usage: 39.8+ MB\n"
     ]
    }
   ],
   "source": [
    "df_h.info()"
   ]
  },
  {
   "cell_type": "code",
   "execution_count": 43,
   "metadata": {
    "slideshow": {
     "slide_type": "skip"
    }
   },
   "outputs": [
    {
     "name": "stdout",
     "output_type": "stream",
     "text": [
      "<class 'pandas.core.frame.DataFrame'>\n",
      "RangeIndex: 580251 entries, 0 to 580250\n",
      "Data columns (total 5 columns):\n",
      " #   Column        Non-Null Count   Dtype \n",
      "---  ------        --------------   ----- \n",
      " 0   inventory_id  580251 non-null  int64 \n",
      " 1   part_num      580251 non-null  object\n",
      " 2   color_id      580251 non-null  int64 \n",
      " 3   quantity      580251 non-null  int64 \n",
      " 4   is_spare      580251 non-null  object\n",
      "dtypes: int64(3), object(2)\n",
      "memory usage: 22.1+ MB\n"
     ]
    }
   ],
   "source": [
    "dataframes['inventory_parts'].info()"
   ]
  },
  {
   "cell_type": "code",
   "execution_count": 44,
   "metadata": {
    "slideshow": {
     "slide_type": "slide"
    }
   },
   "outputs": [],
   "source": [
    "df_h = df_h.merge(dataframes['sets'],\n",
    "                  on ='set_num',\n",
    "                  how = 'left',\n",
    "                  )"
   ]
  },
  {
   "cell_type": "code",
   "execution_count": 45,
   "metadata": {
    "slideshow": {
     "slide_type": "skip"
    }
   },
   "outputs": [
    {
     "name": "stdout",
     "output_type": "stream",
     "text": [
      "<class 'pandas.core.frame.DataFrame'>\n",
      "Int64Index: 580251 entries, 0 to 580250\n",
      "Data columns (total 12 columns):\n",
      " #   Column        Non-Null Count   Dtype \n",
      "---  ------        --------------   ----- \n",
      " 0   inventory_id  580251 non-null  int64 \n",
      " 1   part_num      580251 non-null  object\n",
      " 2   color_id      580251 non-null  int64 \n",
      " 3   quantity      580251 non-null  int64 \n",
      " 4   is_spare      580251 non-null  object\n",
      " 5   id            580251 non-null  int64 \n",
      " 6   version       580251 non-null  int64 \n",
      " 7   set_num       580251 non-null  object\n",
      " 8   name          580251 non-null  object\n",
      " 9   year          580251 non-null  int64 \n",
      " 10  theme_id      580251 non-null  int64 \n",
      " 11  num_parts     580251 non-null  int64 \n",
      "dtypes: int64(8), object(4)\n",
      "memory usage: 57.6+ MB\n"
     ]
    }
   ],
   "source": [
    "df_h.info()"
   ]
  },
  {
   "cell_type": "code",
   "execution_count": 46,
   "metadata": {
    "slideshow": {
     "slide_type": "fragment"
    }
   },
   "outputs": [],
   "source": [
    "# merge theme\n",
    "df_h = df_h.merge(dataframes['themes'],\n",
    "                  left_on = 'theme_id',\n",
    "                  right_on ='id',\n",
    "                  how = 'left',\n",
    "                  suffixes = ('','_themes')\n",
    "                  )"
   ]
  },
  {
   "cell_type": "code",
   "execution_count": 47,
   "metadata": {
    "slideshow": {
     "slide_type": "skip"
    }
   },
   "outputs": [
    {
     "name": "stdout",
     "output_type": "stream",
     "text": [
      "<class 'pandas.core.frame.DataFrame'>\n",
      "Int64Index: 580251 entries, 0 to 580250\n",
      "Data columns (total 15 columns):\n",
      " #   Column        Non-Null Count   Dtype  \n",
      "---  ------        --------------   -----  \n",
      " 0   inventory_id  580251 non-null  int64  \n",
      " 1   part_num      580251 non-null  object \n",
      " 2   color_id      580251 non-null  int64  \n",
      " 3   quantity      580251 non-null  int64  \n",
      " 4   is_spare      580251 non-null  object \n",
      " 5   id            580251 non-null  int64  \n",
      " 6   version       580251 non-null  int64  \n",
      " 7   set_num       580251 non-null  object \n",
      " 8   name          580251 non-null  object \n",
      " 9   year          580251 non-null  int64  \n",
      " 10  theme_id      580251 non-null  int64  \n",
      " 11  num_parts     580251 non-null  int64  \n",
      " 12  id_themes     580251 non-null  int64  \n",
      " 13  name_themes   580251 non-null  object \n",
      " 14  parent_id     372558 non-null  float64\n",
      "dtypes: float64(1), int64(9), object(5)\n",
      "memory usage: 70.8+ MB\n"
     ]
    }
   ],
   "source": [
    "df_h.info()"
   ]
  },
  {
   "cell_type": "code",
   "execution_count": 48,
   "metadata": {
    "slideshow": {
     "slide_type": "fragment"
    }
   },
   "outputs": [],
   "source": [
    "# merge parts\n",
    "df_h = df_h.merge(dataframes['parts'],\n",
    "                  left_on = 'part_num',\n",
    "                  right_on ='part_num',\n",
    "                  how = 'left',\n",
    "                  suffixes = ('','_parts')\n",
    "                  )"
   ]
  },
  {
   "cell_type": "code",
   "execution_count": 49,
   "metadata": {
    "slideshow": {
     "slide_type": "skip"
    }
   },
   "outputs": [
    {
     "name": "stdout",
     "output_type": "stream",
     "text": [
      "<class 'pandas.core.frame.DataFrame'>\n",
      "Int64Index: 580251 entries, 0 to 580250\n",
      "Data columns (total 17 columns):\n",
      " #   Column        Non-Null Count   Dtype  \n",
      "---  ------        --------------   -----  \n",
      " 0   inventory_id  580251 non-null  int64  \n",
      " 1   part_num      580251 non-null  object \n",
      " 2   color_id      580251 non-null  int64  \n",
      " 3   quantity      580251 non-null  int64  \n",
      " 4   is_spare      580251 non-null  object \n",
      " 5   id            580251 non-null  int64  \n",
      " 6   version       580251 non-null  int64  \n",
      " 7   set_num       580251 non-null  object \n",
      " 8   name          580251 non-null  object \n",
      " 9   year          580251 non-null  int64  \n",
      " 10  theme_id      580251 non-null  int64  \n",
      " 11  num_parts     580251 non-null  int64  \n",
      " 12  id_themes     580251 non-null  int64  \n",
      " 13  name_themes   580251 non-null  object \n",
      " 14  parent_id     372558 non-null  float64\n",
      " 15  name_parts    580069 non-null  object \n",
      " 16  part_cat_id   580069 non-null  float64\n",
      "dtypes: float64(2), int64(9), object(6)\n",
      "memory usage: 79.7+ MB\n"
     ]
    }
   ],
   "source": [
    "df_h.info()"
   ]
  },
  {
   "cell_type": "code",
   "execution_count": 50,
   "metadata": {
    "slideshow": {
     "slide_type": "fragment"
    }
   },
   "outputs": [],
   "source": [
    "# merge part_categories\n",
    "df_h = df_h.merge(dataframes['part_categories'],\n",
    "                  left_on = 'part_cat_id',\n",
    "                  right_on ='id',\n",
    "                  how = 'left',\n",
    "                  suffixes = ('','_part_cat')\n",
    "                  )"
   ]
  },
  {
   "cell_type": "code",
   "execution_count": 51,
   "metadata": {
    "slideshow": {
     "slide_type": "skip"
    }
   },
   "outputs": [
    {
     "name": "stdout",
     "output_type": "stream",
     "text": [
      "<class 'pandas.core.frame.DataFrame'>\n",
      "Int64Index: 580251 entries, 0 to 580250\n",
      "Data columns (total 19 columns):\n",
      " #   Column         Non-Null Count   Dtype  \n",
      "---  ------         --------------   -----  \n",
      " 0   inventory_id   580251 non-null  int64  \n",
      " 1   part_num       580251 non-null  object \n",
      " 2   color_id       580251 non-null  int64  \n",
      " 3   quantity       580251 non-null  int64  \n",
      " 4   is_spare       580251 non-null  object \n",
      " 5   id             580251 non-null  int64  \n",
      " 6   version        580251 non-null  int64  \n",
      " 7   set_num        580251 non-null  object \n",
      " 8   name           580251 non-null  object \n",
      " 9   year           580251 non-null  int64  \n",
      " 10  theme_id       580251 non-null  int64  \n",
      " 11  num_parts      580251 non-null  int64  \n",
      " 12  id_themes      580251 non-null  int64  \n",
      " 13  name_themes    580251 non-null  object \n",
      " 14  parent_id      372558 non-null  float64\n",
      " 15  name_parts     580069 non-null  object \n",
      " 16  part_cat_id    580069 non-null  float64\n",
      " 17  id_part_cat    580069 non-null  float64\n",
      " 18  name_part_cat  580069 non-null  object \n",
      "dtypes: float64(3), int64(9), object(7)\n",
      "memory usage: 88.5+ MB\n"
     ]
    }
   ],
   "source": [
    "df_h.info()"
   ]
  },
  {
   "cell_type": "markdown",
   "metadata": {
    "slideshow": {
     "slide_type": "slide"
    }
   },
   "source": [
    "## Cleaning data"
   ]
  },
  {
   "cell_type": "code",
   "execution_count": 52,
   "metadata": {
    "slideshow": {
     "slide_type": "fragment"
    }
   },
   "outputs": [],
   "source": [
    "# remove all rows with name_part_cat is null or Non-LEGO\n",
    "df_h.fillna('null',inplace=True)\n",
    "df_h = df_h[~df_h['name_part_cat'].isin(['null','Non-LEGO'])]"
   ]
  },
  {
   "cell_type": "code",
   "execution_count": 53,
   "metadata": {
    "slideshow": {
     "slide_type": "slide"
    }
   },
   "outputs": [
    {
     "name": "stdout",
     "output_type": "stream",
     "text": [
      "<class 'pandas.core.frame.DataFrame'>\n",
      "Int64Index: 577906 entries, 0 to 580250\n",
      "Data columns (total 19 columns):\n",
      " #   Column         Non-Null Count   Dtype \n",
      "---  ------         --------------   ----- \n",
      " 0   inventory_id   577906 non-null  int64 \n",
      " 1   part_num       577906 non-null  object\n",
      " 2   color_id       577906 non-null  int64 \n",
      " 3   quantity       577906 non-null  int64 \n",
      " 4   is_spare       577906 non-null  object\n",
      " 5   id             577906 non-null  int64 \n",
      " 6   version        577906 non-null  int64 \n",
      " 7   set_num        577906 non-null  object\n",
      " 8   name           577906 non-null  object\n",
      " 9   year           577906 non-null  int64 \n",
      " 10  theme_id       577906 non-null  int64 \n",
      " 11  num_parts      577906 non-null  int64 \n",
      " 12  id_themes      577906 non-null  int64 \n",
      " 13  name_themes    577906 non-null  object\n",
      " 14  parent_id      577906 non-null  object\n",
      " 15  name_parts     577906 non-null  object\n",
      " 16  part_cat_id    577906 non-null  object\n",
      " 17  id_part_cat    577906 non-null  object\n",
      " 18  name_part_cat  577906 non-null  object\n",
      "dtypes: int64(9), object(10)\n",
      "memory usage: 88.2+ MB\n"
     ]
    }
   ],
   "source": [
    "df_h.info()"
   ]
  },
  {
   "cell_type": "code",
   "execution_count": 54,
   "metadata": {
    "slideshow": {
     "slide_type": "skip"
    }
   },
   "outputs": [
    {
     "data": {
      "text/html": [
       "<div>\n",
       "<style scoped>\n",
       "    .dataframe tbody tr th:only-of-type {\n",
       "        vertical-align: middle;\n",
       "    }\n",
       "\n",
       "    .dataframe tbody tr th {\n",
       "        vertical-align: top;\n",
       "    }\n",
       "\n",
       "    .dataframe thead th {\n",
       "        text-align: right;\n",
       "    }\n",
       "</style>\n",
       "<table border=\"1\" class=\"dataframe\">\n",
       "  <thead>\n",
       "    <tr style=\"text-align: right;\">\n",
       "      <th></th>\n",
       "      <th>name_themes</th>\n",
       "      <th>quantity</th>\n",
       "    </tr>\n",
       "  </thead>\n",
       "  <tbody>\n",
       "    <tr>\n",
       "      <th>0</th>\n",
       "      <td>Basic Set</td>\n",
       "      <td>100970</td>\n",
       "    </tr>\n",
       "    <tr>\n",
       "      <th>1</th>\n",
       "      <td>Star Wars Episode 4/5/6</td>\n",
       "      <td>88797</td>\n",
       "    </tr>\n",
       "    <tr>\n",
       "      <th>2</th>\n",
       "      <td>Technic</td>\n",
       "      <td>54115</td>\n",
       "    </tr>\n",
       "    <tr>\n",
       "      <th>3</th>\n",
       "      <td>Construction</td>\n",
       "      <td>53117</td>\n",
       "    </tr>\n",
       "    <tr>\n",
       "      <th>4</th>\n",
       "      <td>Creator</td>\n",
       "      <td>49025</td>\n",
       "    </tr>\n",
       "  </tbody>\n",
       "</table>\n",
       "</div>"
      ],
      "text/plain": [
       "               name_themes  quantity\n",
       "0                Basic Set    100970\n",
       "1  Star Wars Episode 4/5/6     88797\n",
       "2                  Technic     54115\n",
       "3             Construction     53117\n",
       "4                  Creator     49025"
      ]
     },
     "execution_count": 54,
     "metadata": {},
     "output_type": "execute_result"
    }
   ],
   "source": [
    "# how much parts does on theme have ?\n",
    "df_theme_parts_num = df_h.groupby(['name_themes'])[['quantity']].sum().sort_values(by='quantity',ascending=False).reset_index()\n",
    "df_theme_parts_num.head(5)"
   ]
  },
  {
   "cell_type": "markdown",
   "metadata": {
    "slideshow": {
     "slide_type": "slide"
    }
   },
   "source": [
    "## Create function to calculate the probability of a certain part from a theme"
   ]
  },
  {
   "cell_type": "code",
   "execution_count": 55,
   "metadata": {
    "slideshow": {
     "slide_type": "fragment"
    }
   },
   "outputs": [],
   "source": [
    "# for a certain part, what is the change of inside each theme\n",
    "# chance = number of this part in each theme / theme total part num\n",
    "def chance_in_theme(part_name=None, part_num=None):\n",
    "    # Filter based on provided parameters\n",
    "    if part_name is not None and part_num is not None:\n",
    "        df_part = df_h[(df_h['name_parts'] == part_name) & (df_h['part_num'] == part_num)]\n",
    "    elif part_name is not None:\n",
    "        df_part = df_h[df_h['name_parts'] == part_name]\n",
    "    elif part_num is not None:\n",
    "        df_part = df_h[df_h['part_num'] == part_num]\n",
    "    else:\n",
    "        return \"Please provide at least one of the parameters: part_name or part_num\"\n",
    "    # Group by 'name_themes', sum 'quantity', and calculate 'chance'\n",
    "    df_part_num = df_part.groupby(['name_themes'])[['quantity']].sum().sort_values(by='quantity', ascending=False)\n",
    "    df_part_num['chance'] = df_part_num['quantity'] / df_part_num['quantity'].sum() * 100\n",
    "    return df_part_num['chance'].sort_values(ascending=False)\n"
   ]
  },
  {
   "cell_type": "code",
   "execution_count": 56,
   "metadata": {
    "slideshow": {
     "slide_type": "fragment"
    }
   },
   "outputs": [
    {
     "data": {
      "text/plain": [
       "name_themes\n",
       "Gas Station    50.0\n",
       "Traffic        50.0\n",
       "Name: chance, dtype: float64"
      ]
     },
     "execution_count": 56,
     "metadata": {},
     "output_type": "execute_result"
    }
   ],
   "source": [
    "chance_in_theme(part_num='4j001')"
   ]
  },
  {
   "cell_type": "markdown",
   "metadata": {
    "slideshow": {
     "slide_type": "slide"
    }
   },
   "source": [
    "## Function for creating a pie chart of probability of themes"
   ]
  },
  {
   "cell_type": "code",
   "execution_count": 57,
   "metadata": {
    "slideshow": {
     "slide_type": "fragment"
    }
   },
   "outputs": [],
   "source": [
    "def plot_change2(part_name=None,part_num= None):\n",
    "    '''\n",
    "    show the probability of this part's theme\n",
    "    input: part_name or part_num\n",
    "    output: piechart of probability of which theme does this part from\n",
    "    '''\n",
    "\n",
    "    series = chance_in_theme(part_name=part_name,part_num=part_num)\n",
    "    part_name = part_name or ''\n",
    "    part_num = part_num or ''\n",
    "\n",
    "    plt.plot()\n",
    "    plt.pie(series,labels=series.index,autopct='%1.1f%%', startangle=140)\n",
    "    plt.legend(loc ='upper left',title = series.name,fontsize='small', bbox_to_anchor=(1, 1))\n",
    "    plt.title('Probability of a part \"%s\" from Themes' % (part_name + part_num))\n",
    "    plt.show()"
   ]
  },
  {
   "cell_type": "code",
   "execution_count": 58,
   "metadata": {
    "slideshow": {
     "slide_type": "slide"
    }
   },
   "outputs": [
    {
     "data": {
      "image/png": "[encoded data removed]",
      "text/plain": [
       "<Figure size 640x480 with 1 Axes>"
      ]
     },
     "metadata": {},
     "output_type": "display_data"
    }
   ],
   "source": [
    "plot_change2(part_num='4j001')"
   ]
  },
  {
   "cell_type": "code",
   "execution_count": 59,
   "metadata": {
    "slideshow": {
     "slide_type": "slide"
    }
   },
   "outputs": [
    {
     "data": {
      "image/png": "[encoded data removed]",
      "text/plain": [
       "<Figure size 640x480 with 1 Axes>"
      ]
     },
     "metadata": {},
     "output_type": "display_data"
    }
   ],
   "source": [
    "plot_change2(part_name = 'Minifig - 4 Juniors')"
   ]
  },
  {
   "cell_type": "code",
   "execution_count": 60,
   "metadata": {
    "slideshow": {
     "slide_type": "slide"
    }
   },
   "outputs": [
    {
     "name": "stdout",
     "output_type": "stream",
     "text": [
      "Help on function plot_change2 in module __main__:\n",
      "\n",
      "plot_change2(part_name=None, part_num=None)\n",
      "    show the probability of this part's theme\n",
      "    input: part_name or part_num\n",
      "    output: piechart of probability of which theme does this part from\n",
      "\n"
     ]
    }
   ],
   "source": [
    "help(plot_change2)"
   ]
  },
  {
   "cell_type": "markdown",
   "metadata": {
    "slideshow": {
     "slide_type": "slide"
    }
   },
   "source": [
    "# Daisy: top 5 most common and rarest parts ?"
   ]
  },
  {
   "cell_type": "code",
   "execution_count": 61,
   "metadata": {
    "slideshow": {
     "slide_type": "slide"
    }
   },
   "outputs": [
    {
     "name": "stdout",
     "output_type": "stream",
     "text": [
      "  part_num                               name  count\n",
      "0     6141  Plate Round 1 x 1 with Solid Stud  16550\n",
      "1     3023                        Plate 1 x 2  10359\n",
      "2     3004                        Brick 1 x 2   8634\n",
      "3     3020                        Plate 2 x 4   7566\n",
      "4     3022                        Plate 2 x 2   7052\n"
     ]
    }
   ],
   "source": [
    "# Find the 5 most common parts\n",
    "part_counts = dataframes['inventory_parts']['part_num'].value_counts()\n",
    "part_counts_df = part_counts.reset_index().head()\n",
    "part_counts_df.columns = ['part_num','count']\n",
    "\n",
    "\n",
    "# Merge with the parts DataFrame to get the names\n",
    "common_parts = part_counts_df.merge(dataframes['parts'], on='part_num')\n",
    "\n",
    "\n",
    "# Select only the relevant columns to display\n",
    "common_parts = common_parts[['part_num', 'name', 'count']]\n",
    "\n",
    "print(common_parts)"
   ]
  },
  {
   "cell_type": "code",
   "execution_count": 62,
   "metadata": {
    "slideshow": {
     "slide_type": "slide"
    }
   },
   "outputs": [
    {
     "data": {
      "image/png": "[encoded data removed]",
      "text/plain": [
       "<Figure size 1000x600 with 1 Axes>"
      ]
     },
     "metadata": {},
     "output_type": "display_data"
    }
   ],
   "source": [
    "# Create a bar plot for the most common parts\n",
    "plt.figure(figsize=(10, 6))\n",
    "plt.barh(common_parts['name'], common_parts['count'], color='orange')\n",
    "plt.xlabel('Count')\n",
    "plt.ylabel('Part Name')\n",
    "plt.title('Top 5 Most Common Parts')\n",
    "plt.gca().invert_yaxis()  # Invert y-axis to have the highest count on top\n",
    "plt.show()"
   ]
  },
  {
   "cell_type": "code",
   "execution_count": 63,
   "metadata": {
    "slideshow": {
     "slide_type": "slide"
    }
   },
   "outputs": [
    {
     "name": "stdout",
     "output_type": "stream",
     "text": [
      "      part_num                                               name  count\n",
      "0     3754pb07              Brick 1 x 6 x 5 with Stone Wall Print      1\n",
      "1  90638pr0010  Hero Factory Armor with Ball Joint Socket - Si...      1\n",
      "2  90639pr0032  Hero Factory Armor with Ball Joint Socket - Si...      1\n",
      "3        24666                       LEGO Puppy Dog with 1.5 Hole      1\n",
      "4        20243  Sticker for Set 75090-2 - International Versio...      1\n"
     ]
    }
   ],
   "source": [
    "# Find the 5 rarest parts\n",
    "rarest_part_counts = dataframes['inventory_parts']['part_num'].value_counts().tail(5)\n",
    "rarest_part_counts_df = rarest_part_counts.reset_index()\n",
    "rarest_part_counts_df.columns = ['part_num','count']\n",
    "\n",
    "# Merge with the parts DataFrame to get the names\n",
    "\n",
    "rarest_parts = rarest_part_counts_df.merge(dataframes['parts'], left_on='part_num', right_on='part_num')\n",
    "\n",
    "# Select only the relevant columns to display\n",
    "rarest_parts = rarest_parts[['part_num', 'name', 'count']]\n",
    "\n",
    "# Display the rarest parts data\n",
    "print(rarest_parts)"
   ]
  },
  {
   "cell_type": "code",
   "execution_count": 64,
   "metadata": {
    "slideshow": {
     "slide_type": "slide"
    }
   },
   "outputs": [
    {
     "data": {
      "image/png": "[encoded data removed]",
      "text/plain": [
       "<Figure size 800x800 with 1 Axes>"
      ]
     },
     "metadata": {},
     "output_type": "display_data"
    }
   ],
   "source": [
    "# Create a pie chart\n",
    "plt.figure(figsize=(8, 8))\n",
    "plt.pie(rarest_parts['count'], labels=rarest_parts['name'], autopct='%1.1f%%')\n",
    "plt.title('Distribution of Top 5 Rarest Parts')\n",
    "plt.show()"
   ]
  },
  {
   "cell_type": "code",
   "execution_count": 65,
   "metadata": {
    "slideshow": {
     "slide_type": "slide"
    }
   },
   "outputs": [],
   "source": [
    "# Merge inventory_parts with inventories, then merge the result with sets to get the year\n",
    "inventory_parts_inventories = pd.merge(dataframes['inventory_parts'], dataframes['inventories'], left_on='inventory_id', right_on='id')\n",
    "merged_data = pd.merge(inventory_parts_inventories, dataframes['sets'], on='set_num')\n",
    "\n",
    "# Define the function to convert year to decade\n",
    "def year_to_decade(year):\n",
    "    if year < 1960:\n",
    "        return 1950\n",
    "    elif year < 1970:\n",
    "        return 1960\n",
    "    elif year < 1980:\n",
    "        return 1970\n",
    "    elif year < 1990:\n",
    "        return 1980\n",
    "    elif year < 2000:\n",
    "        return 1990\n",
    "    elif year < 2010:\n",
    "        return 2000\n",
    "    else:\n",
    "        return 2010\n"
   ]
  },
  {
   "cell_type": "code",
   "execution_count": 66,
   "metadata": {
    "slideshow": {
     "slide_type": "slide"
    }
   },
   "outputs": [],
   "source": [
    "\n",
    "# Apply the year_to_decade function to create a decade column\n",
    "merged_data['decade'] = merged_data['year'].apply(year_to_decade)\n",
    "\n",
    "# Group by decade and part_num, then count occurrences\n",
    "decade_part_counts = merged_data.groupby(['decade', 'part_num']).size().reset_index(name='count')\n",
    "\n",
    "# Find the top 5 parts for each decade\n",
    "top_parts_per_decade = decade_part_counts.groupby('decade').apply(lambda x: x.nlargest(5, 'count')).reset_index(drop=True)\n",
    "\n",
    "# Merge with parts DataFrame to get the names of the parts\n",
    "top_parts_per_decade_with_names = top_parts_per_decade.merge(dataframes['parts'], on='part_num', how='left')\n"
   ]
  },
  {
   "cell_type": "code",
   "execution_count": 79,
   "metadata": {
    "slideshow": {
     "slide_type": "slide"
    }
   },
   "outputs": [
    {
     "data": {
      "image/png": "[encoded data removed]",
      "text/plain": [
       "<Figure size 2000x1200 with 8 Axes>"
      ]
     },
     "metadata": {},
     "output_type": "display_data"
    }
   ],
   "source": [
    "# Determine the number of unique decades\n",
    "num_decades = len(top_parts_per_decade_with_names['decade'].unique())\n",
    "\n",
    "# Set up the figure and axes for the subplots\n",
    "fig, axes = plt.subplots(nrows=2, ncols=4, figsize=(20, 12))\n",
    "\n",
    "# Flatten the axes array for easy iteration\n",
    "axes = axes.flatten()\n",
    "\n",
    "# Iterate over the unique decades and create a plot for each one\n",
    "for i, decade in enumerate(top_parts_per_decade_with_names['decade'].unique()):\n",
    "    subset = top_parts_per_decade_with_names[top_parts_per_decade_with_names['decade'] == decade]\n",
    "\n",
    "    # Use the ith axes for plotting\n",
    "    ax = axes[i]\n",
    "    \n",
    "    # Create the barh plot on the selected axes\n",
    "    ax.barh(subset['name'], subset['count'], color='orange')\n",
    "    ax.set_xlabel('Count')\n",
    "    ax.set_ylabel('Part Name')\n",
    "    ax.set_title(f'Top 5 Most Common Parts in the {decade}s')\n",
    "    ax.invert_yaxis()  # Invert the y-axis to have the highest count at the top\n",
    "\n",
    "# If the number of plots is less than the number of subplots, turn off the axes for the remaining subplots\n",
    "for j in range(i + 1, len(axes)):\n",
    "    axes[j].axis('off')\n",
    "\n",
    "# Adjust the layout so plots do not overlap\n",
    "plt.tight_layout()\n",
    "# Display the figure with all subplots\n",
    "plt.show()"
   ]
  },
  {
   "cell_type": "code",
   "execution_count": 68,
   "metadata": {
    "slideshow": {
     "slide_type": "slide"
    }
   },
   "outputs": [],
   "source": []
  },
  {
   "cell_type": "code",
   "execution_count": 69,
   "metadata": {
    "slideshow": {
     "slide_type": "skip"
    }
   },
   "outputs": [],
   "source": [
    "\n",
    "# # Plotting per decade\n",
    "# for decade in top_parts_per_decade_with_names['decade'].unique():\n",
    "#     subset = top_parts_per_decade_with_names[top_parts_per_decade_with_names['decade'] == decade]\n",
    "#     plt.figure(figsize=(10, 6))\n",
    "#     plt.barh(subset['name'], subset['count'], color='orange')\n",
    "#     plt.xlabel('Count')\n",
    "#     plt.ylabel('Part Name')\n",
    "#     plt.title(f'Top 5 Most Common Parts in the {decade}s')\n",
    "#     plt.gca().invert_yaxis()\n",
    "#     plt.show()\n"
   ]
  },
  {
   "cell_type": "markdown",
   "metadata": {
    "slideshow": {
     "slide_type": "slide"
    }
   },
   "source": [
    "# Nandar: Overall top 5 most popular theme"
   ]
  },
  {
   "cell_type": "code",
   "execution_count": 70,
   "metadata": {
    "slideshow": {
     "slide_type": "slide"
    }
   },
   "outputs": [
    {
     "data": {
      "text/html": [
       "<div>\n",
       "<style scoped>\n",
       "    .dataframe tbody tr th:only-of-type {\n",
       "        vertical-align: middle;\n",
       "    }\n",
       "\n",
       "    .dataframe tbody tr th {\n",
       "        vertical-align: top;\n",
       "    }\n",
       "\n",
       "    .dataframe thead th {\n",
       "        text-align: right;\n",
       "    }\n",
       "</style>\n",
       "<table border=\"1\" class=\"dataframe\">\n",
       "  <thead>\n",
       "    <tr style=\"text-align: right;\">\n",
       "      <th></th>\n",
       "      <th>id</th>\n",
       "      <th>name</th>\n",
       "      <th>parent_id</th>\n",
       "    </tr>\n",
       "  </thead>\n",
       "  <tbody>\n",
       "    <tr>\n",
       "      <th>0</th>\n",
       "      <td>1</td>\n",
       "      <td>Technic</td>\n",
       "      <td>NaN</td>\n",
       "    </tr>\n",
       "    <tr>\n",
       "      <th>1</th>\n",
       "      <td>2</td>\n",
       "      <td>Arctic Technic</td>\n",
       "      <td>1.0</td>\n",
       "    </tr>\n",
       "    <tr>\n",
       "      <th>2</th>\n",
       "      <td>3</td>\n",
       "      <td>Competition</td>\n",
       "      <td>1.0</td>\n",
       "    </tr>\n",
       "    <tr>\n",
       "      <th>3</th>\n",
       "      <td>4</td>\n",
       "      <td>Expert Builder</td>\n",
       "      <td>1.0</td>\n",
       "    </tr>\n",
       "    <tr>\n",
       "      <th>4</th>\n",
       "      <td>5</td>\n",
       "      <td>Model</td>\n",
       "      <td>1.0</td>\n",
       "    </tr>\n",
       "  </tbody>\n",
       "</table>\n",
       "</div>"
      ],
      "text/plain": [
       "   id            name  parent_id\n",
       "0   1         Technic        NaN\n",
       "1   2  Arctic Technic        1.0\n",
       "2   3     Competition        1.0\n",
       "3   4  Expert Builder        1.0\n",
       "4   5           Model        1.0"
      ]
     },
     "execution_count": 70,
     "metadata": {},
     "output_type": "execute_result"
    }
   ],
   "source": [
    "dataframes['themes'].head()"
   ]
  },
  {
   "cell_type": "code",
   "execution_count": 71,
   "metadata": {
    "slideshow": {
     "slide_type": "slide"
    }
   },
   "outputs": [
    {
     "data": {
      "text/html": [
       "<div>\n",
       "<style scoped>\n",
       "    .dataframe tbody tr th:only-of-type {\n",
       "        vertical-align: middle;\n",
       "    }\n",
       "\n",
       "    .dataframe tbody tr th {\n",
       "        vertical-align: top;\n",
       "    }\n",
       "\n",
       "    .dataframe thead th {\n",
       "        text-align: right;\n",
       "    }\n",
       "</style>\n",
       "<table border=\"1\" class=\"dataframe\">\n",
       "  <thead>\n",
       "    <tr style=\"text-align: right;\">\n",
       "      <th></th>\n",
       "      <th>set_num</th>\n",
       "      <th>name</th>\n",
       "      <th>year</th>\n",
       "      <th>theme_id</th>\n",
       "      <th>num_parts</th>\n",
       "    </tr>\n",
       "  </thead>\n",
       "  <tbody>\n",
       "    <tr>\n",
       "      <th>0</th>\n",
       "      <td>00-1</td>\n",
       "      <td>Weetabix Castle</td>\n",
       "      <td>1970</td>\n",
       "      <td>414</td>\n",
       "      <td>471</td>\n",
       "    </tr>\n",
       "    <tr>\n",
       "      <th>1</th>\n",
       "      <td>0011-2</td>\n",
       "      <td>Town Mini-Figures</td>\n",
       "      <td>1978</td>\n",
       "      <td>84</td>\n",
       "      <td>12</td>\n",
       "    </tr>\n",
       "    <tr>\n",
       "      <th>2</th>\n",
       "      <td>0011-3</td>\n",
       "      <td>Castle 2 for 1 Bonus Offer</td>\n",
       "      <td>1987</td>\n",
       "      <td>199</td>\n",
       "      <td>2</td>\n",
       "    </tr>\n",
       "    <tr>\n",
       "      <th>3</th>\n",
       "      <td>0012-1</td>\n",
       "      <td>Space Mini-Figures</td>\n",
       "      <td>1979</td>\n",
       "      <td>143</td>\n",
       "      <td>12</td>\n",
       "    </tr>\n",
       "    <tr>\n",
       "      <th>4</th>\n",
       "      <td>0013-1</td>\n",
       "      <td>Space Mini-Figures</td>\n",
       "      <td>1979</td>\n",
       "      <td>143</td>\n",
       "      <td>12</td>\n",
       "    </tr>\n",
       "  </tbody>\n",
       "</table>\n",
       "</div>"
      ],
      "text/plain": [
       "  set_num                        name  year  theme_id  num_parts\n",
       "0    00-1             Weetabix Castle  1970       414        471\n",
       "1  0011-2           Town Mini-Figures  1978        84         12\n",
       "2  0011-3  Castle 2 for 1 Bonus Offer  1987       199          2\n",
       "3  0012-1          Space Mini-Figures  1979       143         12\n",
       "4  0013-1          Space Mini-Figures  1979       143         12"
      ]
     },
     "execution_count": 71,
     "metadata": {},
     "output_type": "execute_result"
    }
   ],
   "source": [
    "dataframes['sets'].head()"
   ]
  },
  {
   "cell_type": "code",
   "execution_count": 72,
   "metadata": {
    "slideshow": {
     "slide_type": "slide"
    }
   },
   "outputs": [
    {
     "data": {
      "text/html": [
       "<div>\n",
       "<style scoped>\n",
       "    .dataframe tbody tr th:only-of-type {\n",
       "        vertical-align: middle;\n",
       "    }\n",
       "\n",
       "    .dataframe tbody tr th {\n",
       "        vertical-align: top;\n",
       "    }\n",
       "\n",
       "    .dataframe thead th {\n",
       "        text-align: right;\n",
       "    }\n",
       "</style>\n",
       "<table border=\"1\" class=\"dataframe\">\n",
       "  <thead>\n",
       "    <tr style=\"text-align: right;\">\n",
       "      <th></th>\n",
       "      <th>set_num</th>\n",
       "      <th>name_x</th>\n",
       "      <th>year</th>\n",
       "      <th>theme_id</th>\n",
       "      <th>num_parts</th>\n",
       "      <th>id</th>\n",
       "      <th>name_y</th>\n",
       "      <th>parent_id</th>\n",
       "    </tr>\n",
       "  </thead>\n",
       "  <tbody>\n",
       "    <tr>\n",
       "      <th>0</th>\n",
       "      <td>00-1</td>\n",
       "      <td>Weetabix Castle</td>\n",
       "      <td>1970</td>\n",
       "      <td>414</td>\n",
       "      <td>471</td>\n",
       "      <td>414</td>\n",
       "      <td>Castle</td>\n",
       "      <td>411.0</td>\n",
       "    </tr>\n",
       "    <tr>\n",
       "      <th>1</th>\n",
       "      <td>0011-2</td>\n",
       "      <td>Town Mini-Figures</td>\n",
       "      <td>1978</td>\n",
       "      <td>84</td>\n",
       "      <td>12</td>\n",
       "      <td>84</td>\n",
       "      <td>Supplemental</td>\n",
       "      <td>67.0</td>\n",
       "    </tr>\n",
       "    <tr>\n",
       "      <th>2</th>\n",
       "      <td>2181-1</td>\n",
       "      <td>Infomaniac</td>\n",
       "      <td>1997</td>\n",
       "      <td>84</td>\n",
       "      <td>4</td>\n",
       "      <td>84</td>\n",
       "      <td>Supplemental</td>\n",
       "      <td>67.0</td>\n",
       "    </tr>\n",
       "    <tr>\n",
       "      <th>3</th>\n",
       "      <td>300-1</td>\n",
       "      <td>T-Junction Road Plates</td>\n",
       "      <td>1978</td>\n",
       "      <td>84</td>\n",
       "      <td>2</td>\n",
       "      <td>84</td>\n",
       "      <td>Supplemental</td>\n",
       "      <td>67.0</td>\n",
       "    </tr>\n",
       "    <tr>\n",
       "      <th>4</th>\n",
       "      <td>301-1</td>\n",
       "      <td>Curved Road Plates</td>\n",
       "      <td>1978</td>\n",
       "      <td>84</td>\n",
       "      <td>2</td>\n",
       "      <td>84</td>\n",
       "      <td>Supplemental</td>\n",
       "      <td>67.0</td>\n",
       "    </tr>\n",
       "  </tbody>\n",
       "</table>\n",
       "</div>"
      ],
      "text/plain": [
       "  set_num                  name_x  year  theme_id  num_parts   id  \\\n",
       "0    00-1         Weetabix Castle  1970       414        471  414   \n",
       "1  0011-2       Town Mini-Figures  1978        84         12   84   \n",
       "2  2181-1              Infomaniac  1997        84          4   84   \n",
       "3   300-1  T-Junction Road Plates  1978        84          2   84   \n",
       "4   301-1      Curved Road Plates  1978        84          2   84   \n",
       "\n",
       "         name_y  parent_id  \n",
       "0        Castle      411.0  \n",
       "1  Supplemental       67.0  \n",
       "2  Supplemental       67.0  \n",
       "3  Supplemental       67.0  \n",
       "4  Supplemental       67.0  "
      ]
     },
     "execution_count": 72,
     "metadata": {},
     "output_type": "execute_result"
    }
   ],
   "source": [
    "merged = pd.merge(dataframes['sets'], dataframes['themes'], left_on = 'theme_id', right_on = 'id')\n",
    "merged.head()\n"
   ]
  },
  {
   "cell_type": "markdown",
   "metadata": {
    "slideshow": {
     "slide_type": "slide"
    }
   },
   "source": [
    "combine multiple themes with similar names into one:"
   ]
  },
  {
   "cell_type": "code",
   "execution_count": 73,
   "metadata": {
    "slideshow": {
     "slide_type": "slide"
    }
   },
   "outputs": [
    {
     "data": {
      "text/html": [
       "<div>\n",
       "<style scoped>\n",
       "    .dataframe tbody tr th:only-of-type {\n",
       "        vertical-align: middle;\n",
       "    }\n",
       "\n",
       "    .dataframe tbody tr th {\n",
       "        vertical-align: top;\n",
       "    }\n",
       "\n",
       "    .dataframe thead th {\n",
       "        text-align: right;\n",
       "    }\n",
       "</style>\n",
       "<table border=\"1\" class=\"dataframe\">\n",
       "  <thead>\n",
       "    <tr style=\"text-align: right;\">\n",
       "      <th></th>\n",
       "      <th>set_num</th>\n",
       "      <th>name_x</th>\n",
       "      <th>year</th>\n",
       "      <th>theme_id</th>\n",
       "      <th>num_parts</th>\n",
       "      <th>id</th>\n",
       "      <th>name_y</th>\n",
       "      <th>parent_id</th>\n",
       "    </tr>\n",
       "  </thead>\n",
       "  <tbody>\n",
       "    <tr>\n",
       "      <th>0</th>\n",
       "      <td>00-1</td>\n",
       "      <td>Weetabix Castle</td>\n",
       "      <td>1970</td>\n",
       "      <td>414</td>\n",
       "      <td>471</td>\n",
       "      <td>414</td>\n",
       "      <td>Castle</td>\n",
       "      <td>411.0</td>\n",
       "    </tr>\n",
       "    <tr>\n",
       "      <th>1</th>\n",
       "      <td>0011-2</td>\n",
       "      <td>Town Mini-Figures</td>\n",
       "      <td>1978</td>\n",
       "      <td>84</td>\n",
       "      <td>12</td>\n",
       "      <td>84</td>\n",
       "      <td>Supplemental</td>\n",
       "      <td>67.0</td>\n",
       "    </tr>\n",
       "    <tr>\n",
       "      <th>2</th>\n",
       "      <td>2181-1</td>\n",
       "      <td>Infomaniac</td>\n",
       "      <td>1997</td>\n",
       "      <td>84</td>\n",
       "      <td>4</td>\n",
       "      <td>84</td>\n",
       "      <td>Supplemental</td>\n",
       "      <td>67.0</td>\n",
       "    </tr>\n",
       "    <tr>\n",
       "      <th>3</th>\n",
       "      <td>300-1</td>\n",
       "      <td>T-Junction Road Plates</td>\n",
       "      <td>1978</td>\n",
       "      <td>84</td>\n",
       "      <td>2</td>\n",
       "      <td>84</td>\n",
       "      <td>Supplemental</td>\n",
       "      <td>67.0</td>\n",
       "    </tr>\n",
       "    <tr>\n",
       "      <th>4</th>\n",
       "      <td>301-1</td>\n",
       "      <td>Curved Road Plates</td>\n",
       "      <td>1978</td>\n",
       "      <td>84</td>\n",
       "      <td>2</td>\n",
       "      <td>84</td>\n",
       "      <td>Supplemental</td>\n",
       "      <td>67.0</td>\n",
       "    </tr>\n",
       "    <tr>\n",
       "      <th>...</th>\n",
       "      <td>...</td>\n",
       "      <td>...</td>\n",
       "      <td>...</td>\n",
       "      <td>...</td>\n",
       "      <td>...</td>\n",
       "      <td>...</td>\n",
       "      <td>...</td>\n",
       "      <td>...</td>\n",
       "    </tr>\n",
       "    <tr>\n",
       "      <th>11668</th>\n",
       "      <td>K6762-1</td>\n",
       "      <td>Western Kit</td>\n",
       "      <td>2002</td>\n",
       "      <td>475</td>\n",
       "      <td>3</td>\n",
       "      <td>475</td>\n",
       "      <td>Western</td>\n",
       "      <td>NaN</td>\n",
       "    </tr>\n",
       "    <tr>\n",
       "      <th>11669</th>\n",
       "      <td>K7623-1</td>\n",
       "      <td>Indiana Jones Classic Adventures Collection</td>\n",
       "      <td>2008</td>\n",
       "      <td>264</td>\n",
       "      <td>4</td>\n",
       "      <td>264</td>\n",
       "      <td>Indiana Jones</td>\n",
       "      <td>NaN</td>\n",
       "    </tr>\n",
       "    <tr>\n",
       "      <th>11670</th>\n",
       "      <td>llca27-1</td>\n",
       "      <td>Legoland Pirate with Parrot (Legoland California)</td>\n",
       "      <td>2006</td>\n",
       "      <td>430</td>\n",
       "      <td>70</td>\n",
       "      <td>430</td>\n",
       "      <td>Pirates</td>\n",
       "      <td>425.0</td>\n",
       "    </tr>\n",
       "    <tr>\n",
       "      <th>11671</th>\n",
       "      <td>LLCA29-1</td>\n",
       "      <td>Pirate Treasure Chest Bank (LLCA Ambassador Pa...</td>\n",
       "      <td>2006</td>\n",
       "      <td>430</td>\n",
       "      <td>215</td>\n",
       "      <td>430</td>\n",
       "      <td>Pirates</td>\n",
       "      <td>425.0</td>\n",
       "    </tr>\n",
       "    <tr>\n",
       "      <th>11672</th>\n",
       "      <td>LLCA30-1</td>\n",
       "      <td>Pirate Ship Diorama (LLCA Ambassador Pass Excl...</td>\n",
       "      <td>2006</td>\n",
       "      <td>430</td>\n",
       "      <td>127</td>\n",
       "      <td>430</td>\n",
       "      <td>Pirates</td>\n",
       "      <td>425.0</td>\n",
       "    </tr>\n",
       "  </tbody>\n",
       "</table>\n",
       "<p>11673 rows × 8 columns</p>\n",
       "</div>"
      ],
      "text/plain": [
       "        set_num                                             name_x  year  \\\n",
       "0          00-1                                    Weetabix Castle  1970   \n",
       "1        0011-2                                  Town Mini-Figures  1978   \n",
       "2        2181-1                                         Infomaniac  1997   \n",
       "3         300-1                             T-Junction Road Plates  1978   \n",
       "4         301-1                                 Curved Road Plates  1978   \n",
       "...         ...                                                ...   ...   \n",
       "11668   K6762-1                                        Western Kit  2002   \n",
       "11669   K7623-1        Indiana Jones Classic Adventures Collection  2008   \n",
       "11670  llca27-1  Legoland Pirate with Parrot (Legoland California)  2006   \n",
       "11671  LLCA29-1  Pirate Treasure Chest Bank (LLCA Ambassador Pa...  2006   \n",
       "11672  LLCA30-1  Pirate Ship Diorama (LLCA Ambassador Pass Excl...  2006   \n",
       "\n",
       "       theme_id  num_parts   id         name_y  parent_id  \n",
       "0           414        471  414         Castle      411.0  \n",
       "1            84         12   84   Supplemental       67.0  \n",
       "2            84          4   84   Supplemental       67.0  \n",
       "3            84          2   84   Supplemental       67.0  \n",
       "4            84          2   84   Supplemental       67.0  \n",
       "...         ...        ...  ...            ...        ...  \n",
       "11668       475          3  475        Western        NaN  \n",
       "11669       264          4  264  Indiana Jones        NaN  \n",
       "11670       430         70  430        Pirates      425.0  \n",
       "11671       430        215  430        Pirates      425.0  \n",
       "11672       430        127  430        Pirates      425.0  \n",
       "\n",
       "[11673 rows x 8 columns]"
      ]
     },
     "execution_count": 73,
     "metadata": {},
     "output_type": "execute_result"
    }
   ],
   "source": [
    "def merge_themes(df, col_name, themes_list):\n",
    "    for i in themes_list:\n",
    "        df[col_name] = df[col_name].apply(lambda x: i if x.startswith(i) else x)\n",
    "    return df\n",
    "\n",
    "themes = [\"Star Wars\", \"Disney\", \"Planet Series\", \"Spider-Man\", \"Marvel\",\n",
    "          \"Aquaraiders\", \"Series\", \"Knights Kingdom\", \"Matoran\", \"LEGO\",\n",
    "          \"Legoland\", \"Space Police\", \"The LEGO\", \"The Simpsons\", \"Toa\", \"Basic\"]\n",
    "\n",
    "merge_themes(merged, \"name_y\", themes)"
   ]
  },
  {
   "cell_type": "code",
   "execution_count": 74,
   "metadata": {
    "slideshow": {
     "slide_type": "slide"
    }
   },
   "outputs": [
    {
     "data": {
      "text/plain": [
       "Star Wars       634\n",
       "Supplemental    496\n",
       "Basic           455\n",
       "Technic         435\n",
       "Series          409\n",
       "Name: name_y, dtype: int64"
      ]
     },
     "execution_count": 74,
     "metadata": {},
     "output_type": "execute_result"
    }
   ],
   "source": [
    "merged['name_y'].value_counts().head(5)"
   ]
  },
  {
   "cell_type": "code",
   "execution_count": 75,
   "metadata": {
    "slideshow": {
     "slide_type": "slide"
    }
   },
   "outputs": [
    {
     "data": {
      "text/plain": [
       "Text(0.5, 1.0, 'Top 5 most popular theme')"
      ]
     },
     "execution_count": 75,
     "metadata": {},
     "output_type": "execute_result"
    },
    {
     "data": {
      "image/png": "[encoded data removed]",
      "text/plain": [
       "<Figure size 640x480 with 1 Axes>"
      ]
     },
     "metadata": {},
     "output_type": "display_data"
    }
   ],
   "source": [
    "merged['name_y'].value_counts().head(5).plot.bar(color = 'skyblue')\n",
    "plt.xlabel(\"Theme\", fontsize = 12)\n",
    "plt.xticks(rotation = 0)\n",
    "plt.ylabel(\"Count\", fontsize = 12)\n",
    "plt.title(\"Top 5 most popular theme\")"
   ]
  },
  {
   "cell_type": "markdown",
   "metadata": {
    "slideshow": {
     "slide_type": "slide"
    }
   },
   "source": [
    "for each decade :"
   ]
  },
  {
   "cell_type": "code",
   "execution_count": 76,
   "metadata": {
    "slideshow": {
     "slide_type": "fragment"
    }
   },
   "outputs": [],
   "source": [
    "def year_to_decade (year):\n",
    "    if year < 1960:\n",
    "        return 1950\n",
    "    elif year < 1970:\n",
    "        return 1960\n",
    "    elif year < 1980:\n",
    "        return 1970\n",
    "    elif year < 1990:\n",
    "        return 1980\n",
    "    elif year < 2000:\n",
    "        return 1990\n",
    "    elif year < 2010:\n",
    "        return 2000\n",
    "    else:\n",
    "        return 2010\n",
    "\n",
    "merged['decade'] = merged['year'].apply(year_to_decade)"
   ]
  },
  {
   "cell_type": "code",
   "execution_count": 77,
   "metadata": {
    "slideshow": {
     "slide_type": "slide"
    }
   },
   "outputs": [
    {
     "data": {
      "text/html": [
       "<div>\n",
       "<style scoped>\n",
       "    .dataframe tbody tr th:only-of-type {\n",
       "        vertical-align: middle;\n",
       "    }\n",
       "\n",
       "    .dataframe tbody tr th {\n",
       "        vertical-align: top;\n",
       "    }\n",
       "\n",
       "    .dataframe thead th {\n",
       "        text-align: right;\n",
       "    }\n",
       "</style>\n",
       "<table border=\"1\" class=\"dataframe\">\n",
       "  <thead>\n",
       "    <tr style=\"text-align: right;\">\n",
       "      <th></th>\n",
       "      <th>set_num</th>\n",
       "      <th>name_x</th>\n",
       "      <th>year</th>\n",
       "      <th>theme_id</th>\n",
       "      <th>num_parts</th>\n",
       "      <th>id</th>\n",
       "      <th>name_y</th>\n",
       "      <th>parent_id</th>\n",
       "      <th>decade</th>\n",
       "    </tr>\n",
       "  </thead>\n",
       "  <tbody>\n",
       "    <tr>\n",
       "      <th>0</th>\n",
       "      <td>00-1</td>\n",
       "      <td>Weetabix Castle</td>\n",
       "      <td>1970</td>\n",
       "      <td>414</td>\n",
       "      <td>471</td>\n",
       "      <td>414</td>\n",
       "      <td>Castle</td>\n",
       "      <td>411.0</td>\n",
       "      <td>1970</td>\n",
       "    </tr>\n",
       "    <tr>\n",
       "      <th>1</th>\n",
       "      <td>0011-2</td>\n",
       "      <td>Town Mini-Figures</td>\n",
       "      <td>1978</td>\n",
       "      <td>84</td>\n",
       "      <td>12</td>\n",
       "      <td>84</td>\n",
       "      <td>Supplemental</td>\n",
       "      <td>67.0</td>\n",
       "      <td>1970</td>\n",
       "    </tr>\n",
       "    <tr>\n",
       "      <th>2</th>\n",
       "      <td>2181-1</td>\n",
       "      <td>Infomaniac</td>\n",
       "      <td>1997</td>\n",
       "      <td>84</td>\n",
       "      <td>4</td>\n",
       "      <td>84</td>\n",
       "      <td>Supplemental</td>\n",
       "      <td>67.0</td>\n",
       "      <td>1990</td>\n",
       "    </tr>\n",
       "    <tr>\n",
       "      <th>3</th>\n",
       "      <td>300-1</td>\n",
       "      <td>T-Junction Road Plates</td>\n",
       "      <td>1978</td>\n",
       "      <td>84</td>\n",
       "      <td>2</td>\n",
       "      <td>84</td>\n",
       "      <td>Supplemental</td>\n",
       "      <td>67.0</td>\n",
       "      <td>1970</td>\n",
       "    </tr>\n",
       "    <tr>\n",
       "      <th>4</th>\n",
       "      <td>301-1</td>\n",
       "      <td>Curved Road Plates</td>\n",
       "      <td>1978</td>\n",
       "      <td>84</td>\n",
       "      <td>2</td>\n",
       "      <td>84</td>\n",
       "      <td>Supplemental</td>\n",
       "      <td>67.0</td>\n",
       "      <td>1970</td>\n",
       "    </tr>\n",
       "  </tbody>\n",
       "</table>\n",
       "</div>"
      ],
      "text/plain": [
       "  set_num                  name_x  year  theme_id  num_parts   id  \\\n",
       "0    00-1         Weetabix Castle  1970       414        471  414   \n",
       "1  0011-2       Town Mini-Figures  1978        84         12   84   \n",
       "2  2181-1              Infomaniac  1997        84          4   84   \n",
       "3   300-1  T-Junction Road Plates  1978        84          2   84   \n",
       "4   301-1      Curved Road Plates  1978        84          2   84   \n",
       "\n",
       "         name_y  parent_id  decade  \n",
       "0        Castle      411.0    1970  \n",
       "1  Supplemental       67.0    1970  \n",
       "2  Supplemental       67.0    1990  \n",
       "3  Supplemental       67.0    1970  \n",
       "4  Supplemental       67.0    1970  "
      ]
     },
     "execution_count": 77,
     "metadata": {},
     "output_type": "execute_result"
    }
   ],
   "source": [
    "merged.head()"
   ]
  },
  {
   "cell_type": "code",
   "execution_count": 80,
   "metadata": {
    "scrolled": true,
    "slideshow": {
     "slide_type": "skip"
    }
   },
   "outputs": [
    {
     "name": "stderr",
     "output_type": "stream",
     "text": [
      "C:\\Users\\wudan\\AppData\\Local\\Temp\\ipykernel_18192\\1485786790.py:3: FutureWarning: In a future version of pandas, a length 1 tuple will be returned when iterating over a groupby with a grouper equal to a list of length 1. Don't supply a list with a single grouper to avoid this warning.\n",
      "  for decade, decade_data in decade_grouped:\n"
     ]
    },
    {
     "data": {
      "image/png": "[encoded data removed]",
      "text/plain": [
       "<Figure size 1000x500 with 1 Axes>"
      ]
     },
     "metadata": {},
     "output_type": "display_data"
    },
    {
     "data": {
      "image/png": "[encoded data removed]",
      "text/plain": [
       "<Figure size 1000x500 with 1 Axes>"
      ]
     },
     "metadata": {},
     "output_type": "display_data"
    },
    {
     "data": {
      "image/png": "[encoded data removed]",
      "text/plain": [
       "<Figure size 1000x500 with 1 Axes>"
      ]
     },
     "metadata": {},
     "output_type": "display_data"
    },
    {
     "data": {
      "image/png": "[encoded data removed]",
      "text/plain": [
       "<Figure size 1000x500 with 1 Axes>"
      ]
     },
     "metadata": {},
     "output_type": "display_data"
    },
    {
     "data": {
      "image/png": "[encoded data removed]",
      "text/plain": [
       "<Figure size 1000x500 with 1 Axes>"
      ]
     },
     "metadata": {},
     "output_type": "display_data"
    },
    {
     "data": {
      "image/png": "[encoded data removed]",
      "text/plain": [
       "<Figure size 1000x500 with 1 Axes>"
      ]
     },
     "metadata": {},
     "output_type": "display_data"
    },
    {
     "data": {
      "image/png": "[encoded data removed]",
      "text/plain": [
       "<Figure size 1000x500 with 1 Axes>"
      ]
     },
     "metadata": {},
     "output_type": "display_data"
    }
   ],
   "source": [
    "decade_grouped = merged.groupby(by=[\"decade\"])\n",
    "\n",
    "for decade, decade_data in decade_grouped:\n",
    "    \n",
    "    plt.figure(figsize=(10,5))\n",
    "    top5_names_per_year = decade_data['name_y'].value_counts().head(5)\n",
    "    top5_names_per_year.plot.bar(color = 'lightgreen')\n",
    "    plt.xlabel(\"Theme\", fontsize = 12)\n",
    "    plt.xticks(rotation = 0)\n",
    "    plt.ylabel(\"Count\", fontsize = 12)\n",
    "    plt.title(f\"Top theme(s) for {int(decade)}s\")\n",
    "\n"
   ]
  },
  {
   "cell_type": "code",
   "execution_count": 81,
   "metadata": {
    "slideshow": {
     "slide_type": "skip"
    }
   },
   "outputs": [
    {
     "name": "stderr",
     "output_type": "stream",
     "text": [
      "C:\\Users\\wudan\\AppData\\Local\\Temp\\ipykernel_18192\\616563405.py:15: FutureWarning: In a future version of pandas, a length 1 tuple will be returned when iterating over a groupby with a grouper equal to a list of length 1. Don't supply a list with a single grouper to avoid this warning.\n",
      "  for i, (decade, decade_data) in enumerate(decade_grouped):\n"
     ]
    },
    {
     "data": {
      "image/png": "[encoded data removed]",
      "text/plain": [
       "<Figure size 2000x1000 with 8 Axes>"
      ]
     },
     "metadata": {},
     "output_type": "display_data"
    }
   ],
   "source": [
    "# Use subplots ,so all the plots can show in the one slide\n",
    "colors = ['lightgreen', 'lightblue', 'lightcoral', 'lightcyan', 'lightpink']\n",
    "\n",
    "# Define the number of subplots (2x4)\n",
    "num_rows = 2\n",
    "num_cols = 4\n",
    "\n",
    "# Create a figure and subplots\n",
    "fig, axs = plt.subplots(num_rows, num_cols, figsize=(20, 10))\n",
    "\n",
    "# Flatten the axs array for easier iteration\n",
    "axs = axs.flatten()\n",
    "\n",
    "# Loop through each decade and corresponding data\n",
    "for i, (decade, decade_data) in enumerate(decade_grouped):\n",
    "    # Plot the data on the ith subplot\n",
    "    top5_names_per_year = decade_data['name_y'].value_counts().head(5)\n",
    "    ax = axs[i]\n",
    "    top5_names_per_year.plot.bar(color=colors[i % len(colors)], ax=ax)\n",
    "    ax.set_xlabel(\"Theme\", fontsize=12)\n",
    "    ax.set_xticklabels(top5_names_per_year.index, rotation=45, ha='right')\n",
    "    ax.set_ylabel(\"Count\", fontsize=12)\n",
    "    ax.set_title(f\"Top theme(s) for {int(decade)}'s\")\n",
    "\n",
    "# Adjust layout to prevent overlap\n",
    "plt.tight_layout()\n",
    "# Show the plots\n",
    "plt.show()\n"
   ]
  },
  {
   "cell_type": "markdown",
   "metadata": {
    "slideshow": {
     "slide_type": "slide"
    }
   },
   "source": [
    "# Pinky: Average number of lego pieces per box\n",
    "\n",
    "## Question: How many parts are there in a set on average?"
   ]
  },
  {
   "cell_type": "code",
   "execution_count": 82,
   "metadata": {
    "slideshow": {
     "slide_type": "slide"
    }
   },
   "outputs": [
    {
     "data": {
      "text/html": [
       "<div>\n",
       "<style scoped>\n",
       "    .dataframe tbody tr th:only-of-type {\n",
       "        vertical-align: middle;\n",
       "    }\n",
       "\n",
       "    .dataframe tbody tr th {\n",
       "        vertical-align: top;\n",
       "    }\n",
       "\n",
       "    .dataframe thead th {\n",
       "        text-align: right;\n",
       "    }\n",
       "</style>\n",
       "<table border=\"1\" class=\"dataframe\">\n",
       "  <thead>\n",
       "    <tr style=\"text-align: right;\">\n",
       "      <th></th>\n",
       "      <th>set_num</th>\n",
       "      <th>name</th>\n",
       "      <th>year</th>\n",
       "      <th>theme_id</th>\n",
       "      <th>num_parts</th>\n",
       "    </tr>\n",
       "  </thead>\n",
       "  <tbody>\n",
       "    <tr>\n",
       "      <th>0</th>\n",
       "      <td>00-1</td>\n",
       "      <td>Weetabix Castle</td>\n",
       "      <td>1970</td>\n",
       "      <td>414</td>\n",
       "      <td>471</td>\n",
       "    </tr>\n",
       "    <tr>\n",
       "      <th>1</th>\n",
       "      <td>0011-2</td>\n",
       "      <td>Town Mini-Figures</td>\n",
       "      <td>1978</td>\n",
       "      <td>84</td>\n",
       "      <td>12</td>\n",
       "    </tr>\n",
       "    <tr>\n",
       "      <th>2</th>\n",
       "      <td>0011-3</td>\n",
       "      <td>Castle 2 for 1 Bonus Offer</td>\n",
       "      <td>1987</td>\n",
       "      <td>199</td>\n",
       "      <td>2</td>\n",
       "    </tr>\n",
       "    <tr>\n",
       "      <th>3</th>\n",
       "      <td>0012-1</td>\n",
       "      <td>Space Mini-Figures</td>\n",
       "      <td>1979</td>\n",
       "      <td>143</td>\n",
       "      <td>12</td>\n",
       "    </tr>\n",
       "    <tr>\n",
       "      <th>4</th>\n",
       "      <td>0013-1</td>\n",
       "      <td>Space Mini-Figures</td>\n",
       "      <td>1979</td>\n",
       "      <td>143</td>\n",
       "      <td>12</td>\n",
       "    </tr>\n",
       "  </tbody>\n",
       "</table>\n",
       "</div>"
      ],
      "text/plain": [
       "  set_num                        name  year  theme_id  num_parts\n",
       "0    00-1             Weetabix Castle  1970       414        471\n",
       "1  0011-2           Town Mini-Figures  1978        84         12\n",
       "2  0011-3  Castle 2 for 1 Bonus Offer  1987       199          2\n",
       "3  0012-1          Space Mini-Figures  1979       143         12\n",
       "4  0013-1          Space Mini-Figures  1979       143         12"
      ]
     },
     "execution_count": 82,
     "metadata": {},
     "output_type": "execute_result"
    }
   ],
   "source": [
    "dataframes['sets'].head()"
   ]
  },
  {
   "cell_type": "code",
   "execution_count": 83,
   "metadata": {
    "slideshow": {
     "slide_type": "fragment"
    }
   },
   "outputs": [],
   "source": [
    "lego_set = dataframes['sets']"
   ]
  },
  {
   "cell_type": "code",
   "execution_count": 84,
   "metadata": {
    "slideshow": {
     "slide_type": "fragment"
    }
   },
   "outputs": [
    {
     "data": {
      "text/html": [
       "<div>\n",
       "<style scoped>\n",
       "    .dataframe tbody tr th:only-of-type {\n",
       "        vertical-align: middle;\n",
       "    }\n",
       "\n",
       "    .dataframe tbody tr th {\n",
       "        vertical-align: top;\n",
       "    }\n",
       "\n",
       "    .dataframe thead th {\n",
       "        text-align: right;\n",
       "    }\n",
       "</style>\n",
       "<table border=\"1\" class=\"dataframe\">\n",
       "  <thead>\n",
       "    <tr style=\"text-align: right;\">\n",
       "      <th></th>\n",
       "      <th>num_parts</th>\n",
       "    </tr>\n",
       "  </thead>\n",
       "  <tbody>\n",
       "    <tr>\n",
       "      <th>count</th>\n",
       "      <td>11673.0</td>\n",
       "    </tr>\n",
       "    <tr>\n",
       "      <th>mean</th>\n",
       "      <td>162.0</td>\n",
       "    </tr>\n",
       "    <tr>\n",
       "      <th>std</th>\n",
       "      <td>330.0</td>\n",
       "    </tr>\n",
       "    <tr>\n",
       "      <th>min</th>\n",
       "      <td>-1.0</td>\n",
       "    </tr>\n",
       "    <tr>\n",
       "      <th>25%</th>\n",
       "      <td>10.0</td>\n",
       "    </tr>\n",
       "    <tr>\n",
       "      <th>50%</th>\n",
       "      <td>45.0</td>\n",
       "    </tr>\n",
       "    <tr>\n",
       "      <th>75%</th>\n",
       "      <td>172.0</td>\n",
       "    </tr>\n",
       "    <tr>\n",
       "      <th>max</th>\n",
       "      <td>5922.0</td>\n",
       "    </tr>\n",
       "  </tbody>\n",
       "</table>\n",
       "</div>"
      ],
      "text/plain": [
       "       num_parts\n",
       "count    11673.0\n",
       "mean       162.0\n",
       "std        330.0\n",
       "min         -1.0\n",
       "25%         10.0\n",
       "50%         45.0\n",
       "75%        172.0\n",
       "max       5922.0"
      ]
     },
     "execution_count": 84,
     "metadata": {},
     "output_type": "execute_result"
    }
   ],
   "source": [
    "num_parts = pd.DataFrame(dataframes['sets'][\"num_parts\"])\n",
    "round(num_parts.describe())"
   ]
  },
  {
   "cell_type": "code",
   "execution_count": 85,
   "metadata": {
    "slideshow": {
     "slide_type": "fragment"
    }
   },
   "outputs": [
    {
     "data": {
      "text/html": [
       "<div>\n",
       "<style scoped>\n",
       "    .dataframe tbody tr th:only-of-type {\n",
       "        vertical-align: middle;\n",
       "    }\n",
       "\n",
       "    .dataframe tbody tr th {\n",
       "        vertical-align: top;\n",
       "    }\n",
       "\n",
       "    .dataframe thead th {\n",
       "        text-align: right;\n",
       "    }\n",
       "</style>\n",
       "<table border=\"1\" class=\"dataframe\">\n",
       "  <thead>\n",
       "    <tr style=\"text-align: right;\">\n",
       "      <th></th>\n",
       "      <th>num_parts</th>\n",
       "    </tr>\n",
       "  </thead>\n",
       "  <tbody>\n",
       "    <tr>\n",
       "      <th>count</th>\n",
       "      <td>10912.0</td>\n",
       "    </tr>\n",
       "    <tr>\n",
       "      <th>mean</th>\n",
       "      <td>174.0</td>\n",
       "    </tr>\n",
       "    <tr>\n",
       "      <th>std</th>\n",
       "      <td>339.0</td>\n",
       "    </tr>\n",
       "    <tr>\n",
       "      <th>min</th>\n",
       "      <td>2.0</td>\n",
       "    </tr>\n",
       "    <tr>\n",
       "      <th>25%</th>\n",
       "      <td>16.0</td>\n",
       "    </tr>\n",
       "    <tr>\n",
       "      <th>50%</th>\n",
       "      <td>51.0</td>\n",
       "    </tr>\n",
       "    <tr>\n",
       "      <th>75%</th>\n",
       "      <td>189.0</td>\n",
       "    </tr>\n",
       "    <tr>\n",
       "      <th>max</th>\n",
       "      <td>5922.0</td>\n",
       "    </tr>\n",
       "  </tbody>\n",
       "</table>\n",
       "</div>"
      ],
      "text/plain": [
       "       num_parts\n",
       "count    10912.0\n",
       "mean       174.0\n",
       "std        339.0\n",
       "min          2.0\n",
       "25%         16.0\n",
       "50%         51.0\n",
       "75%        189.0\n",
       "max       5922.0"
      ]
     },
     "execution_count": 85,
     "metadata": {},
     "output_type": "execute_result"
    }
   ],
   "source": [
    "two_pieces_and_above = pd.DataFrame(lego_set[lego_set['num_parts']>=2]['num_parts']) #defining a set as 2 pieces and above\n",
    "round(two_pieces_and_above.describe())"
   ]
  },
  {
   "cell_type": "code",
   "execution_count": 86,
   "metadata": {
    "slideshow": {
     "slide_type": "slide"
    }
   },
   "outputs": [
    {
     "data": {
      "image/png": "[encoded data removed]",
      "text/plain": [
       "<Figure size 640x480 with 1 Axes>"
      ]
     },
     "metadata": {},
     "output_type": "display_data"
    }
   ],
   "source": [
    "plt.hist(two_pieces_and_above, bins=15, range=(0,6000)) \n",
    "plt.xlabel('Number of Parts')\n",
    "plt.ylabel('Count')\n",
    "plt.title('Distribution of Number of Parts in Lego Sets')\n",
    "plt.show()"
   ]
  },
  {
   "cell_type": "code",
   "execution_count": 87,
   "metadata": {
    "slideshow": {
     "slide_type": "slide"
    }
   },
   "outputs": [
    {
     "data": {
      "text/html": [
       "<div>\n",
       "<style scoped>\n",
       "    .dataframe tbody tr th:only-of-type {\n",
       "        vertical-align: middle;\n",
       "    }\n",
       "\n",
       "    .dataframe tbody tr th {\n",
       "        vertical-align: top;\n",
       "    }\n",
       "\n",
       "    .dataframe thead th {\n",
       "        text-align: right;\n",
       "    }\n",
       "</style>\n",
       "<table border=\"1\" class=\"dataframe\">\n",
       "  <thead>\n",
       "    <tr style=\"text-align: right;\">\n",
       "      <th></th>\n",
       "      <th>year</th>\n",
       "      <th>count</th>\n",
       "    </tr>\n",
       "  </thead>\n",
       "  <tbody>\n",
       "    <tr>\n",
       "      <th>0</th>\n",
       "      <td>2014</td>\n",
       "      <td>614</td>\n",
       "    </tr>\n",
       "    <tr>\n",
       "      <th>1</th>\n",
       "      <td>2015</td>\n",
       "      <td>596</td>\n",
       "    </tr>\n",
       "    <tr>\n",
       "      <th>2</th>\n",
       "      <td>2016</td>\n",
       "      <td>580</td>\n",
       "    </tr>\n",
       "    <tr>\n",
       "      <th>3</th>\n",
       "      <td>2012</td>\n",
       "      <td>570</td>\n",
       "    </tr>\n",
       "    <tr>\n",
       "      <th>4</th>\n",
       "      <td>2013</td>\n",
       "      <td>542</td>\n",
       "    </tr>\n",
       "    <tr>\n",
       "      <th>...</th>\n",
       "      <td>...</td>\n",
       "      <td>...</td>\n",
       "    </tr>\n",
       "    <tr>\n",
       "      <th>61</th>\n",
       "      <td>1964</td>\n",
       "      <td>8</td>\n",
       "    </tr>\n",
       "    <tr>\n",
       "      <th>62</th>\n",
       "      <td>1950</td>\n",
       "      <td>7</td>\n",
       "    </tr>\n",
       "    <tr>\n",
       "      <th>63</th>\n",
       "      <td>1959</td>\n",
       "      <td>3</td>\n",
       "    </tr>\n",
       "    <tr>\n",
       "      <th>64</th>\n",
       "      <td>1953</td>\n",
       "      <td>3</td>\n",
       "    </tr>\n",
       "    <tr>\n",
       "      <th>65</th>\n",
       "      <td>1960</td>\n",
       "      <td>2</td>\n",
       "    </tr>\n",
       "  </tbody>\n",
       "</table>\n",
       "<p>66 rows × 2 columns</p>\n",
       "</div>"
      ],
      "text/plain": [
       "    year  count\n",
       "0   2014    614\n",
       "1   2015    596\n",
       "2   2016    580\n",
       "3   2012    570\n",
       "4   2013    542\n",
       "..   ...    ...\n",
       "61  1964      8\n",
       "62  1950      7\n",
       "63  1959      3\n",
       "64  1953      3\n",
       "65  1960      2\n",
       "\n",
       "[66 rows x 2 columns]"
      ]
     },
     "execution_count": 87,
     "metadata": {},
     "output_type": "execute_result"
    }
   ],
   "source": [
    "#distribution based on year\n",
    "set_year = pd.DataFrame(lego_set[lego_set['num_parts']>=2]['year'].value_counts())\n",
    "set_year.reset_index(inplace=True)\n",
    "set_year.columns = ['year', 'count']\n",
    "set_year"
   ]
  },
  {
   "cell_type": "code",
   "execution_count": 88,
   "metadata": {
    "slideshow": {
     "slide_type": "slide"
    }
   },
   "outputs": [
    {
     "data": {
      "image/png": "[encoded data removed]",
      "text/plain": [
       "<Figure size 640x480 with 1 Axes>"
      ]
     },
     "metadata": {},
     "output_type": "display_data"
    }
   ],
   "source": [
    "plt.scatter(set_year['year'], set_year['count'])\n",
    "plt.xlabel('Year')\n",
    "plt.ylabel('Number of Parts')\n",
    "plt.title('Number of Parts in a Set Throughout the Years')\n",
    "plt.grid(True)\n",
    "plt.show()"
   ]
  },
  {
   "cell_type": "code",
   "execution_count": 89,
   "metadata": {
    "slideshow": {
     "slide_type": "slide"
    }
   },
   "outputs": [
    {
     "name": "stdout",
     "output_type": "stream",
     "text": [
      "Average number of parts in a set is num_parts    174.0\n",
      "dtype: float64 pieces.\n"
     ]
    }
   ],
   "source": [
    "#Average number of parts in a set\n",
    "mean_piece = round(two_pieces_and_above.mean())\n",
    "print (f\"Average number of parts in a set is {mean_piece} pieces.\")"
   ]
  },
  {
   "cell_type": "code",
   "execution_count": null,
   "metadata": {
    "slideshow": {
     "slide_type": "skip"
    }
   },
   "outputs": [],
   "source": []
  }
 ],
 "metadata": {
  "kernelspec": {
   "display_name": "Python 3 (ipykernel)",
   "language": "python",
   "name": "python3"
  },
  "language_info": {
   "codemirror_mode": {
    "name": "ipython",
    "version": 3
   },
   "file_extension": ".py",
   "mimetype": "text/x-python",
   "name": "python",
   "nbconvert_exporter": "python",
   "pygments_lexer": "ipython3",
   "version": "3.11.4"
  }
 },
 "nbformat": 4,
 "nbformat_minor": 2
}
